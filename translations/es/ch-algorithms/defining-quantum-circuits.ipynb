{
  "cells": [
    {
      "cell_type": "markdown",
      "metadata": {
        "tags": [
          "remove_cell"
        ]
      },
      "source": [
        "# Circuitos Cuánticos"
      ]
    },
    {
      "cell_type": "markdown",
      "metadata": {
      },
      "source": [
        "## Contenido\n",
        "\n",
        "1. [Introducción](#intro)\n",
        "2. [¿Qué es un Circuito Cuántico?](#whatis)\n",
        "3. [Example: Quantum Teleportation](#teleportation)\n",
        "4. [Example: Variational Quantum Eigensolvers](#vqe)\n",
        "5. [¿Por qué las Partes Clásicas?](#why-classical)\n",
        "\n",
        "## 1. Introduction <a id=\"intro\"></a>\n",
        "\n",
        "So far, we have seen various [single-qubit](https://qiskit.org/textbook/ch-states/single-qubit-gates.html) and [multi-qubit](https://qiskit.org/textbook/ch-gates/introduction.html) gates. We have also seen how to use these gates in concert with other components to build quantum circuits.\n",
        "\n",
        "Antes de implementar algoritmos cuánticos en computadoras cuánticas reales, es importante resaltar la definición de un circuito cuántico en concreto, ya que construiremos circuitos cuánticos para implementar estos algoritmos.\n",
        "\n",
        "## 2. What is a Quantum Circuit? <a id=\"whatis\"></a>\n",
        "\n",
        "A quantum circuit is a computational routine consisting of *coherent quantum operations on quantum data, such as qubits, and concurrent real-time classical computation*. It is an ordered sequence of *quantum gates,* *measurements and resets,* all of which may be conditioned on and use data from the real-time classical computation.\n",
        "\n",
        "A set of quantum gates is said to be [universal](https://qiskit.org/textbook/ch-gates/proving-universality.html) if any unitary transformation of the quantum data can be efficiently approximated arbitrarily well as a sequence of gates in the set. Any quantum program can be represented by a sequence of quantum circuits and non-concurrent classical computation.\n",
        "\n",
        "## 3. Example: Quantum Teleportation <a id=\"teleportation\"></a>\n",
        "\n",
        "Take a look at the quantum circuit below. You will learn later in this chapter that it implements [the quantum teleportation algorithm](https://qiskit.org/textbook/ch-algorithms/teleportation.html). For now, it suffices to look at the components of the quantum circuit.\n",
        "\n",
        "![Teleportación Cuántica Etiquetada](images/teleportation_labelled.svg)\n",
        "\n",
        "El circuito cuántico utiliza tres qubits y dos bits clásicos. Hay cuatro componentes principales en este circuito cuántico.\n",
        "\n",
        "### Initialization and reset\n",
        "\n",
        "First, we need to start our quantum computation with a well-defined quantum state. This is achieved using the initialization and reset operations. The resets can be performed by a combination of single-qubit gates and concurrent real-time classical computation that monitors whether we have successfully created the desired state through measurements. The initialization of $q_0$ into a desired state $\\vert\\psi\\rangle$ can then follow by applying single-qubit gates.\n",
        "\n",
        "### Quantum gates\n",
        "\n",
        "Segundo, aplicamos una secuencia de compuertas cuánticas que manipulan los tres qubits según lo requiera el algoritmo de teleportación. En este caso, solo necesitamos aplicar compuertas Hadamard de un solo qubit ($H$) y compuertas de dos qubits X Controladas ($\\oplus$).\n",
        "\n",
        "### Mediciones\n",
        "\n",
        "Third, we measure two of the three qubits. A classical computer interprets the measurements of each qubit as classical outcomes (0 and 1) and stores them in the two classical bits.\n",
        "\n",
        "### Compuertas cuánticas condicionadas de manera clásica\n",
        "\n",
        "Fourth, we apply single-qubit $Z$ and $X$ quantum gates on the third qubit. These gates are conditioned on the results of the measurements that are stored in the two classical bits. In this case, we are using the results of the classical computation concurrently in real-time within the same quantum circuit."
      ]
    },
    {
      "cell_type": "markdown",
      "metadata": {
      },
      "source": [
        "## 4. Example: Variational Quantum Eigensolvers <a id=\"vqe\"></a>\n",
        "\n",
        "Here is an example of a quantum program. You will learn in following chapters that it implements a [variational quantum eigensolver](https://qiskit.org/textbook/ch-applications/vqe-molecules.html). In this program, a classical computer works *non-concurrently* in concert with a quantum computer.\n",
        "\n",
        "![Variational Quantum Eigensolver Labeled](images/vqe-labeled.png)\n",
        "\n",
        "### El bloque cuántico\n",
        "\n",
        "As with the quantum teleportation example above, a quantum state $\\vert\\Psi(\\theta)\\rangle$ is prepared by a combination of resets with single- and multi-qubit quantum gates. Here, the parameters of the state are parameterized using the quantity $\\theta$. Once prepared, the quantum state is then manipulated using quantum gates and measured. All of the operations within the quantum block consist of quantum circuits.\n",
        "\n",
        "### El bloque clásico\n",
        "\n",
        "Once the quantum state has been measured, a classical computer interprets those measurement outcomes and computes their cost using a cost function that has been chosen for the intended application. Based on this cost, the classical computer determines another value for the parameter $\\theta$.\n",
        "\n",
        "### Operación combinada\n",
        "\n",
        "Once the classical computer determines the next parameter for $\\theta$, a sequence of resets, single- and multi-qubit quantum gates are used in a quantum circuit to prepare $\\vert\\Psi(\\theta)\\rangle$, and this process continues until the cost of the measured quantum states stabilizes, or until another pre-determined outcome is met."
      ]
    },
    {
      "cell_type": "markdown",
      "metadata": {
      },
      "source": [
        "## 5. Why the Classical Parts? <a id=\"why-classical\"></a>\n",
        "\n",
        "Si bien una computadora cuántica universal puede hacer cualquier cosa que pueda hacer cualquier computadora clásica, a menudo agregamos partes clásicas a nuestros circuitos cuánticos porque los estados cuánticos son frágiles.\n",
        "\n",
        "Cuando medimos el qubit, colapsamos su estado y destruimos mucha información. Dado que toda medición destruye información, en teoría siempre podemos medir en última instancia y no perder ninguna ventaja computacional. En realidad, la medición temprana ofrece muchas ventajas prácticas.\n",
        "\n",
        "For example, in the teleportation circuit, we measure the qubits so we can send the information over classical channels instead of quantum channels. The advantage is that classical channels are very stable, while we don’t really have a way of sending quantum information to other people since the channels are so difficult to create.\n",
        "\n",
        "En el ejemplo del solucionador propio cuántico variacional, dividir el cálculo en cálculos cuánticos más pequeños en realidad nos hace perder cierta ventaja computacional, pero compensa esto en hardware ruidoso al reducir el tiempo que nuestros qubits están en superposición. Esto significa que hay menos posibilidades de que la interferencia introduzca imprecisiones en nuestros resultados.\n",
        "\n",
        "Finalmente, para usar los resultados de nuestro cálculo cuántico en nuestro mundo cotidiano clásico, necesitamos medir e interpretar estos estados al final del mismo.\n"
      ]
    }
  ],
  "metadata": {
    "kernelspec": {
      "display_name": "Python 3",
      "language": "python",
      "name": "python3"
    },
    "language_info": {
      "codemirror_mode": {
        "name": "ipython",
        "version": 3
      },
      "file_extension": ".py",
      "mimetype": "text/x-python",
      "name": "python",
      "nbconvert_exporter": "python",
      "pygments_lexer": "ipython3",
      "version": "3.9"
    }
  },
  "nbformat": 4,
  "nbformat_minor": 2
}
