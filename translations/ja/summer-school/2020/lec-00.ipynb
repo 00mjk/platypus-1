{
  "cells": [
    {
      "cell_type": "markdown",
      "id": "c95872fa",
      "metadata": {
      },
      "source": [
        "# 量子ビット、量子状態、量子回路およびその測定\n",
        "\n",
        "Lectures 1 – 6 provide an introduction to quantum computing and quantum algorithms using quantum circuits. The emphasis here is on understanding how to work with quantum states, and operate on them using quantum circuits.\n",
        "\n",
        "- Download the lecture notes [here](https://github.com/qiskit-community/intro-to-quantum-computing-and-quantum-hardware/blob/master/lectures/introqcqh-lecture-notes-1.pdf?raw=true)\n",
        "- [こちら](https://github.com/qiskit-community/intro-to-quantum-computing-and-quantum-hardware/blob/master/labs/introqcqh-lab-1.zip?raw=true)から最後の3つの講義についての実験用のノートブック(と解答)をダウンロードしてください\n",
        "\n",
        "<div class=\"youtube-wrapper\"><iframe src=\"https://www.youtube.com/embed/NZD9APb7ZtY\" title=\"YouTube video player\" frameborder=\"0\" allow=\"accelerometer; autoplay; clipboard-write; encrypted-media; gyroscope; picture-in-picture\" allowfullscreen></iframe></div>\n",
        "\n",
        "<div class=\"youtube-wrapper\"><iframe src=\"https://www.youtube.com/embed/SlZoTjkPy7o\" title=\"YouTube video player\" frameborder=\"0\" allow=\"accelerometer; autoplay; clipboard-write; encrypted-media; gyroscope; picture-in-picture\" allowfullscreen></iframe></div>\n",
        "\n",
        "<div class=\"youtube-wrapper\"><iframe src=\"https://www.youtube.com/embed/9MpSQglnqI0\" title=\"YouTube video player\" frameborder=\"0\" allow=\"accelerometer; autoplay; clipboard-write; encrypted-media; gyroscope; picture-in-picture\" allowfullscreen></iframe></div>\n"
      ]
    }
  ],
  "metadata": {
    "kernelspec": {
      "display_name": "Python 3",
      "language": "python",
      "name": "python3"
    },
    "language_info": {
      "codemirror_mode": {
        "name": "ipython",
        "version": 3
      },
      "file_extension": ".py",
      "mimetype": "text/x-python",
      "name": "python",
      "nbconvert_exporter": "python",
      "pygments_lexer": "ipython3",
      "version": "3.9"
    }
  },
  "nbformat": 4,
  "nbformat_minor": 5
}
