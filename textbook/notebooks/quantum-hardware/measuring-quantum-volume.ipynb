{
 "cells": [
  {
   "cell_type": "markdown",
   "metadata": {
    "tags": [
     "remove_cell"
    ]
   },
   "source": [
    "# Measuring Quantum Volume\n",
    "\n",
    "![hero:quantum volume](images/quantum_volume.png)\n"
   ]
  },
  {
   "cell_type": "markdown",
   "metadata": {
    "gloss": {
     "quantumadvantage": {
      "text": "Quantum advantage is a term used to refer to the ability for a quantum computer to perform computations beyond that which a classical computer can perform.",
      "title": "quantum advantage"
     },
     "transpiler": {
      "text": "A transpiler converts a quantum circuit to fit the physical layout of a particular quantum device.",
      "title": "transpiler"
     }
    }
   },
   "source": [
    "## Why quantum volume?\n",
    "\n",
    "Comparing different quantum computers is not an easy task. There are many different factors that affect the performance of a quantum computer and it’s not always clear which factors will have the biggest effect when doing useful quantum computations.\n",
    "\n",
    "Say you were designing your quantum computer: Would you trade higher fidelity gates (with less errors) for reduced qubit connectivity (requiring longer circuits)? Maybe you have a great [transpiler](gloss:transpiler) that can organise the swaps so reduced connectivity isn’t as much of an issue, or maybe the readout errors are so high that any improvement in gate fidelity is negligible anyway? We can add each of these statistics to our quantum computer scorecard, but the exact importance of each element is up for debate. Additionally, even if we scored highly at each individual metric, there could still be other unforeseen problems that arise when running quantum circuits.\n",
    "\n",
    "One thing is certain, we need many qubits and the ability to manipulate them precisely in order to achieve a [quantum advantage](gloss:quantumadvantage). If we do not have enough qubits, we cannot do any useful computations, and if these qubits are not precise or reliable enough, then our measurements will be meaningless.\n"
   ]
  },
  {
   "cell_type": "markdown",
   "metadata": {},
   "source": [
    "::: .tabset\n",
    "\n",
    "## What affects computing power?\n",
    "\n",
    "\n",
    "::: tab\n",
    "\n",
    "### Qubit count\n",
    "\n",
    "**Number of qubits (more is better)**\n",
    "\n",
    "The number of qubits in our quantum computer sets an upper limit on the power of the computations it can do. To gain advantage over classical computers, we want to be able to entangle as many qubits as possible.\n",
    "\n",
    "![](images/qubit_count.png)\n",
    "\n",
    "::: tab\n",
    "\n",
    "### Readout errors\n",
    "\n",
    "**Gate and readout errors (less is better)**\n",
    "\n",
    "As mentioned above, the errors in our quantum computer also set an upper limit on the power of our quantum computer. If we can’t reliably manipulate our quantum states, then we’re not going to get meaningful results from our quantum computer.\n",
    "\n",
    "    figure: x-img(src=\"images/readout_errors.png\" width=194 height=197)\n",
    "\n",
    "::: tab\n",
    "\n",
    "### Connectivity\n",
    "\n",
    "**Qubit-Qubit connectivity (more is better)**\n",
    "\n",
    "If two qubits cannot communicate directly, we need to add extra ‘swap’ gates to move them to the right place, increasing the length of our computation. Quantum volume circuits assume full connectivity, so if you need to insert extra swap gates, that’s on you!\n",
    "\n",
    "    figure: x-img(src=\"images/connectivity.png\" width=199 height=189)\n",
    "\n",
    "::: tab\n",
    "\n",
    "### Gate set\n",
    "\n",
    "**Gate set (larger / more powerful is better)**\n",
    "\n",
    "Quantum volume asks for random two-qubit gates, but working out how to implement them is also on you. If your hardware supports more gates, you’re more likely to get decent results.\n",
    "\n",
    "    figure: x-img(src=\"images/gate_set.png\" width=302 height=140)\n",
    "\n",
    "::: tab\n",
    "\n",
    "### Software stack\n",
    "\n",
    "**Compilers and software stack (more intelligent is better)**\n",
    "\n",
    "Some of the other problems (inserting extra swap gates, creating the specified gates from your available gate set, and dealing with noise) can be mitigated using intelligent classical software such as the transpiler.\n",
    "\n",
    "    figure: x-img(src=\"images/software_stack.png\" width=308 height=150)\n",
    "\n",
    ":::\n",
    "\n",
    ":::\n"
   ]
  },
  {
   "cell_type": "markdown",
   "metadata": {},
   "source": [
    "This is where quantum volume comes in. Quantum volume is a holistic benchmark, instead of looking at the details, we simply measure how good the quantum computer is at doing the thing we want it to do: Executing quantum circuits. The quantum volume test creates randomized circuits to a specification, and the ‘score’ of the quantum computer increases with the size of the circuit it can reliably execute.\n",
    "\n",
    "In this chapter, we will learn:\n",
    "\n",
    "1.\tWhat quantum volume is.\n",
    "2.\tHow to create a random square circuit.\n",
    "3.\tHow to see if a device can achieve a certain quantum volume.\n",
    "4.\tHow to use Qiskit’s tools to make this easier for us.\n"
   ]
  },
  {
   "cell_type": "markdown",
   "metadata": {},
   "source": [
    "## What is Quantum Volume?\n",
    "\n",
    "Quantum volume (QV) is a single-number metric used to measure the power of a quantum computer. It’s used for near-term devices with a modest number of qubits, and measures the largest random circuit of equal depth and width that can be reliably executed.\n"
   ]
  },
  {
   "cell_type": "markdown",
   "metadata": {},
   "source": [
    "::: .tabset.demo\n",
    "\n",
    "## Visual demo\n",
    "\n",
    "::: tab\n",
    "\n",
    "![vue:what-is-quantum-volume](images/quantum_volume_2.png)\n",
    "\n",
    ":::\n",
    "\n",
    ":::\n"
   ]
  },
  {
   "cell_type": "code",
   "execution_count": null,
   "metadata": {},
   "outputs": [],
   "source": []
  },
  {
   "cell_type": "code",
   "execution_count": null,
   "metadata": {},
   "outputs": [],
   "source": []
  }
 ],
 "metadata": {
  "celltoolbar": "Edit Metadata",
  "kernelspec": {
   "display_name": "Python 3",
   "language": "python",
   "name": "python3"
  },
  "language_info": {
   "codemirror_mode": {
    "name": "ipython",
    "version": 3
   },
   "file_extension": ".py",
   "mimetype": "text/x-python",
   "name": "python",
   "nbconvert_exporter": "python",
   "pygments_lexer": "ipython3",
   "version": "3.7.0"
  }
 },
 "nbformat": 4,
 "nbformat_minor": 2
}
