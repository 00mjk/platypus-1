{
 "cells": [
  {
   "attachments": {},
   "cell_type": "markdown",
   "id": "a712a565",
   "metadata": {},
   "source": [
    "# Quantum Boltzmann Machine \n",
    "\n",
    "In this section we will introduce a probabilistic model such as the Boltzmann Machine in its quantum version, which generates a distribution P(x) from a set of between-samples and can generate new samples.\n",
    "\n",
    "\n",
    "##  Introduction\n",
    " \n",
    "One focus of machine learning is probabilistic modeling, in which a probability distribution is obtained from a finite set of samples. If the training process is successful, the learned distribution P(x) has sufficient similarity to the actual distribution of the data that it can make correct predictions about unknown situations. Depending on the details of the distributions and the approximation technique, machine learning can be used to perform classification, clustering, compression, denoising, inpainting, or other tasks 1(#References). In recent years the popularity of different applications using quantum computing has increased, this tutorial is based on generating one of the machine learning models in order to facilitate training. The purpose of this tutorial is to explain a probabilistic model based on the Boltzmann distribution, i.e. a Quantum Boltzmann Machine (QBM).\n",
    "\n",
    "    \n",
    "##  Classical Boltzmann Machines\n",
    "\n",
    " \n",
    "Boltzmann Machines (BMs) offer a powerful framework for modelling probability distributions. These types of neural networks use an undirected graph structure to encode relevant information. More precisely,the respective information is stored in bias coefficients and connection weights of network nodes, which are typically related to binary spin-systems and grouped into those that determine the output, the visible nodes, and those that act as latent variables, the hidden nodes 1],[2(#References). \n",
    "\n",
    "    \n",
    "    \n",
    "###   Applications\n",
    "\n",
    "Applications have been studied in a large variety of domains such as the analysis of quantum manybody systems, statistics, biochemistry, social networks, signal processing and finance [2](#References).\n",
    "\n",
    "Widget: Carousel \n",
    "For this section we can add the Carousel widget, to explain the applications.    \n",
    " \n",
    "\n",
    "\n",
    "##  Quantum Boltzmann Machine \n",
    "\n",
    "Quantum Boltzmann Machines (QBMs) 1(#References) are a natural adaption of BMs to the quantum computing framework. Instead of an energy function with nodes being\n",
    "\n",
    "\n",
    "**TODO: Image: `scheme_QBM.png`**\n",
    "\n",
    "Figure 1. General structure of a QBM.\n",
    "\n",
    "\n",
    "Quantum Boltzmann Machines (QBMs) are a natural adaption of BMs to the quantum computing framework. Instead of an energy function with nodes being represented by binary spin values, QBMs define the underlying network using a Hermitian operator, a parameterized Hamiltonian\n",
    "\n",
    "**TODO: Image: `QBM-2.png`**\n",
    "Figure 2. Scheme of the all procces of the QBM  3(#References). \n",
    "\n",
    "\n",
    "\n",
    "\n",
    "## Implementation\n",
    "\n",
    " \n",
    "This example is based on the following article : *Benedetti, M., Garcia-Pintos, D., Perdomo, O. et al. A generative modeling approach for benchmarking and training shallow quantum circuits. npj Quantum Inf 5, 45 (2019). https://doi.org/10.1038/s41534-019-0157-8*\n",
    "\n",
    "To begin this Tutorial we must call the necessary methods to generate circuits and that can be variational as is the case of the class [ParameterVector](https://qiskit.org/documentation/stubs/qiskit.circuit.ParameterVector.html).\n"
   ]
  },
  {
   "cell_type": "code",
   "execution_count": null,
   "id": "cb221d74",
   "metadata": {},
   "outputs": [],
   "source": [
    "# Qiskit libraries \n",
    "# Basic classes for generating quantum circuits\n",
    "from qiskit import QuantumCircuit, Aer, IBMQ, execute, QuantumRegister, ClassicalRegister\n",
    "\n",
    "#Class to work with Quantum Variational Circuits\n",
    "from qiskit.circuit import ParameterVector\n",
    "\n",
    "#Classes to work with three optimizers\n",
    "from qiskit.algorithms.optimizers import NELDER_MEAD, SPSA, COBYLA\n",
    "\n",
    "#Classes to work with plots\n",
    "from qiskit.tools.jupyter import *\n",
    "from qiskit.visualization import *\n",
    "\n",
    "#numpy \n",
    "import numpy as np\n",
    "\n",
    "#Extra graph libraries\n",
    "import matplotlib.pyplot as plt\n",
    "import seaborn as sns\n",
    "sns.set_theme()"
   ]
  },
  {
   "attachments": {},
   "cell_type": "markdown",
   "id": "bae6c3e1",
   "metadata": {},
   "source": [
    "###   Dataset\n",
    "\n",
    "Considering the Bars and Stripes (or BAS) dataset, which is composed of binary images of size 2x2, for this tutorial only a subset that is enclosed in a circle is used, as follows\n",
    "\n",
    "**TODO: Image: `dataset-2.png`**\n",
    "  Figure 3. BAS dataset. \n",
    "\n"
   ]
  },
  {
   "attachments": {},
   "cell_type": "markdown",
   "id": "07082ab4",
   "metadata": {},
   "source": [
    "\n",
    "###   Mapping image to qubits\n",
    "\n",
    "There are various ways of mapping values to qubits as we saw in the Data Encoding section, as these are binary images, i.e. they can only take 2 values, black-white,0-255, 0-1.To work on the quantum computer, the Basis Encoding method will be used to convert images into states, i.e. each pixel is represented as a qubit, being as described in the following figure\n",
    "\n",
    "**TODO: Image: `map_reference-2.png`**\n",
    "\n",
    "Figure 4. Image to quantum state.\n",
    "\n",
    "\n",
    "now consider the next conditions:\n",
    "- if the pixel is white, then the qubit value state is 0,\n",
    "- if the pixel is Black, then the qubit value state is 1.\n",
    "\n",
    "For example in Figure 4, the image of size $2 \\times 2$ can be rewritten into a matrix\n",
    "\n",
    "$$\\begin{pmatrix}\n",
    " c_0r_0 & c_0r_1\\\\\n",
    " c_1r_0 & x_1r_1\n",
    "\\end{pmatrix}.  (1)$$\n",
    "\n",
    "\n",
    "Based on the conditions, it can be seen that for the pixel at position $c_0r_0$  is white, and this is equivalent to the qubit $|q_0\\rangle$, then its state value is $|0\\rangle$; this logic is performed with pixels $c_0r_1$,$c_1r_0$,$c_1r_1$ which are the qubits $|q_1\\rangle,|q_2\\rangle,|q_3\\rangle$ respectively, as they are all white color their  state would be $|0\\rangle$ for all of them. The result is the quantum state $|0000\\rangle$ of the 4 qubits.\n",
    "\n",
    "\n",
    "\n",
    "\n",
    "Performing this process for each of the images of the subset would look like this"
   ]
  },
  {
   "attachments": {},
   "cell_type": "markdown",
   "id": "f0191857",
   "metadata": {},
   "source": [
    "\n",
    "**TODO: Image: `image2qubits.png`**\n",
    "\n",
    "Figura 5. Mapping the size in qubits.\n",
    "\n",
    "\n",
    "in total are six quantum states, this can be rewritten as the linear combination, for this purpose it is necessary to consider the characteristic that \n",
    "\n",
    "$$\\sum_{i=0}^{2^n} | \\alpha_i |^2 = 1  \\text{  (2)}$$ \n",
    "\n",
    "where $n$ is the number of the qubits and $\\alpha_i \\in \\mathbb{C}$ are the scalar values of each state, for this case we consider them purely real, and as each state has the same probability of being measured the following quantum state remains  $|\\psi\\rangle$,\n",
    "\n",
    "$$|\\psi \\rangle =  |\\frac{1}{\\sqrt{6}} (|0000\\rangle+|0011\\rangle+|0101\\rangle+|1010\\rangle+|1100\\rangle+|1111\\rangle)$$\n",
    "\n",
    " which represents a probability distribution $P(x)$.\n",
    " \n",
    " \n",
    "**Note:**\n",
    " \n",
    "Check that each  quantum state representate a binary number and that in a decimal value, i.e.:\n",
    "\n",
    "- $|0000 \\rangle => 0000 = 0$\n",
    "- $|0011 \\rangle => 0011 = 3$ \n",
    "- $|0101 \\rangle => 0101 = 5$ \n",
    "- $|1010 \\rangle => 1010 = 10$ \n",
    "- $|1100 \\rangle => 1100 = 12$ \n",
    "- $|1111 \\rangle => 1111 = 15$ \n",
    " \n",
    " \n",
    "Widget: Binary Demo \n",
    "For this section we can add the Binary Demo widget, to help you map images to qubits.    \n",
    " \n",
    "\n",
    "Question  What happens if we use other state of interes with image of size 3x3?  \n",
    "\n",
    "\n",
    "Starting $P(x)$ with the variable **px_output**, to generate the equivalent state it is necessary that"
   ]
  },
  {
   "cell_type": "code",
   "execution_count": null,
   "id": "d899ad81",
   "metadata": {},
   "outputs": [],
   "source": [
    "num_qubits = 4 # number of qubits\n",
    "init_list = [0,3,5,10,12,15]  #list of indeces of interest \n",
    "len_sv = int(num_qubits**2) #the lenght of the statevector \n",
    "px_output = np.zeros(len_sv) #init the statevector with zeros of size num_qubits^2\n",
    "\n",
    "for init_value in init_list: #identify the index of each statevector of interest\n",
    "    px_output[init_value] = 1/np.sqrt(len(init_list)) #normalize the statevector\n",
    "\n",
    "px_output #print if is correct  \n",
    "\n",
    "#px_output = [1,0,0,1,0,1,0,0,0,0,1,0,1,0,0,1]/16 expect output"
   ]
  },
  {
   "cell_type": "markdown",
   "id": "72b12b66",
   "metadata": {},
   "source": [
    "it is important to prove that the state vector satisfies the characteristics of eq(2), this is possible if we use the next line "
   ]
  },
  {
   "cell_type": "code",
   "execution_count": null,
   "id": "4f4db30f",
   "metadata": {},
   "outputs": [],
   "source": [
    "np.sum(px_output**2) ##  is equivalente to | \\alpha_i |^2"
   ]
  },
  {
   "cell_type": "markdown",
   "id": "41fad96c",
   "metadata": {},
   "source": [
    "In order to use the plot_histogram [plot_histogram](https://qiskit.org/documentation/stubs/qiskit.visualization.plot_histogram.html) method, it is important to convert the state vector from a list to a dictionary. and save in the variable   **dict_px_output**"
   ]
  },
  {
   "cell_type": "code",
   "execution_count": null,
   "id": "81410194",
   "metadata": {},
   "outputs": [],
   "source": [
    "## for use the methods plot_histogram is required use a dictionary\n",
    "\n",
    "dict_px_output = {}  # the dict variable for the plot_hidtogram \n",
    "\n",
    "for elements in  zip(px_output, range(int(num_qubits**2)) ): #did a iteration with the list values and its index\n",
    "    key = (bin(elements[1])[2:]) #obtain the bin number with the format 0b000, with [:2] remove the values 0b\n",
    "    while len(key) < num_qubits: # all the keys needs the same lenght that is equal to number of qubits\n",
    "        key = \"0\"+key            #add 0 in case the lenght is less than number of qubits  \n",
    "    dict_px_output[key] = elements[0]  # mapping the index value in a bin number and into a key for the fict"
   ]
  },
  {
   "cell_type": "markdown",
   "id": "8877843a",
   "metadata": {},
   "source": [
    "The result must be a uniform distribution for the 6 states: **0000, 0011, 0101, 1010, 1100, 1111**, otherwise it is 0, the probability can be obtained from the following expression $|\\frac{1}{6}|^2 = \\frac{1}{6} =0.167 $."
   ]
  },
  {
   "cell_type": "code",
   "execution_count": null,
   "id": "b9d3a193",
   "metadata": {},
   "outputs": [],
   "source": [
    "plot_histogram(dict_px_output, title='p(x) of the QBM') #plot the distribution of interest"
   ]
  },
  {
   "cell_type": "markdown",
   "id": "65ac127b",
   "metadata": {},
   "source": [
    "###   Design a Variational Quantum Circuit (Layer)\n",
    "\n",
    "The QBM design based on [3](#References) requires a Variational Quantum Circuit or [ansatz](https://qiskit.org/documentation/tutorials/circuits_advanced/01_advanced_circuits.html) that we can name as a layer and this can be repeated L times in order to obtain the desired distribution, in our case of **px_output**.\n",
    "\n",
    "Qiskit has some ansatz already implemented as is the case of [RealAmplitudes](https://qiskit.org/documentation/stubs/qiskit.circuit.library.RealAmplitudes.html), for this method requires the parameters number of qubits and the number of repetitions or *L* number of layers."
   ]
  },
  {
   "cell_type": "code",
   "execution_count": null,
   "id": "eaaf075b",
   "metadata": {},
   "outputs": [],
   "source": [
    "# import for the ansatz is in circuit.library from qiskit\n",
    "from qiskit.circuit.library import RealAmplitudes\n",
    "\n",
    "#this ansatz only need the number of the qubits  and the repetitions\n",
    "ansatz_example = RealAmplitudes(num_qubits, reps=1) \n",
    "\n",
    "ansatz_example.draw(\"mpl\")"
   ]
  },
  {
   "cell_type": "markdown",
   "id": "845dec16",
   "metadata": {},
   "source": [
    "It is important to know that there are other ansatz other than RealAmplitudes in Qiskit [here](https://qiskit.org/documentation/apidoc/circuit_library.html#n-local-circuits), except for this tutorial it will be based on an ansatz that follows the idea of the paper [3](#References),\"in this work, we use arbitrary single qubit rotations for the odd layers, and Mølmer-Sørensen XX gates for the even layers\", we need remark the paper works in a trapped ion architecture. Design the ansatzes must use [ParameterVector](https://qiskit.org/documentation/stubs/qiskit.circuit.ParameterVector.html) class, in order to generate gates that can vary their values.\n",
    "\n",
    "\n",
    "Question  What happens if we use a predefined ansatz for this problem?  "
   ]
  },
  {
   "cell_type": "code",
   "execution_count": null,
   "id": "34f0b903",
   "metadata": {},
   "outputs": [],
   "source": [
    "## Design any ansatz\n",
    "# In this work, we use arbitrary single qubit rotations for the odd layers, and Mølmer-Sørensen XX gates for the even layers\n",
    "#\n",
    "def ansatz_odd(n,parameters): # arbitrary single qubit rotations is the odd layer\n",
    "    qc = QuantumCircuit(n) \n",
    "    \n",
    "    for i in range(n):\n",
    "        qc.u(parameters[3*i],parameters[1+(3*i)],parameters[2+(3*i)],i) #variable value for ry with the values parameters[i]\n",
    "    return qc\n",
    "\n",
    "def ansatz_even(n,parameters): # Mølmer-Sørensen XX gates for the even layer\n",
    "    qc = QuantumCircuit(n)\n",
    "    k = n//2\n",
    "    for i in range(k):\n",
    "        qc.rxx(parameters[i],i*2,(2*i)+1)\n",
    "    for i in range(k):\n",
    "        qc.rxx(parameters[i+k],k-i-1,k)\n",
    "    for i in range(k):\n",
    "        qc.rxx(parameters[i+k*2],k-i-1,k+1)\n",
    "\n",
    "    return qc"
   ]
  },
  {
   "cell_type": "markdown",
   "id": "b4138530",
   "metadata": {},
   "source": [
    "The odd layer is possible consider the arbitrary single qubit rotation has the form $U\\left(\\theta_{l}^{j}\\right)=R_{z}\\left(\\theta_{l}^{j, 1}\\right) R_{x}\\left(\\theta_{l}^{j, 2}\\right) R_{z}\\left(\\theta_{l}^{j, 3}\\right)$. This is possible if we use the [U gate](https://qiskit.org/documentation/stubs/qiskit.circuit.library.UGate.html), with a list of parameters."
   ]
  },
  {
   "cell_type": "code",
   "execution_count": null,
   "id": "d29ec5c9",
   "metadata": {},
   "outputs": [],
   "source": [
    "# depents of own design we can change the num_parameters value\n",
    "num_parameters_odd = 12 #how is 4 qubits we required 12 parametrs\n",
    "parameters_odd = ParameterVector('θ', num_parameters_odd) # define the vector θ\n",
    "\n",
    "ansatz_odd(num_qubits,parameters_odd).draw(\"mpl\") # draw own odd layer"
   ]
  },
  {
   "cell_type": "markdown",
   "id": "edfd9e6b",
   "metadata": {},
   "source": [
    "For the case of the even layer, MGS XX can be represented in [4](#References), it tells us that from the gate summation RXX($\\theta$) in all qubits of the quantum circuit we can obtain such a circuit."
   ]
  },
  {
   "cell_type": "code",
   "execution_count": null,
   "id": "495ec5c6",
   "metadata": {},
   "outputs": [],
   "source": [
    "num_parameters_even = 6 #how is 4 qubits we required 6 parametrs\n",
    "parameters_even = ParameterVector('θ', num_parameters_even) # define the vector θ\n",
    "\n",
    "ansatz_even(num_qubits,parameters_even).draw(\"mpl\") # draw own  even layer"
   ]
  },
  {
   "cell_type": "markdown",
   "id": "70a5c6de",
   "metadata": {},
   "source": [
    "####   Applying n layers\n",
    "\n",
    "Due to a Qiskit method in the QuantumCircuit object our both ansatz can be converted into a quantum gate and we can indicate the number of repeats with the variable **num_layers** that are required to fit the expected output distribution."
   ]
  },
  {
   "cell_type": "code",
   "execution_count": null,
   "id": "98bb154d",
   "metadata": {},
   "outputs": [],
   "source": [
    "## ansatz to quantum gate\n",
    "def gate_layer(n, params,flag):\n",
    "    if flag == 1:\n",
    "        parameters = ParameterVector('θ', num_parameters_odd)\n",
    "        qc = ansatz_odd(n,parameters) #call the odd layer\n",
    "    else:\n",
    "        parameters = ParameterVector('θ', num_parameters_even)\n",
    "        qc = ansatz_even(n,parameters) #call the even layer\n",
    "    params_dict = {}\n",
    "    j = 0\n",
    "    for p in parameters:\n",
    "        #The name of the value will be the string identifier and an integer specifying the vector length\n",
    "        params_dict[p] = params[j] \n",
    "        j += 1\n",
    "    #Assign parameters using the assign_parameters method\n",
    "    qc = qc.assign_parameters(parameters = params_dict)\n",
    "    qc_gate = qc.to_gate()\n",
    "    qc_gate.name = \"layer\" # To show when we display the circuit\n",
    "    return qc_gate #return a quantum gate\n"
   ]
  },
  {
   "cell_type": "markdown",
   "id": "b96d1249",
   "metadata": {},
   "source": [
    "We are going to make a quantum circuit with 3 layers, at the same time it is important to consider that there are two gates that are interleaved for each layer and these have different amount of parameters, so we look for the one that has more of these, i.e. \n",
    "```max(paremers_odd,parameters_even)```, and that only the necessary ones are read per layer."
   ]
  },
  {
   "cell_type": "code",
   "execution_count": null,
   "id": "53a3d45e",
   "metadata": {},
   "outputs": [],
   "source": [
    "# example of a quantum circuit\n",
    "\n",
    "num_layers = 3\n",
    "list_n = range(num_qubits)\n",
    "\n",
    "num_layers\n",
    "\n",
    "num_parameters = max(num_parameters_odd,num_parameters_even)\n",
    "\n",
    "params = np.random.random([num_layers*num_parameters]) #all the parameters\n",
    "qc_gate = QuantumCircuit(num_qubits)\n",
    "\n",
    "\n",
    "for i in range(len(params)//num_parameters):\n",
    "    #apply a function to consider m layers\n",
    "    qc_gate.append(gate_layer(num_qubits,params[num_parameters*i:num_parameters*(i+1)],(i+1)%2),list_n)\n",
    "    qc_gate.barrier()\n",
    "qc_gate.draw(\"mpl\")"
   ]
  },
  {
   "cell_type": "markdown",
   "id": "b7dd1c76",
   "metadata": {},
   "source": [
    "Widget: Layers circuit \n",
    "For this section you can add the Layers circuit widget, to support how we convert a circuit to a layer or quantum gate. "
   ]
  },
  {
   "cell_type": "markdown",
   "id": "60009cdb",
   "metadata": {},
   "source": [
    "In order to verify that they are interleaving we use the decompose() method, to see that the same circuit is repeated in layer 1 and layer 3, using the odd layer, and the second circuit is the even layer."
   ]
  },
  {
   "cell_type": "code",
   "execution_count": null,
   "id": "379499ba",
   "metadata": {},
   "outputs": [],
   "source": [
    "qc_gate.decompose().draw(\"mpl\")"
   ]
  },
  {
   "cell_type": "markdown",
   "id": "94f1aa57",
   "metadata": {},
   "source": [
    "Suggestion  play with the number of layers and see how is the draw output  "
   ]
  },
  {
   "attachments": {},
   "cell_type": "markdown",
   "id": "9feea699",
   "metadata": {},
   "source": [
    "###   Build all the algorithm\n",
    "\n",
    "At this point we have the data mapping process and the quantum circuit that represents the QBM, for this we need the optimization section and the cost function to be evaluated, for this we use the advantages of quantum computing in the model and the classical one in the optimization, as shown in Figure 6.\n",
    "\n",
    "\n",
    "**TODO: Image: `image1040.png`**\n",
    "\n",
    "Figure 6. Hybrid algorithm process."
   ]
  },
  {
   "cell_type": "markdown",
   "id": "68ddb052",
   "metadata": {},
   "source": [
    "####    Cost Function\n",
    "\n",
    "Consider the data set BAS, our goal is obtain an approximation to the target probability distribution **px_output** or $P(\\mathbf{x})$ . This is possible with a quantum circuit with gates parametrized by a vector $\\boldsymbol{\\theta}$,where the layer index $l$ runs from 0 to $d$, with $d$ the maximum depth of the quantum circuit [5](#References), prepares a wave function $|\\psi(\\boldsymbol{\\theta})\\rangle$ from which probabilities are obtained to $P(\\mathbf{x})=|\\langle\\mathbf{x} \\mid \\psi(\\boldsymbol{\\theta})\\rangle|^{2}$.Minimization of this quantity is directly related to the minimization of a well known cost function: the negative [log-likelihood](https://en.wikipedia.org/wiki/Likelihood_function) $\\mathcal{C}(\\boldsymbol{\\theta})=-\\frac{1}{D} \\sum_{d=1}^{D} \\ln \\left(P\\left(\\mathbf{x}^{(d)}\\right)\\right) .$ Is important consider that all the probabilities are estimated from a finite number of measurements and a way to avoid singularities in the cost function [3](#References), we use a simple variant\n",
    "\n",
    "\n",
    "$\\mathcal{C}(\\boldsymbol{\\theta})=-\\frac{1}{D} \\sum_{d=1}^{D} \\ln \\left(\\max \\left(\\varepsilon, P_{\\boldsymbol{\\theta}}\\left(\\mathbf{x}^{(d)}\\right)\\right)\\right)$ (3) \n",
    "\n",
    " where $\\epsilon>0 $ is a small number to be chosen. Following this equation we have a method called **boltzman_machine(params)**, which is the function that integrates all the quantum process and the cost function required to perform the optimization."
   ]
  },
  {
   "cell_type": "code",
   "execution_count": null,
   "id": "54c18b53",
   "metadata": {},
   "outputs": [],
   "source": [
    "def boltzman_machine(params):\n",
    "    n=4\n",
    "    D = int(n**2)\n",
    "    cost = 0\n",
    "    list_n = range(n)\n",
    "    \n",
    "    qc = QuantumCircuit(n)\n",
    "    for i in range(len(params)//num_parameters):\n",
    "        qc.append(gate_layer(n,params[num_parameters*i:num_parameters*(i+1)],(i+1)%2),list_n)\n",
    "    shots= 8192\n",
    "    simulator = Aer.get_backend('statevector_simulator')\n",
    "    result = execute(qc, simulator).result()\n",
    "    statevector = result.get_statevector(qc)\n",
    "    for j in range(D):\n",
    "        cost +=(np.log10(max(0.001,statevector[j].real*px_output[j].real+(statevector[j].imag*px_output[j].imag))))\n",
    "    cost = -cost/D\n",
    "    #print(cost)\n",
    "    return cost\n",
    "\n",
    "num_layers = 6\n",
    "params = np.random.random([num_layers*num_parameters])    \n",
    "boltzman_machine(params)"
   ]
  },
  {
   "cell_type": "markdown",
   "id": "bedb1862",
   "metadata": {},
   "source": [
    "Having the quantum process that returns the cost, we use the classical process implemented in Qiskit, which has a series of classical [optimizers](https://qiskit.org/documentation/stubs/qiskit.algorithms.optimizers.html).\n",
    "\n",
    "Consider 10 epoch with 500 iterations."
   ]
  },
  {
   "cell_type": "code",
   "execution_count": null,
   "id": "272ff7fd",
   "metadata": {},
   "outputs": [],
   "source": [
    "cost_cobyla = []\n",
    "cost_nm = []\n",
    "cost_spsa = []\n",
    "\n",
    "params_cobyla = params\n",
    "params_nm = params\n",
    "params_spsa = params\n",
    "epoch = 10\n",
    "maxiter = 500\n",
    "\n",
    "for i in range(epoch):\n",
    "    optimizer_cobyla = COBYLA(maxiter=maxiter)\n",
    "    ret = optimizer_cobyla.optimize(num_vars=len(params),objective_function=boltzman_machine, initial_point=params_cobyla)\n",
    "    params_cobyla = ret[0]\n",
    "    cost_cobyla.append(ret[1])\n",
    "    \n",
    "    optimizer_nm = NELDER_MEAD(maxiter=maxiter)\n",
    "    ret = optimizer_nm.optimize(num_vars=len(params),objective_function=boltzman_machine, initial_point=params_nm)\n",
    "    params_nm = ret[0]\n",
    "    cost_nm.append(ret[1])\n",
    "    \n",
    "    optimizer_spsa = SPSA(maxiter=maxiter)\n",
    "    ret = optimizer_spsa.optimize(num_vars=len(params),objective_function=boltzman_machine, initial_point=params_spsa)\n",
    "    params_spsa = ret[0]\n",
    "    cost_spsa.append(ret[1])"
   ]
  },
  {
   "cell_type": "markdown",
   "id": "4c2c0b8d",
   "metadata": {},
   "source": [
    "From the plot of each result we can see that the best optimizer is COBYLA for this algorithm."
   ]
  },
  {
   "cell_type": "code",
   "execution_count": null,
   "id": "f782d693",
   "metadata": {},
   "outputs": [],
   "source": [
    "xfit = range(epoch)\n",
    "plt.plot(xfit, cost_cobyla, label='COBYLA')\n",
    "plt.plot(xfit, cost_nm, label='Nelder-Mead')\n",
    "plt.plot(xfit, cost_spsa, label='SPSA')\n",
    "\n",
    "plt.legend()\n",
    "plt.title(\"C(x) \")\n",
    "plt.xlabel(\"epoch\")\n",
    "plt.ylabel(\"cost\")\n",
    "plt.show()"
   ]
  },
  {
   "cell_type": "markdown",
   "id": "c24aae75",
   "metadata": {},
   "source": [
    " Qiskit has the opportunity to be able to work with more optimisers that are [here](https://qiskit.org/documentation/stubs/qiskit.algorithms.optimizers.html) .\n",
    "\n",
    " \n",
    "Suggestion  Try changing the value of the **maxiter** variable and the optimisers in order to identify the best case.   "
   ]
  },
  {
   "cell_type": "markdown",
   "id": "206212ab",
   "metadata": {},
   "source": [
    "the boltzman_machine_valid method is performed to give us  $P(\\mathbf{x})=|\\langle\\mathbf{x} \\mid \\psi(\\boldsymbol{\\theta})\\rangle|^{2}$"
   ]
  },
  {
   "cell_type": "code",
   "execution_count": null,
   "id": "480d0216",
   "metadata": {},
   "outputs": [],
   "source": [
    "def boltzman_machine_valid(params):\n",
    "    n=4\n",
    "    list_n = range(n)\n",
    "    qc = QuantumCircuit(n)\n",
    "    for i in range(len(params)//num_parameters):\n",
    "        qc.append(gate_layer(n,params[num_parameters*i:num_parameters*(i+1)],(i+1)%2),list_n)\n",
    "    shots= 8192\n",
    "    simulator = Aer.get_backend('statevector_simulator')\n",
    "    result = execute(qc, simulator).result()\n",
    "    #statevector = result.get_statevector(qc)\n",
    "\n",
    "    return result\n",
    "\n"
   ]
  },
  {
   "cell_type": "markdown",
   "id": "576cca0c",
   "metadata": {},
   "source": [
    "####    Viualization\n",
    "We obtain the output of the three different optimizers"
   ]
  },
  {
   "cell_type": "code",
   "execution_count": null,
   "id": "414a3da5",
   "metadata": {},
   "outputs": [],
   "source": [
    "psi_vqc_spsa =  boltzman_machine_valid(params_spsa)\n",
    "psi_spsa = psi_vqc_spsa.get_statevector()\n",
    "\n",
    "psi_vqc_nm =  boltzman_machine_valid(params_nm)\n",
    "psi_nm = psi_vqc_nm.get_statevector()\n",
    "\n",
    "psi_vqc_cobyla =  boltzman_machine_valid(params_cobyla)\n",
    "psi_cobyla = psi_vqc_cobyla.get_statevector()"
   ]
  },
  {
   "cell_type": "markdown",
   "id": "13e79283",
   "metadata": {},
   "source": [
    "In order to compare all the results of each optimizer with the expected output, the plot_histogram method is used and we can see at a glance the similarities of each distribution."
   ]
  },
  {
   "cell_type": "code",
   "execution_count": null,
   "id": "6d0ab134",
   "metadata": {},
   "outputs": [],
   "source": [
    "psi_dict_cobyla = psi_vqc_cobyla.get_counts()\n",
    "psi_dict_spsa = psi_vqc_spsa.get_counts()\n",
    "psi_dict_nm = psi_vqc_nm.get_counts()\n",
    "\n",
    "plot_histogram([dict_px_output,psi_dict_cobyla,psi_dict_spsa,psi_dict_nm], title='p(x) of the QBM',\n",
    "               legend=['correct distribution', 'simulation cobyla','simulation spsa','simulation nm'])"
   ]
  },
  {
   "cell_type": "markdown",
   "id": "da3b56c0",
   "metadata": {},
   "source": [
    "It can be seen that of all the visualization methods, the closest is the one used with COBYLA, which will be considered to generate new samples from this dataset. But you are still invited to look for other optimizers and change the number of the maxiter variable.\n",
    "\n",
    "####   Using our QBM \n",
    "\n",
    "To apply this circuit we use the final parameters and see what kind of results they produce as images. This is shown below."
   ]
  },
  {
   "cell_type": "code",
   "execution_count": null,
   "id": "29fd3fcb",
   "metadata": {
    "scrolled": true
   },
   "outputs": [],
   "source": [
    "def boltzman_machine_valid_random(params):\n",
    "    n=4\n",
    "    list_n = range(n)\n",
    "    qc = QuantumCircuit(n,n)\n",
    "    for i in range(len(params)//num_parameters):\n",
    "        qc.append(gate_layer(n,params[num_parameters*i:num_parameters*(i+1)],(i+1)%2),list_n)\n",
    "    \n",
    "    qc.measure(list_n,list_n)\n",
    "    shots= 1 #Number of shots\n",
    "    job = execute( qc, Aer.get_backend('qasm_simulator'),shots=shots )\n",
    "    counts = job.result().get_counts() #Count the results of the execution\n",
    "    return counts.keys()\n",
    "\n",
    "\n",
    "matrix = np.zeros((2,2))\n",
    "for i in range(0,16):\n",
    "    img = list(boltzman_machine_valid_random(params))[0]\n",
    "    matrix[0][0] = int(img[0])\n",
    "    matrix[0][1] = int(img[1])\n",
    "    matrix[1][0] = int(img[2])\n",
    "    matrix[1][1] = int(img[3])\n",
    "    \n",
    "\n",
    "    \n",
    "    plt.subplot(4 , 4 , 1+i)\n",
    "    plt.imshow(matrix)\n",
    "plt.show()\n"
   ]
  },
  {
   "cell_type": "markdown",
   "id": "1a2f50f0",
   "metadata": {},
   "source": [
    " Check how many images do not follow the expected distribution. "
   ]
  },
  {
   "cell_type": "markdown",
   "id": "9fa17dbf",
   "metadata": {},
   "source": [
    "Depending on the Dial distributor we expect with higher probability the desired states, but if there is a percentage of an incorrect state it may sometimes appear with its respective probability.\n",
    "\n",
    "\n",
    "###   Noise model\n",
    "\n",
    "We managed to realize a quantum circuit that is a QBM and to see its effectiveness in a more complex environment than the simulation we will perform the process in a noise model, for this we must consider having our paltaform key in our system.\n",
    "\n",
    "For this example we will use the real ibmq_lima gate, but you can choose from the ones found [here](https://quantum-computing.ibm.com/services?services=systems)."
   ]
  },
  {
   "cell_type": "code",
   "execution_count": null,
   "id": "9254fd97",
   "metadata": {},
   "outputs": [],
   "source": [
    "# In case your need to work this part you need to verfy that your computer has the acces to the real quantum computing\n",
    "#using your API KEY\n",
    "#IBMQ.save_account(\"your key\")\n",
    "\n",
    "provider = IBMQ.load_account()\n",
    "backend = provider.get_backend('ibmq_lima')"
   ]
  },
  {
   "cell_type": "markdown",
   "id": "648f9f69",
   "metadata": {},
   "source": [
    "We can use the ibmq_lima features for our simulator and it can perform at the same characteristics of this one. \n",
    "\n",
    "To know more about the features of the NoiseModel method [here](https://qiskit.org/documentation/stubs/qiskit.providers.aer.noise.NoiseModel.html?highlight=noisemodel)"
   ]
  },
  {
   "cell_type": "code",
   "execution_count": null,
   "id": "33da0d21",
   "metadata": {},
   "outputs": [],
   "source": [
    "from qiskit.providers.aer.noise import NoiseModel\n",
    "noise_model = NoiseModel.from_backend(backend)\n",
    "\n",
    "# Get coupling map from backend\n",
    "coupling_map = backend.configuration().coupling_map\n",
    "\n",
    "# Get basis gates from noise model\n",
    "basis_gates = noise_model.basis_gates"
   ]
  },
  {
   "cell_type": "markdown",
   "id": "8ed77016",
   "metadata": {},
   "source": [
    "We performed the same process that we did previously in simulation but adapted it with the noise model variables."
   ]
  },
  {
   "cell_type": "code",
   "execution_count": null,
   "id": "0de38f0c",
   "metadata": {},
   "outputs": [],
   "source": [
    "def noise_boltzman_machine(params):\n",
    "    n=4\n",
    "    D = int(n**2)\n",
    "    cost = 0\n",
    "    list_n = range(n)\n",
    "    \n",
    "    qc = QuantumCircuit(n)\n",
    "    for i in range(len(params)//num_parameters):\n",
    "        qc.append(gate_layer(n,params[num_parameters*i:num_parameters*(i+1)],(i+1)%2),list_n)\n",
    "    shots= 8192\n",
    "    simulator = Aer.get_backend('statevector_simulator')\n",
    "    result = execute(qc, simulator,\n",
    "                    coupling_map=coupling_map, #this parameter is important for using a noise model\n",
    "                    basis_gates=basis_gates,   #this parameter is important for using a noise model\n",
    "                    noise_model=noise_model,   #this parameter is important for using a noise model\n",
    "                    shots = 8192,\n",
    "                    cals_matrix_refresh_period=30).result()\n",
    "                    \n",
    "    statevector = result.get_statevector(qc)\n",
    "    for j in range(D):\n",
    "        cost +=(np.log10(max(0.001,statevector[j].real*px_output[j].real+(statevector[j].imag*px_output[j].imag))))\n",
    "    cost = -cost/D\n",
    "    #print(cost)\n",
    "    return cost\n",
    "\n",
    "num_layers = 6\n",
    "noise_params = np.random.random([num_layers*num_parameters])    \n",
    "noise_boltzman_machine(noise_params)"
   ]
  },
  {
   "cell_type": "markdown",
   "id": "cf93782a",
   "metadata": {},
   "source": [
    "Consider run but using a new variable call **noise_params**, and we can consider the best optimizer,**COBYLA** in stead of using the others one."
   ]
  },
  {
   "cell_type": "code",
   "execution_count": null,
   "id": "a434d1e5",
   "metadata": {},
   "outputs": [],
   "source": [
    "print(\"cost\")\n",
    "print(noise_boltzman_machine(noise_params))\n",
    "\n",
    "for i in range(10):\n",
    "    optimizer = COBYLA(maxiter=500)\n",
    "    ret = optimizer.optimize(num_vars=len(noise_params),objective_function=noise_boltzman_machine, initial_point=noise_params)\n",
    "    noise_params = ret[0]\n",
    "    print(ret[1])\n",
    "    "
   ]
  },
  {
   "cell_type": "markdown",
   "id": "ec8b9ed3",
   "metadata": {},
   "source": [
    "At this point we have the distribution $P(x)$ result of the Noise model"
   ]
  },
  {
   "cell_type": "code",
   "execution_count": null,
   "id": "769676d3",
   "metadata": {},
   "outputs": [],
   "source": [
    "noise_psi_vqc = boltzman_machine_valid(noise_params)\n",
    "noise_psi_vqc.get_statevector()"
   ]
  },
  {
   "cell_type": "markdown",
   "id": "6ed5d214",
   "metadata": {},
   "source": [
    "The expected output, the best simulated result and the best simulated result using a NoiseModel are compared."
   ]
  },
  {
   "cell_type": "code",
   "execution_count": null,
   "id": "32906f0c",
   "metadata": {},
   "outputs": [],
   "source": [
    "noise_model_psi = noise_psi_vqc.get_counts()\n",
    "plot_histogram([dict_px_output,psi_dict_cobyla, noise_model_psi], title='p(x) of the QBM',\n",
    "               legend=['correct distribution', 'simulation','noise model'])"
   ]
  },
  {
   "cell_type": "markdown",
   "id": "24ece7e7",
   "metadata": {},
   "source": [
    "Having each result follow the trend of the expected output, but with certain errors, we can see that our circuit is working, and we can continue this by trying to obtain new samples from the circuit with noise."
   ]
  },
  {
   "cell_type": "code",
   "execution_count": null,
   "id": "e19f3897",
   "metadata": {},
   "outputs": [],
   "source": [
    "matrix = np.zeros((2,2))\n",
    "for i in range(0,16):\n",
    "    img = list(boltzman_machine_valid_random(noise_params))[0]\n",
    "    matrix[0][0] = int(img[0])\n",
    "    matrix[0][1] = int(img[1])\n",
    "    matrix[1][0] = int(img[2])\n",
    "    matrix[1][1] = int(img[3])    \n",
    "    plt.subplot(4 , 4 , 1+i)\n",
    "    plt.imshow(matrix)\n",
    "plt.show()\n"
   ]
  },
  {
   "cell_type": "markdown",
   "id": "a17cf487",
   "metadata": {},
   "source": [
    " Check how many images do not follow the expected distribution. "
   ]
  },
  {
   "cell_type": "markdown",
   "id": "52a0975a",
   "metadata": {},
   "source": [
    "###   Real quantum computer\n",
    "\n",
    "The quantum instance for real free quantum computer (try to change the value for  provider.get_backend( )), in this tutorial we use the ibmq_lima the same that i nthe noise model. More information about this quantum computer you can find [here](https://quantum-computing.ibm.com/services?services=systems&system=ibmq_lima)."
   ]
  },
  {
   "cell_type": "code",
   "execution_count": null,
   "id": "7e7b88a1",
   "metadata": {},
   "outputs": [],
   "source": [
    "real_backend = provider.get_backend('ibmq_lima') # select the name of the quatum computer to use\n",
    "print(\"real device:\",real_backend.name())"
   ]
  },
  {
   "cell_type": "markdown",
   "id": "76e79b7d",
   "metadata": {},
   "source": [
    "We follow the same processing of the simulation, but in this case we use the backend which is the real computer."
   ]
  },
  {
   "cell_type": "code",
   "execution_count": null,
   "id": "71cc3b24",
   "metadata": {},
   "outputs": [],
   "source": [
    "def real_boltzman_machine(params):\n",
    "    n=4\n",
    "    D = int(n**2)\n",
    "    cost = 0\n",
    "    list_n = range(n)\n",
    "    \n",
    "    qc = QuantumCircuit(n,n)\n",
    "    for i in range(len(params)//num_parameters):\n",
    "        qc.append(gate_layer(n,params[num_parameters*i:num_parameters*(i+1)],(i+1)%2),list_n)\n",
    "    qc.measure(list_n,list_n)\n",
    "    shots= 8192\n",
    "    result = execute(qc, real_backend,\n",
    "                    shots = 8192).result()\n",
    "                    \n",
    "    counts = result.get_counts(qc)\n",
    "    for j in range(D):\n",
    "        bin_index = bin(j)[2:]\n",
    "        while len(bin_index) < 4:\n",
    "            bin_index = '0' + bin_index\n",
    "        statevector_index = counts[bin_index]/8192\n",
    "        cost +=(np.log10(max(0.001,statevector_index*px_output[j].real)))\n",
    "    cost = -cost/D\n",
    "    #print(cost)\n",
    "    return cost\n",
    "\n",
    "num_layers = 6\n",
    "real_params = np.random.random([num_layers*num_parameters])    \n",
    "real_boltzman_machine(real_params)"
   ]
  },
  {
   "cell_type": "markdown",
   "id": "478cdd53",
   "metadata": {},
   "source": [
    "For this process being a real free computer, anyone with their IBM account can use any of the free computers, so the process can take some time, for this tutorial we will only use **10 iterations**."
   ]
  },
  {
   "cell_type": "code",
   "execution_count": null,
   "id": "f6f04d97",
   "metadata": {},
   "outputs": [],
   "source": [
    "print(\"cost\")\n",
    "print(real_boltzman_machine(real_params))\n",
    "\n",
    "for i in range(1):\n",
    "    optimizer = COBYLA(maxiter=10)\n",
    "    ret = optimizer.optimize(num_vars=len(real_params),objective_function=real_boltzman_machine, initial_point=real_params)\n",
    "    real_params = ret[0]\n",
    "    print(ret[1])"
   ]
  },
  {
   "cell_type": "markdown",
   "id": "4cc6bf97",
   "metadata": {},
   "source": [
    "In this point we have the result of the real quantum computer for  our QBM."
   ]
  },
  {
   "cell_type": "code",
   "execution_count": null,
   "id": "22fde35f",
   "metadata": {},
   "outputs": [],
   "source": [
    "real_psi_vqc = boltzman_machine_valid(real_params)\n",
    "real_psi_vqc.get_statevector()"
   ]
  },
  {
   "cell_type": "markdown",
   "id": "0d6418e2",
   "metadata": {},
   "source": [
    "We can compare all the result in a same plot_histogram, and check the worst case is the result of the quantum real computer, that could be solve, using more iteration, mitigate the error, modified the ansatz or both."
   ]
  },
  {
   "cell_type": "code",
   "execution_count": null,
   "id": "272ad17a",
   "metadata": {},
   "outputs": [],
   "source": [
    "real_model_psi = real_psi_vqc.get_counts()\n",
    "plot_histogram([dict_px_output,psi_dict_cobyla, noise_model_psi,real_model_psi], title='p(x) of the QBM',\n",
    "               legend=['correct distribution', 'simulation','noise model', 'real quantum computer'])"
   ]
  },
  {
   "cell_type": "markdown",
   "id": "01d8f2aa",
   "metadata": {},
   "source": [
    "Just to confirm what are the possible outputs of our circuit using the real computer, this is given by the type of distribution obtained from the computer."
   ]
  },
  {
   "cell_type": "code",
   "execution_count": null,
   "id": "b3a10498",
   "metadata": {},
   "outputs": [],
   "source": [
    "matrix = np.zeros((2,2))\n",
    "for i in range(0,16):\n",
    "    img = list(boltzman_machine_valid_random(real_params))[0]\n",
    "    matrix[0][0] = int(img[0])\n",
    "    matrix[0][1] = int(img[1])\n",
    "    matrix[1][0] = int(img[2])\n",
    "    matrix[1][1] = int(img[3])\n",
    "    \n",
    "\n",
    "    \n",
    "    plt.subplot(4 , 4 , 1+i)\n",
    "    plt.imshow(matrix)\n",
    "plt.show()\n"
   ]
  },
  {
   "cell_type": "markdown",
   "id": "2c809026",
   "metadata": {},
   "source": [
    " Check how many images do not follow the expected distribution. "
   ]
  },
  {
   "cell_type": "markdown",
   "id": "f096b9b6",
   "metadata": {},
   "source": [
    "##   Another perspective\n",
    "\n",
    "For this part we can do the same procces and using the reference [5](#References) with the proposal to design another Ansatz model, the characteristics are:\n",
    "\n",
    "- Using the same layer arbitrary rotation gate, \n",
    "- And employ CNOT gates with no parameters for the entangle layers.\n",
    "\n",
    "The new ansatz it could be "
   ]
  },
  {
   "cell_type": "code",
   "execution_count": null,
   "id": "53432353",
   "metadata": {},
   "outputs": [],
   "source": [
    "## Design any ansatz\n",
    "# In this work, we use arbitrary single qubit rotations for the odd layers, and Mølmer-Sørensen XX gates for the even layers\n",
    "#\n",
    "def ansatz_layer(n,parameters): # this ansatz is equivalent a layer\n",
    "    qc = QuantumCircuit(n) \n",
    "    \n",
    "    for i in range(n):\n",
    "        qc.u(parameters[i*3],parameters[(i*3)+1],parameters[(i*3)+2],i) #variable value for ry with the values parameters[i]\n",
    "    for i in range(n-1):\n",
    "        qc.cx(i,i+1)\n",
    "        \n",
    "    return qc"
   ]
  },
  {
   "cell_type": "markdown",
   "id": "b15213ca",
   "metadata": {},
   "source": [
    "Widget: Drag and drop code \n",
    "For this section we can add the Drag and drop code widget, to explain hoe to design an ansatz.   \n",
    " \n"
   ]
  },
  {
   "cell_type": "code",
   "execution_count": null,
   "id": "b7fee690",
   "metadata": {},
   "outputs": [],
   "source": [
    "# depents of own design we can change the num_parameters value\n",
    "num_parameters_v2 = 12 #how is 4 qubits we required 12 parametrs\n",
    "parameters_v2 = ParameterVector('θ', num_parameters_v2) # define the vector θ\n",
    "\n",
    "ansatz_layer(num_qubits,parameters_v2).draw(\"mpl\") # draw own odd layer"
   ]
  },
  {
   "cell_type": "markdown",
   "id": "41d6a61d",
   "metadata": {},
   "source": [
    "We apply this ansatz how an gate like the previous part, how is only a gate we don't now use the parameter flag"
   ]
  },
  {
   "cell_type": "code",
   "execution_count": null,
   "id": "0e5981aa",
   "metadata": {},
   "outputs": [],
   "source": [
    "## ansatz to quantum gate\n",
    "def gate_layer_v2(n, params):\n",
    "    parameters = ParameterVector('θ', num_parameters_v2)\n",
    "    qc = ansatz_layer(n,parameters) #call the new layer version 2\n",
    "    params_dict = {}\n",
    "    j = 0\n",
    "    for p in parameters:\n",
    "        #The name of the value will be the string identifier and an integer specifying the vector length\n",
    "        params_dict[p] = params[j] \n",
    "        j += 1\n",
    "    #Assign parameters using the assign_parameters method\n",
    "    qc = qc.assign_parameters(parameters = params_dict)\n",
    "    qc_gate = qc.to_gate()\n",
    "    qc_gate.name = \"layer\" # To show when we display the circuit\n",
    "    return qc_gate #return a quantum gate\n"
   ]
  },
  {
   "cell_type": "markdown",
   "id": "cdca2a0d",
   "metadata": {},
   "source": [
    "We are going to make a quantum circuit with 3 layers, where each gate are the same structure."
   ]
  },
  {
   "cell_type": "code",
   "execution_count": null,
   "id": "435d53c7",
   "metadata": {},
   "outputs": [],
   "source": [
    "# example of a quantum circuit\n",
    "\n",
    "num_layers = 3\n",
    "list_n = range(num_qubits)\n",
    "\n",
    "num_layers\n",
    "\n",
    "\n",
    "params = np.random.random([num_layers*num_parameters_v2]) #all the parameters\n",
    "qc_gate = QuantumCircuit(num_qubits)\n",
    "\n",
    "\n",
    "for i in range(len(params)//num_parameters):\n",
    "    #apply a function to consider m layers\n",
    "    qc_gate.append(gate_layer_v2(num_qubits,params[num_parameters_v2*i:num_parameters_v2*(i+1)]),list_n)\n",
    "    qc_gate.barrier()\n",
    "qc_gate.draw(\"mpl\")"
   ]
  },
  {
   "cell_type": "markdown",
   "id": "f19fb137",
   "metadata": {},
   "source": [
    "Now we are using decompose(), it is observed that if the new structure consists of the same circuit for each layer."
   ]
  },
  {
   "cell_type": "code",
   "execution_count": null,
   "id": "733ac08c",
   "metadata": {},
   "outputs": [],
   "source": [
    "qc_gate.decompose().draw(\"mpl\")"
   ]
  },
  {
   "cell_type": "markdown",
   "id": "17bc060e",
   "metadata": {},
   "source": [
    "####   Experiments\n",
    "\n",
    "As in the previous section, we will train with simulation. In this ansatz we are using only 3 layers"
   ]
  },
  {
   "cell_type": "code",
   "execution_count": null,
   "id": "ae1ab8a4",
   "metadata": {},
   "outputs": [],
   "source": [
    "def boltzman_machine_v2(params):\n",
    "    n=4\n",
    "    D = int(n**2)\n",
    "    cost = 0\n",
    "    list_n = range(n)\n",
    "    \n",
    "    qc = QuantumCircuit(n)\n",
    "    for i in range(len(params)//num_parameters):\n",
    "        qc.append(gate_layer_v2(n,params[num_parameters*i:num_parameters*(i+1)]),list_n)\n",
    "    shots= 8192\n",
    "    simulator = Aer.get_backend('statevector_simulator')\n",
    "    result = execute(qc, simulator).result()\n",
    "    statevector = result.get_statevector(qc)\n",
    "    for j in range(D):\n",
    "        cost +=(np.log10(max(0.001,statevector[j].real*px_output[j].real+(statevector[j].imag*px_output[j].imag))))\n",
    "    cost = -cost/D\n",
    "    #print(cost)\n",
    "    return cost\n",
    "\n",
    "num_layers = 3\n",
    "params = np.random.random([num_layers*num_parameters])    \n",
    "boltzman_machine_v2(params)"
   ]
  },
  {
   "cell_type": "code",
   "execution_count": null,
   "id": "d56f16b3",
   "metadata": {},
   "outputs": [],
   "source": [
    "cost_cobyla = []\n",
    "cost_nm = []\n",
    "cost_spsa = []\n",
    "\n",
    "params_cobyla = params\n",
    "params_nm = params\n",
    "params_spsa = params\n",
    "epoch = 10\n",
    "maxiter = 500\n",
    "\n",
    "for i in range(epoch):\n",
    "    optimizer_cobyla = COBYLA(maxiter=maxiter)\n",
    "    ret = optimizer_cobyla.optimize(num_vars=len(params),objective_function=boltzman_machine_v2, initial_point=params_cobyla)\n",
    "    params_cobyla = ret[0]\n",
    "    cost_cobyla.append(ret[1])\n",
    "    \n",
    "    optimizer_nm = NELDER_MEAD(maxiter=maxiter)\n",
    "    ret = optimizer_nm.optimize(num_vars=len(params),objective_function=boltzman_machine_v2, initial_point=params_nm)\n",
    "    params_nm = ret[0]\n",
    "    cost_nm.append(ret[1])\n",
    "    \n",
    "    optimizer_spsa = SPSA(maxiter=maxiter)\n",
    "    ret = optimizer_spsa.optimize(num_vars=len(params),objective_function=boltzman_machine_v2, initial_point=params_spsa)\n",
    "    params_spsa = ret[0]\n",
    "    cost_spsa.append(ret[1])"
   ]
  },
  {
   "cell_type": "markdown",
   "id": "f8c9baa3",
   "metadata": {},
   "source": [
    "The process is repeated to confirm the best optimizer using this new ansatz"
   ]
  },
  {
   "cell_type": "code",
   "execution_count": null,
   "id": "ff8edd57",
   "metadata": {},
   "outputs": [],
   "source": [
    "xfit = range(epoch)\n",
    "plt.plot(xfit, cost_cobyla, label='COBYLA')\n",
    "plt.plot(xfit, cost_nm, label='Nelder-Mead')\n",
    "plt.plot(xfit, cost_spsa, label='SPSA')\n",
    "\n",
    "plt.legend()\n",
    "plt.title(\"C(x) \")\n",
    "plt.xlabel(\"epoch\")\n",
    "plt.ylabel(\"cost\")\n",
    "plt.show()"
   ]
  },
  {
   "cell_type": "code",
   "execution_count": null,
   "id": "ceadb959",
   "metadata": {},
   "outputs": [],
   "source": [
    "def boltzman_machine_valid_v2(params):\n",
    "    n=4\n",
    "    list_n = range(n)\n",
    "    qc = QuantumCircuit(n)\n",
    "    for i in range(len(params)//num_parameters):\n",
    "        qc.append(gate_layer_v2(n,params[num_parameters*i:num_parameters*(i+1)]),list_n)\n",
    "    shots= 8192\n",
    "    simulator = Aer.get_backend('statevector_simulator')\n",
    "    result = execute(qc, simulator).result()\n",
    "    #statevector = result.get_statevector(qc)\n",
    "\n",
    "    return result"
   ]
  },
  {
   "cell_type": "markdown",
   "id": "475034f6",
   "metadata": {},
   "source": [
    "Obtain the $P(x)$ for each optimizer"
   ]
  },
  {
   "cell_type": "code",
   "execution_count": null,
   "id": "9f097981",
   "metadata": {},
   "outputs": [],
   "source": [
    "psi_vqc_spsa =  boltzman_machine_valid_v2(params_spsa)\n",
    "psi_spsa = psi_vqc_spsa.get_statevector()\n",
    "\n",
    "psi_vqc_nm =  boltzman_machine_valid_v2(params_nm)\n",
    "psi_nm = psi_vqc_nm.get_statevector()\n",
    "\n",
    "psi_vqc_cobyla =  boltzman_machine_valid_v2(params_cobyla)\n",
    "psi_cobyla = psi_vqc_cobyla.get_statevector()"
   ]
  },
  {
   "cell_type": "markdown",
   "id": "7fb75c2f",
   "metadata": {},
   "source": [
    "It is reconfirmed that the best case is using COBYLA"
   ]
  },
  {
   "cell_type": "code",
   "execution_count": null,
   "id": "1f68e8e3",
   "metadata": {},
   "outputs": [],
   "source": [
    "psi_dict_cobyla = psi_vqc_cobyla.get_counts()\n",
    "psi_dict_spsa = psi_vqc_spsa.get_counts()\n",
    "psi_dict_nm = psi_vqc_nm.get_counts()\n",
    "\n",
    "plot_histogram([dict_px_output,psi_dict_cobyla,psi_dict_spsa,psi_dict_nm], title='p(x) of the QBM',\n",
    "               legend=['correct distribution', 'simulation cobyla','simulation spsa','simulation nm'])"
   ]
  },
  {
   "cell_type": "markdown",
   "id": "9ff5a9b8",
   "metadata": {},
   "source": [
    "Applying now the distribution obtained from the simulation result"
   ]
  },
  {
   "cell_type": "code",
   "execution_count": null,
   "id": "93cee3e4",
   "metadata": {},
   "outputs": [],
   "source": [
    "def boltzman_machine_valid_random_v2(params):\n",
    "    n=4\n",
    "    list_n = range(n)\n",
    "    qc = QuantumCircuit(n,n)\n",
    "    for i in range(len(params)//num_parameters):\n",
    "        qc.append(gate_layer_v2(n,params[num_parameters*i:num_parameters*(i+1)]),list_n)\n",
    "    \n",
    "    qc.measure(list_n,list_n)\n",
    "    shots= 1 #Number of shots\n",
    "    job = execute( qc, Aer.get_backend('qasm_simulator'),shots=shots )\n",
    "    counts = job.result().get_counts() #Count the results of the execution\n",
    "    return counts.keys()\n",
    "\n",
    "matrix = np.zeros((2,2))\n",
    "for i in range(0,16):\n",
    "    img = list(boltzman_machine_valid_random_v2(params_cobyla))[0]\n",
    "    matrix[0][0] = int(img[0])\n",
    "    matrix[0][1] = int(img[1])\n",
    "    matrix[1][0] = int(img[2])\n",
    "    matrix[1][1] = int(img[3])\n",
    "    \n",
    "\n",
    "    \n",
    "    plt.subplot(4 , 4 , 1+i)\n",
    "    plt.imshow(matrix)\n",
    "plt.show()\n"
   ]
  },
  {
   "cell_type": "markdown",
   "id": "a185204d",
   "metadata": {},
   "source": [
    " Check how many images do not follow the expected distribution. "
   ]
  },
  {
   "attachments": {},
   "cell_type": "markdown",
   "id": "83fe7d3f",
   "metadata": {},
   "source": [
    " Exercise  Redesign the methods for the noise model and the real computer and see what the results are.   \n",
    "\n",
    " Suggestion  \n",
    "    \n",
    "    Modify the ansatz or use a new ansatz and apply with a simulation, noise model and real quantum computer.\n",
    "       \n",
    "You can use a 3x3 or 4x4 image for that consider reference [5]. \n",
    "\n",
    "\n",
    "\n",
    "##   Extending the problem\n",
    "\n",
    "For this section consider athe next set of images of size $3x3$ and generate the $|\\psi\\rangle$ state representing this distribution, you can use the section [Mapping image to qubits](#Mapping)\n",
    " \n",
    "\n",
    "**TODO: Image: `rect833-8-9.png`**\n",
    "\n",
    "\n",
    "Widget: Binary Demo \n",
    "For this section we can add the Binary Demo widget, to help you map images to qubits.    \n",
    " \n",
    " \n",
    " Use the next code to representate, only you need to identify the init_list values that represents our set of images. And consider for this problem 9 qubits."
   ]
  },
  {
   "cell_type": "code",
   "execution_count": null,
   "id": "953cc444",
   "metadata": {},
   "outputs": [],
   "source": [
    "num_qubits_3x3 = 9 #number of qubits\n",
    "\n",
    "#list of indeces of interest \n",
    "init_list = []  \n",
    "len_sv = int(num_qubits_3x3**2) \n",
    "px_3x3 = np.zeros(len_sv) \n",
    "\n",
    "for init_value in init_list: #identify the index of each statevector of interest\n",
    "    px_3x3[init_value] = 1/np.sqrt(len(init_list)) #normalize the statevector\n",
    "\n",
    "px_3x3 #print if is correct  "
   ]
  },
  {
   "cell_type": "markdown",
   "id": "9dd2e6e7",
   "metadata": {},
   "source": [
    "Now we can plot the distribution $P_{3x3}(x)$ using plot_histogram method."
   ]
  },
  {
   "cell_type": "code",
   "execution_count": null,
   "id": "85607a5b",
   "metadata": {},
   "outputs": [],
   "source": [
    "## for use the methods plot_histogram is required use a dictionary\n",
    "\n",
    "dict_px_3x3 = {}  # the dict variable for the plot_hidtogram \n",
    "\n",
    "for elements in  zip(px_3x3, range(int(num_qubits_3x3**2)) ): \n",
    "    key = (bin(elements[1])[2:]) \n",
    "    while len(key) < num_qubits_3x3: \n",
    "        key = \"0\"+key            \n",
    "    dict_px_3x3[key] = elements[0]  # mapping the index value in a bin number and into a key for the fict"
   ]
  },
  {
   "cell_type": "markdown",
   "id": "d10b19cf",
   "metadata": {},
   "source": [
    "Now you are going to design an ansatz, it is important to keep in mind with 9 qubits."
   ]
  },
  {
   "cell_type": "code",
   "execution_count": null,
   "id": "4ff57bcf",
   "metadata": {},
   "outputs": [],
   "source": [
    "## Design your own ansatz for 9 qubits\n",
    "\n",
    "def ansatz_layer_3x3(n,parameters): # this ansatz is equivalent a layer\n",
    "    qc = QuantumCircuit(n) \n",
    "    \n",
    "        \n",
    "    return qc"
   ]
  },
  {
   "cell_type": "markdown",
   "id": "68cf300f",
   "metadata": {},
   "source": [
    "Validate with the following code that a quantum gate is being developed from your proposed ansatz."
   ]
  },
  {
   "cell_type": "code",
   "execution_count": null,
   "id": "52a6ebe5",
   "metadata": {},
   "outputs": [],
   "source": [
    "\n",
    "num_parameters_3x3 =  #check the parameters that you need in your ansatz \n",
    "num_layers =  # check the number of layers\n",
    "list_n = range(num_qubits_3x3)\n",
    "\n",
    "\n",
    "parameters_3x3 = ParameterVector('θ', num_parameters_3x3) # define the vector θ\n",
    "\n",
    "\n",
    "params = np.random.random([num_layers*num_parameters_3x3]) #all the parameters\n",
    "qc_gate_3x3 = QuantumCircuit(num_qubits_3x3)\n",
    "\n",
    "\n",
    "for i in range(len(params)//num_parameters_3x3):\n",
    "    qc_gate_3x3.append(ansatz_layer_3x3(num_qubits_3x3,params[num_parameters_3x3*i:num_parameters_3x3*(i+1)]),list_n)\n",
    "    qc_gate_3x3.barrier()\n",
    "qc_gate_3x3.draw(\"mpl\")"
   ]
  },
  {
   "cell_type": "markdown",
   "id": "054aaffd",
   "metadata": {},
   "source": [
    "of each gate we check that it is equivalent to our ansatz using decompose()"
   ]
  },
  {
   "cell_type": "code",
   "execution_count": null,
   "id": "b6e12aca",
   "metadata": {},
   "outputs": [],
   "source": [
    "qc_gate_3x3.decompose().draw(\"mpl\")"
   ]
  },
  {
   "cell_type": "markdown",
   "id": "42ecf643",
   "metadata": {},
   "source": [
    "Based on the above examples, fill in what we are missing"
   ]
  },
  {
   "cell_type": "code",
   "execution_count": null,
   "id": "9622ffb8",
   "metadata": {},
   "outputs": [],
   "source": [
    "def boltzman_machine_3x3(params): \n",
    "    D = int(num_qubits_3x3**2)\n",
    "    cost = 0\n",
    "    list_n = range(num_qubits_3x3)\n",
    "    \n",
    "    qc = QuantumCircuit(num_qubits_3x3)\n",
    "    for i in range(len(params)//num_parameters_3x3):\n",
    "        qc.append(ansatz_layer_3x3(num_qubits_3x3,params[num_parameters_3x3*i:num_parameters_3x3*(i+1)]),list_n)\n",
    "    shots= 8192\n",
    "    simulator = Aer.get_backend('statevector_simulator')\n",
    "    result = execute(qc, simulator).result()\n",
    "    statevector = result.get_statevector(qc)\n",
    "    #how check the cost?\n",
    "    return cost"
   ]
  },
  {
   "cell_type": "markdown",
   "id": "91133b37",
   "metadata": {},
   "source": [
    "Complete the code you have to run our QBM, for this consider an optimizer and the number of iterations to use, remember in the optimizer you have the variable maxiter"
   ]
  },
  {
   "cell_type": "code",
   "execution_count": null,
   "id": "648dc612",
   "metadata": {},
   "outputs": [],
   "source": [
    "params = np.random.random([num_layers*num_parameters_3x3])    \n",
    "\n",
    "\n",
    "print(\"cost\")\n",
    "for i in range(): #  number of iterations\n",
    "    optimizer =  # which iterations and steps?\n",
    "    ret = optimizer.optimize(num_vars=len(params),objective_function=boltzman_machine_3x3, initial_point=params)\n",
    "    noise_params = ret[0]\n",
    "    print(ret[1])"
   ]
  },
  {
   "cell_type": "markdown",
   "id": "306c1f5e",
   "metadata": {},
   "source": [
    "Now, we obtain the result in a distribution $P_{3x3}(x)$"
   ]
  },
  {
   "cell_type": "code",
   "execution_count": null,
   "id": "5ddb17b3",
   "metadata": {},
   "outputs": [],
   "source": [
    "def boltzman_machine_valid_3x3(params):\n",
    "    n=4\n",
    "    list_n = range(n)\n",
    "    qc = QuantumCircuit(n)\n",
    "    for i in range(len(params)//num_parameters):\n",
    "        qc.append(ansatz_layer_3x3(n,params[num_parameters*i:num_parameters*(i+1)],(i+1)%2),list_n)\n",
    "    shots= 8192\n",
    "    simulator = Aer.get_backend('statevector_simulator')\n",
    "    result = execute(qc, simulator).result()\n",
    "    #statevector = result.get_statevector(qc)\n",
    "\n",
    "    return result"
   ]
  },
  {
   "cell_type": "markdown",
   "id": "f11f1a17",
   "metadata": {},
   "source": [
    "psi_sv_3x3 =  boltzman_machine_valid_3x3(params)\n",
    "psi_3x3 = psi_sv_3x3.get_statevector()"
   ]
  },
  {
   "cell_type": "markdown",
   "id": "f209d3d5",
   "metadata": {},
   "source": [
    "Finally, we plot the results"
   ]
  },
  {
   "cell_type": "code",
   "execution_count": null,
   "id": "8f0aed91",
   "metadata": {},
   "outputs": [],
   "source": [
    "psi_3x3_dict = psi_3x3.get_counts()\n",
    "\n",
    "plot_histogram([dict_px_3x3,psi_3x3_dict], title='p(x) of the QBM',\n",
    "               legend=['correct distribution', 'simulation'])"
   ]
  },
  {
   "cell_type": "markdown",
   "id": "2d93824d",
   "metadata": {},
   "source": [
    "If there is no problem up to this point, you will have a distribution similar to the one we have designed, **congratulations!** \n",
    "\n",
    "But for the end we leave the following question, can we decrease the number of qubits?"
   ]
  },
  {
   "cell_type": "markdown",
   "id": "580a0188",
   "metadata": {},
   "source": [
    "##   References\n",
    "\n",
    "1. Amin, Mohammad & Andriyash, Evgeny & Rolfe, Jason & Kulchytskyy, Bohdan & Melko, Roger. (2016). Quantum Boltzmann Machine. Physical Review X. 8. 10.1103/PhysRevX.8.021050 [https://arxiv.org/pdf/1601.02036.pdf](https://arxiv.org/pdf/1601.02036.pdf) .\n",
    "\n",
    "2. Zoufal, Christa & Lucchi, Aurelien & Woerner, Stefan. (2021). Variational quantum Boltzmann machines. Quantum Machine Intelligence. 3. 10.1007/s42484-020-00033-7 [https://arxiv.org/pdf/2006.06004.pdf](https://arxiv.org/pdf/2006.06004.pdf). \n",
    "\n",
    "3. Benedetti, Marcello & Garcia-Pintos, Delfina & Nam, Yunseong & Perdomo-Ortiz, Alejandro. (2018). A generative modeling approach for benchmarking and training shallow quantum circuits. npj Quantum Information. 5. 10.1038/s41534-019-0157-8. [https://arxiv.org/pdf/1801.07686.pdf](https://arxiv.org/pdf/1801.07686.pdf) [paper](https://www.nature.com/articles/s41534-019-0157-8)\n",
    "\n",
    "4. Rudolph, Manuel & Bashige, Ntwali & Katabarwa, Amara & Johr, Sonika & Peropadre, Borja & Perdomo-Ortiz, Alejandro. (2020). Generation of High Resolution Handwritten Digits with an Ion-Trap Quantum Computer. [https://arxiv.org/pdf/2012.03924.pdf](https://arxiv.org/pdf/2012.03924.pdf)\n",
    "\n",
    "5. Jinguo, Liu & Wang, Lei. (2018). Differentiable Learning of Quantum Circuit Born Machine. Physical Review A. 98. 10.1103/PhysRevA.98.062324. [https://arxiv.org/pdf/1804.04168.pdf](https://arxiv.org/pdf/1804.04168.pdf)"
   ]
  },
  {
   "cell_type": "code",
   "execution_count": null,
   "id": "be0ef8de",
   "metadata": {},
   "outputs": [],
   "source": [
    "import qiskit.tools.jupyter\n",
    "%qiskit_version_table"
   ]
  }
 ],
 "metadata": {
  "kernelspec": {
   "display_name": "Python 3 (ipykernel)",
   "language": "python",
   "name": "python3"
  },
  "language_info": {
   "codemirror_mode": {
    "name": "ipython",
    "version": 3
   },
   "file_extension": ".py",
   "mimetype": "text/x-python",
   "name": "python",
   "nbconvert_exporter": "python",
   "pygments_lexer": "ipython3",
   "version": "3.9.8"
  }
 },
 "nbformat": 4,
 "nbformat_minor": 5
}
