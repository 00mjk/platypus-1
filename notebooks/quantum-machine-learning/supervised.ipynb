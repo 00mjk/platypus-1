{
 "cells": [
  {
   "cell_type": "markdown",
   "metadata": {},
   "source": [
    "# Supervised Learning"
   ]
  },
  {
   "cell_type": "markdown",
   "metadata": {},
   "source": [
    "Supervised learning is the machine learning task of learning a function that maps an input to an output based on example input-output pairs. It infers a function from labeled training data consisting of a set of training examples, and its performance is calculated using a set of testing examples.\n",
    "\n",
    "<div class=\"alert alert-block alert-info\">\n",
    "\n",
    "**include image similar to this**\n",
    "<figure>\n",
    "  <img src=\"https://miro.medium.com/max/1400/1*ASYpFfDh7XnreU-ygqXonw.png\" style=\"height:300px\">\n",
    "</figure>\n",
    "\n",
    "</div>\n",
    "\n",
    "Supervised learning can be separated in two types of problems: **classification** and **regression**.\n",
    "- **Classification** is used to assign data into specific categories, like given a set of labeled images of chairs or tables, being able to identify new photos of chairs or tables. \n",
    "- **Regression** is used to understand the relationship between dependent and independent variables and commonly used to make predictions, like given a series of historical stock prices, predict the future stock price."
   ]
  },
  {
   "cell_type": "markdown",
   "metadata": {},
   "source": [
    "The focus of much recent research in near term quantum supervised learning has been in classification, and with two methods in particular, which are covered in detail in the linked sections:\n",
    "-  **[Quantum Variational Classification](vqc.ipynb)** (2018)\n",
    "\n",
    "<figure>\n",
    "  <img src=\"images/vqccircuit.png\" style=\"height:250px\" align=\"left\">\n",
    "</figure>"
   ]
  },
  {
   "cell_type": "markdown",
   "metadata": {},
   "source": [
    "Given an input set $\\mathcal{X}$ and quantum Hilbert space $\\mathcal{H}$, datapoints $\\vec{x}_i \\in \\mathcal{X}$ are encoded into quantum states by means of the quantum feature map, i.e. $U_\\Phi ∶ \\mathcal{X} \\rightarrow \\mathcal{H}$, then processed with a parameterized quantum circuit $W(\\theta)$. The resultant states become $|\\Psi(x_i,\\theta)\\rangle = W\\theta| \\Phi(\\vec{x}_i)\\rangle$ where parameters are estimated by training to match the target states $|y_i\\rangle $ that represent the $y_i$ labels of the training points. "
   ]
  },
  {
   "cell_type": "markdown",
   "metadata": {},
   "source": [
    "- **[Quantum Kernel Estimation](kernel.ipynb)** (2019)\n",
    "<figure>\n",
    "  <img src=\"images/qkecircuit.png\" style=\"height:250px\" align=\"left\">\n",
    "</figure>"
   ]
  },
  {
   "cell_type": "markdown",
   "metadata": {},
   "source": [
    "Given an input set $\\mathcal{X}$ and quantum Hilbert space $\\mathcal{H}$, datapoints $\\vec{x}_i \\in \\mathcal{X}$ are encoded into a quantum state by means of the quantum feature map, i.e. $U_\\Phi ∶ \\mathcal{X} \\rightarrow \\mathcal{H}$. The inner product of two quantum encoded quantum states define a kernel: $K(\\vec{x}_i,\\vec{x}_j) \\equiv \\langle \\Phi(\\vec{x}_i) | \\Phi(\\vec{x}_j)\\rangle_{\\mathcal{H}}$, which is analogous to a kernel in classical machine learning. "
   ]
  },
  {
   "cell_type": "markdown",
   "metadata": {},
   "source": [
    "Both methods require a way to encode the data into a quantum state. There are several strategies to define the quantum feature map, or encoding, as discussed in a previous [section](encoding.ipynb). It is a key step in the success of the classification task, and to eventually obtain any quantum advantage, a classically intractable feature map needs to be used. "
   ]
  },
  {
   "cell_type": "markdown",
   "metadata": {},
   "source": [
    "<div class=\"alert alert-block alert-info\">\n",
    "\n",
    "**not sure what widgets to put on this page**\n",
    "\n",
    "</div>"
   ]
  },
  {
   "cell_type": "markdown",
   "metadata": {},
   "source": [
    "## References\n",
    "\n",
    "1.  Maria Schuld and Francesco Petruccione, *Supervised Learning with Quantum Computers*, Springer 2018, [doi:10.1007/978-3-319-96424-9](https://www.springer.com/gp/book/9783319964232)."
   ]
  }
 ],
 "metadata": {
  "kernelspec": {
   "display_name": "Python [conda env:qiskit]",
   "language": "python",
   "name": "conda-env-qiskit-py"
  },
  "language_info": {
   "codemirror_mode": {
    "name": "ipython",
    "version": 3
   },
   "file_extension": ".py",
   "mimetype": "text/x-python",
   "name": "python",
   "nbconvert_exporter": "python",
   "pygments_lexer": "ipython3",
   "version": "3.8.11"
  }
 },
 "nbformat": 4,
 "nbformat_minor": 2
}
