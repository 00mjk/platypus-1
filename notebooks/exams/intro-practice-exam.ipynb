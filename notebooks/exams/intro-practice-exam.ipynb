{
    "cells": [
        {
            "cell_type": "markdown",
            "metadata": {
                "gloss": {}
            },
            "source": [
                "# Introduction Practice Exam\n",
                "\n",
                "Did you understand the basics of Qiskit? Test your knowledge with this practice exam!"
            ]
        },
        {
            "cell_type": "markdown",
            "metadata": {},
            "source": [
                "## Problem 1: Interpreting Circuits\n",
                "\n",
                "Consider the following ciruit, which is composed of four Hadamard gates and a Toffoli gate:\n",
                "\n",
                "![Hadamard on q0, q2. Toffoli across q0, q1, q2. Hadamard on q0, q2](images/problem1/problem1_circuit.png)\n"
            ]
        },
        {
            "cell_type": "markdown",
            "metadata": {},
            "source": [
                "<!-- ::: q-block.exercise -->\n",
                "\n",
                "### Problem 1a\n",
                "\n",
                "<!-- ::: q-quiz(goal=\"intro-practice-exam-0\") -->\n",
                "\n",
                "<!-- ::: .question -->\n",
                "\n",
                "What is the state output if the above circuit is applied to $|q_0\\rangle$, $|q_1\\rangle$, $|q_2\\rangle$ = $|001\\rangle$ respectively?\n",
                "\n",
                "<!-- ::: -->\n",
                "\n",
                "<!-- ::: .option -->\n",
                "\n",
                "1. $|000\\rangle$\n",
                "\n",
                "<!-- ::: -->\n",
                "\n",
                "<!-- ::: .option(correct) -->\n",
                "\n",
                "2. $|100\\rangle$\n",
                "\n",
                "<!-- ::: -->\n",
                "\n",
                "<!-- ::: .option -->\n",
                "\n",
                "3. $|111\\rangle$\n",
                "\n",
                "<!-- ::: -->\n",
                "\n",
                "<!-- ::: .option -->\n",
                "\n",
                "4. $|101\\rangle$\n",
                "\n",
                "<!-- ::: -->\n",
                "\n",
                "<!-- ::: -->\n",
                "\n",
                "<!-- ::: -->"
            ]
        },
        {
            "cell_type": "markdown",
            "metadata": {},
            "source": [
                "<!-- ::: q-block.exercise -->\n",
                "\n",
                "### Problem 1b\n",
                "\n",
                "<!-- ::: q-quiz(goal=\"intro-practice-exam-0\") -->\n",
                "\n",
                "<!-- ::: .question -->\n",
                "\n",
                "What is the state output if the above circuit is applied to $|q_0\\rangle$, $|q_1\\rangle$, $|q_2\\rangle$ = $|011\\rangle$ respectively?\n",
                "\n",
                "<!-- ::: -->\n",
                "\n",
                "<!-- ::: .option -->\n",
                "\n",
                "1. $|000\\rangle$\n",
                "\n",
                "<!-- ::: -->\n",
                "\n",
                "<!-- ::: .option -->\n",
                "\n",
                "2. $|100\\rangle$\n",
                "\n",
                "<!-- ::: -->\n",
                "\n",
                "<!-- ::: .option(correct) -->\n",
                "\n",
                "3. $|111\\rangle$\n",
                "\n",
                "<!-- ::: -->\n",
                "\n",
                "<!-- ::: .option -->\n",
                "\n",
                "4. $|101\\rangle$\n",
                "\n",
                "<!-- ::: -->\n",
                "\n",
                "<!-- ::: -->\n",
                "\n",
                "<!-- ::: -->"
            ]
        },
        {
            "cell_type": "markdown",
            "metadata": {},
            "source": [
                "### Problem 1c\n",
                "\n",
                "In light of your answers from _(1a)_ and _(1b)_, give a simpler circuit composed only of Hadamard, Toffoli, NOT, and / or controlled-NOT gates that implements the same unitary transformation as the above circuits. (Simpler means fewer gates.)"
            ]
        },
        {
            "cell_type": "code",
            "execution_count": null,
            "metadata": {
                "grader_function": "grade_problem1c(qc)",
                "grader_import": "from qc_grader.challenges.intro_practice_exam import grade_problem1c"
            },
            "outputs": [],
            "source": [
                "from qiskit import *\n",
                "\n",
                "# Start your work here.\n",
                "# We've provided the circuit that is shown above\n",
                "# Your circuit MUST be named qc\n",
                "\n",
                "qc = QuantumCircuit(3)\n",
                "\n",
                "qc.h(0)\n",
                "qc.h(2)\n",
                "qc.toffoli(0, 1, 2)\n",
                "qc.h(0)\n",
                "qc.h(2)\n",
                "\n",
                "qc.draw()"
            ]
        },
        {
            "cell_type": "markdown",
            "metadata": {},
            "source": [
                "## Problem 2: Creating Entanglements\n",
                "\n",
                "Using a quantum circuit and a set of inputs create the following bell states"
            ]
        },
        {
            "cell_type": "markdown",
            "metadata": {},
            "source": [
                "### Problem 2a\n",
                "\n",
                "$|\\beta_{01} \\rangle = \\frac{1}{\\sqrt2}(|00\\rangle + |10\\rangle)$"
            ]
        },
        {
            "cell_type": "code",
            "execution_count": null,
            "metadata": {
                "grader_function": "grade_problem2a(qc)",
                "grader_import": "from qc_grader.challenges.intro_practice_exam import grade_problem2a"
            },
            "outputs": [],
            "source": [
                "from qiskit import *\n",
                "\n",
                "# Start your work here.\n",
                "# We've provided the circuit that is shown above\n",
                "# Your circuit MUST be named qc\n",
                "\n",
                "qc = QuantumCircuit(2)\n",
                "\n",
                "qc.draw()"
            ]
        },
        {
            "cell_type": "markdown",
            "metadata": {},
            "source": [
                "### Problem 2b\n",
                "\n",
                "$|\\beta_{10} \\rangle = \\frac{1}{\\sqrt2}(|00\\rangle - |11\\rangle)$"
            ]
        },
        {
            "cell_type": "code",
            "execution_count": null,
            "metadata": {
                "grader_function": "grade_problem2b(qc)",
                "grader_import": "from qc_grader.challenges.intro_practice_exam import grade_problem2b"
            },
            "outputs": [],
            "source": [
                "from qiskit import *\n",
                "\n",
                "# Start your work here.\n",
                "# We've provided the circuit that is shown above\n",
                "# Your circuit MUST be named qc\n",
                "\n",
                "qc = QuantumCircuit(2)\n",
                "\n",
                "qc.draw()"
            ]
        },
        {
            "cell_type": "markdown",
            "metadata": {},
            "source": [
                "### Problem 2c\n",
                "\n",
                "$|\\beta_{11} \\rangle = \\frac{1}{\\sqrt2}(|01\\rangle - |10\\rangle)$"
            ]
        },
        {
            "cell_type": "code",
            "execution_count": null,
            "metadata": {
                "grader_function": "grade_problem2c(qc)",
                "grader_import": "from qc_grader.challenges.intro_practice_exam import grade_problem2c"
            },
            "outputs": [],
            "source": [
                "from qiskit import *\n",
                "\n",
                "# Start your work here.\n",
                "# We've provided the circuit that is shown above\n",
                "# Your circuit MUST be named qc\n",
                "\n",
                "qc = QuantumCircuit(2)\n",
                "\n",
                "qc.draw()"
            ]
        },
        {
            "cell_type": "markdown",
            "metadata": {},
            "source": [
                "## Problem 3: Error Correction\n",
                "\n",
                "Using the 3-qubit Greenberger-Horne-Zeilinger (GHZ) state (the quantum is shown below), answer the following questions:\n",
                "\n",
                "![Hadamard on q0. CNOT across q1 and q0. CNOT across q1 and q2.](images/problem3/problem3_circuit.png)"
            ]
        },
        {
            "cell_type": "markdown",
            "metadata": {},
            "source": [
                "<!-- ::: q-block.exercise -->\n",
                "\n",
                "### Problem 3a\n",
                "\n",
                "<!-- ::: q-quiz(goal=\"intro-practice-exam-3\") -->\n",
                "\n",
                "<!-- ::: .question -->\n",
                "\n",
                "Given that all three qubits are initalised to $|0\\rangle$, what output does the circuit produce?\n",
                "\n",
                "<!-- ::: -->\n",
                "\n",
                "<!-- ::: .option -->\n",
                "\n",
                "1. $|000\\rangle$\n",
                "\n",
                "<!-- ::: -->\n",
                "\n",
                "<!-- ::: .option(correct) -->\n",
                "\n",
                "2. Equal $|000\\rangle$ and $|111\\rangle$\n",
                "\n",
                "<!-- ::: -->\n",
                "\n",
                "<!-- ::: .option -->\n",
                "\n",
                "3. $|111\\rangle$\n",
                "\n",
                "<!-- ::: -->\n",
                "\n",
                "<!-- ::: .option -->\n",
                "\n",
                "4. Equal $|100\\rangle$ and $|010\\rangle$ and $|001\\rangle$\n",
                "\n",
                "<!-- ::: -->\n",
                "\n",
                "<!-- ::: -->\n",
                "\n",
                "<!-- ::: -->"
            ]
        },
        {
            "cell_type": "markdown",
            "metadata": {},
            "source": [
                "<!-- ::: q-block.exercise -->\n",
                "\n",
                "### Problem 3b\n",
                "\n",
                "<!-- ::: q-quiz(goal=\"intro-practice-exam-4\") -->\n",
                "\n",
                "<!-- ::: .question -->\n",
                "\n",
                "Are the output entangled?\n",
                "\n",
                "<!-- ::: -->\n",
                "\n",
                "<!-- ::: .option -->\n",
                "\n",
                "1. No\n",
                "\n",
                "<!-- ::: -->\n",
                "\n",
                "<!-- ::: .option(correct) -->\n",
                "\n",
                "2. Yes\n",
                "\n",
                "<!-- ::: -->\n",
                "\n",
                "<!-- ::: -->\n",
                "\n",
                "<!-- ::: -->"
            ]
        },
        {
            "cell_type": "markdown",
            "metadata": {},
            "source": [
                "<!-- ::: q-block.exercise -->\n",
                "\n",
                "### Problem 3c\n",
                "\n",
                "<!-- ::: q-quiz(goal=\"intro-practice-exam-5\") -->\n",
                "\n",
                "<!-- ::: .question -->\n",
                "\n",
                "What is the resulting quantum state if we get an X-error (rotation by $\\sigma_x$, a bit flip) after the CNOT gates in $|q_2 \\rangle$\n",
                "\n",
                "<!-- ::: -->\n",
                "\n",
                "<!-- ::: .option -->\n",
                "\n",
                "1. $|001\\rangle$\n",
                "\n",
                "<!-- ::: -->\n",
                "\n",
                "<!-- ::: .option(correct) -->\n",
                "\n",
                "2. Equal $|011\\rangle$ and $|100\\rangle$\n",
                "\n",
                "<!-- ::: -->\n",
                "\n",
                "<!-- ::: .option -->\n",
                "\n",
                "3. $|101\\rangle$\n",
                "\n",
                "<!-- ::: -->\n",
                "\n",
                "<!-- ::: .option -->\n",
                "\n",
                "4. Equal $|001\\rangle$ and $|110\\rangle$\n",
                "\n",
                "<!-- ::: -->\n",
                "\n",
                "<!-- ::: -->\n",
                "\n",
                "<!-- ::: -->"
            ]
        }
    ],
    "metadata": {
        "kernelspec": {
            "display_name": "Python 3 (ipykernel)",
            "language": "python",
            "name": "python3"
        },
        "language_info": {
            "codemirror_mode": {
                "name": "ipython",
                "version": 3
            },
            "file_extension": ".py",
            "mimetype": "text/x-python",
            "name": "python",
            "nbconvert_exporter": "python",
            "pygments_lexer": "ipython3",
            "version": "3.8.5"
        }
    },
    "nbformat": 4,
    "nbformat_minor": 4
}