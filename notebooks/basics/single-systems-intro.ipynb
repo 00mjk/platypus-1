{
 "cells": [
  {
   "cell_type": "markdown",
   "id": "13690dd7",
   "metadata": {},
   "source": [
    "# Single systems\n",
    "\n",
    "This lesson introduces the framework of *quantum information*, including the description of *quantum states* as vectors with complex number entries, basic types of *measurements* that allow classical information to be extracted from quantum states, and *operations* on quantum states that are described by unitary matrices.\n",
    "We will restrict our attention in this lesson to the comparatively simple situation in which a *single system* is considered *in isolation*.\n",
    "The situation in which *multiple systems* are considered, and where *correlations* among the systems (such as entanglement) may arise, is the subject of the lesson following this one.\n",
    "\n",
    "There are, in fact, two mathematical descriptions of quantum information that are commonly used.\n",
    "The one introduced in this lesson is the simpler of the two.\n",
    "This description is sufficient for understanding many (or perhaps most) quantum algorithms, and is a natural place to start from a pedagogical viewpoint.\n",
    "\n",
    "A more general, and ultimately more powerful and widely applicable description of quantum information, in which quantum states are represented by *density matrices*, will be introduced in a later lesson.\n",
    "The density matrix description is essential for the study of quantum information for reasons that will be explained as they arise.\n",
    "For example, this description is used to model the effects of *noise* on quantum computations, and more generally it serves as a mathematical basis for quantum information theory and quantum cryptography.\n",
    "It is also quite beautiful from a mathematical perspective.\n",
    "For these reasons, learners are encouraged to learn more about it when the time is right.\n",
    "For now, however, our focus will be on the simpler description of quantum information."
   ]
  },
  {
   "cell_type": "markdown",
   "id": "3e332889",
   "metadata": {},
   "source": [
    "(*** It would be nice to list here a table of contents for the lesson, a summary of prerequisite material, recommended readings, etc. This is essentially the landing page for the lesson.)"
   ]
  }
 ],
 "metadata": {
  "kernelspec": {
   "display_name": "Python 3 (ipykernel)",
   "language": "python",
   "name": "python3"
  },
  "language_info": {
   "codemirror_mode": {
    "name": "ipython",
    "version": 3
   },
   "file_extension": ".py",
   "mimetype": "text/x-python",
   "name": "python",
   "nbconvert_exporter": "python",
   "pygments_lexer": "ipython3",
   "version": "3.8.5"
  }
 },
 "nbformat": 4,
 "nbformat_minor": 5
}
