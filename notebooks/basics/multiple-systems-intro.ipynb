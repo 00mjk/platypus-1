{
 "cells": [
  {
   "cell_type": "markdown",
   "id": "8e2151b1",
   "metadata": {},
   "source": [
    "# Multiple systems\n",
    "\n",
    "The focus of this lesson is on the basics of quantum information when there are *multiple* systems being considered or described.\n",
    "This is a continuation of the previous lesson's discussion of quantum systems in isolation.\n",
    "\n",
    "A simple, yet very important, idea to keep in mind going into this lesson is that one can always choose to view multiple systems *together* as if they form a *single system* — to which the discussion in the previous lesson must then apply.\n",
    "Indeed, this idea very directly leads to a description of how quantum states, measurements, and operations should work for multiple systems.\n",
    "\n",
    "There is more, however, to understanding multiple quantum systems than to recognize that they may be viewed collectively as single systems.\n",
    "For instance, we may have multiple quantum systems that are collectively in a particular quantum state and then choose to measure just one of the individual systems.\n",
    "In general, this will affect the state of the remaining systems, and it is important to understand exactly how when analyzing quantum algorithms and protocols.\n",
    "An understanding of the sorts of *correlations* among multiple systems — and particularly a type of correlation known as *entanglement* — is also of paramount importance in quantum information.\n"
   ]
  },
  {
   "cell_type": "markdown",
   "id": "febe0b03",
   "metadata": {},
   "source": [
    "(*** Table of contents, prerequisites, recommended readings.)"
   ]
  }
 ],
 "metadata": {
  "kernelspec": {
   "display_name": "Python 3 (ipykernel)",
   "language": "python",
   "name": "python3"
  },
  "language_info": {
   "codemirror_mode": {
    "name": "ipython",
    "version": 3
   },
   "file_extension": ".py",
   "mimetype": "text/x-python",
   "name": "python",
   "nbconvert_exporter": "python",
   "pygments_lexer": "ipython3",
   "version": "3.8.5"
  }
 },
 "nbformat": 4,
 "nbformat_minor": 5
}
