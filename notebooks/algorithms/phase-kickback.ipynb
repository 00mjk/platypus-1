{
 "cells": [
  {
   "cell_type": "markdown",
   "metadata": {},
   "source": [
    "# Phase Kickback\n",
    "\n",
    "In this page, we'll cover a behaviour of controlled quantum gates known as \"phase kickback\". This interesting quantum effect is a building block in many famous quantum algorithms, including Shor's factoring algorithm, and Grover's search algorithm."
   ]
  },
  {
   "cell_type": "markdown",
   "metadata": {
    "formulas": {
     "_control-qubit-post": {
      "meaning": "This is a qubit in superposition of |0〉 and |1〉."
     },
     "_control-qubit-pre": {
      "meaning": "This is a qubit in superposition of |0〉 and |1〉."
     },
     "_eig-val-A": {
      "meaning": "This is a complex number, which we call the <i>eigenvalue</i>."
     },
     "_eig-val-U": {
      "meaning": "This is a complex number with magnitude 1.<br><a href='https://en.wikipedia.org/wiki/Euler%27s_formula'>Read more</a>."
     },
     "_eig-vec-A": {
      "meaning": "This is a vector. In this case, this vector is an <i>eigenvector</i> of the matrix 'A'."
     },
     "_eig-vec-U": {
      "meaning": "This is a state vector, and in this case, an eigen<i>state</i> of the matrix 'U'."
     },
     "_matrix-A": {
      "meaning": "This letter represents a matrix."
     },
     "_matrix-CU": {
      "meaning": "This is the operation U, controlled by another qubit."
     },
     "_matrix-U": {
      "meaning": "This letter represents a unitary matrix (e.g. a quantum gate)."
     }
    }
   },
   "source": [
    "## Eigenvectors\n",
    "\n",
    "You should already be familiar with eigenvectors and eigenvalues, but if not, you can read a nice introduction [here](https://www.khanacademy.org/math/linear-algebra/alternate-bases/eigen-everything/v/linear-algebra-introduction-to-eigenvalues-and-eigenvectors). If you _are_ familiar, then you should recognise the eigenvector equation:\n",
    "\n",
    "$$ \\class{_matrix-A}{A}\\class{_eig-vec-A}{|x\\rangle} = \\class{_eig-val-A}{\\lambda}\\class{_eig-vec-A}{|x\\rangle} $$\n",
    "\n",
    "This is even simpler in quantum computing. Since all our state vectors have a magnitude of 1, our eigenvalues also need to have a magnitude of 1, i.e. $\\lambda = e^{2\\pi i \\theta}$. So for a quantum gate $U$ and its eigenstate $|x\\rangle$, we have:\n",
    "\n",
    "$$ \\class{_matrix-U}{U}\\class{_eig-vec-U}{|x\\rangle} = \\class{_eig-val-U}{e^{2\\pi i \\theta}}\\class{_eig-vec-U}{|x\\rangle} $$\n",
    "\n",
    "To sum up: If a gate rotates (and only rotates) all the amplitudes of a state vector by the same amount, then that state is an _eigenstate_ of that gate.\n",
    "\n",
    "\n",
    "<!-- ::: q-block -->\n",
    "\n",
    "### Exploring eigenvectors\n",
    "\n",
    "Use the widget below to see how a single-qubit gate transforms a single-qubit state. Can you work out which states are eigenstates of which gates?\n",
    "\n",
    "    q-eigenvector-widget\n",
    "\n",
    "<!-- ::: -->"
   ]
  },
  {
   "cell_type": "markdown",
   "metadata": {},
   "source": [
    "## Controlled gates & eigenstates\n",
    "\n",
    "Once you're comfortable with the concept of eigenstates, we can start to think about what happens when we control these circuits on the state of another qubit. For example, we know the Z-gate acting on the state $|1\\rangle$ introduces a negative global phase ($\\theta = 0.5$), let's work out what happens when we control this operation.\n",
    "\n",
    "<!-- ::: q-block.tabs -->\n",
    "\n",
    "### The controlled-Z gate\n",
    "\n",
    "<!-- ::: tab -->\n",
    "\n",
    "### |10〉\n",
    "\n",
    "<!-- ::: column(width=200) -->\n",
    "\n",
    "If the control qubit is $|0\\rangle$, then the behaviour is trivial; nothing happens.\n",
    "\n",
    "<!-- ::: column(width=400) -->\n",
    "\n",
    "![circuit diagram showing a two-qubit register in the state 01, acted on by a CZ-gate. The state is unchanged](images/kickback/tabs/0/0.svg)\n",
    "\n",
    "<!-- ::: -->\n",
    "\n",
    "<!-- ::: tab -->\n",
    "\n",
    "### |11〉\n",
    "\n",
    "<!-- ::: column(width=200) -->\n",
    "\n",
    "If the control qubit is $|1\\rangle$, the gate introduces a global phase (note the minus sign in the image to the right), but the qubit's states are unchanged.\n",
    "\n",
    "<!-- ::: column(width=400) -->\n",
    "\n",
    "![circuit diagram showing a two-qubit register in the state 01, acted on by a CZ-gate. The state is unchanged](images/kickback/tabs/0/1.svg)\n",
    "\n",
    "<!-- ::: -->\n",
    "\n",
    "<!-- ::: tab -->\n",
    "\n",
    "### |1+〉\n",
    "\n",
    "<!-- ::: column(width=200) -->\n",
    "\n",
    "The controlled-Z gate does nothing when the control is $|0\\rangle$, and introduces a negative phase when the control is $|1\\rangle$. When the control qubit is in superposition, the gate changes the _relative_ phase between the $|0\\rangle$ and $|1\\rangle$ states of the control qubit.\n",
    "\n",
    "<!-- ::: column(width=400) -->\n",
    "\n",
    "![circuit diagram showing a two-qubit register in the state 01, acted on by a CZ-gate. The state is unchanged](images/kickback/tabs/0/2.svg)\n",
    "\n",
    "<!-- ::: -->\n",
    "\n",
    "<!-- ::: -->\n",
    "\n",
    "<!-- ::: -->\n",
    "\n",
    "When the control is $|{+}\\rangle$, and the target is $|1\\rangle$, the controlled-Z gate changes the state of the _control_ qubit, but leaves the target qubit unchanged. This effect is called \"phase kickback\", since the eigenvalue makes its way back into the state of the control qubit."
   ]
  },
  {
   "cell_type": "markdown",
   "metadata": {},
   "source": [
    "More generally, If we have a quantum gate $U$, and it's eigenstate $|x\\rangle$, then $U$ acting on $|x\\rangle$ will add a global phase $\\theta$ as we saw above.\n",
    "\n",
    "$$ \\class{_matrix-U}{U}\\class{_eig-vec-U}{|x\\rangle} = \\class{_eig-val-U}{e^{2\\pi i \\theta}}\\class{_eig-vec-U}{|x\\rangle} $$\n",
    "\n",
    "If we control the operation $U|x\\rangle$ by another qubit in a superposition of $|0\\rangle$ and $|1\\rangle$, then this will have the effect of rotating the control qubit around the Z-axis by angle $\\theta$. I.e.:\n",
    "\n",
    "$$ \\class{_matrix-CU}{CU}\\class{_eig-vec-U}{|x\\rangle}\\class{_control-qubit-pre}{(\\alpha|0\\rangle + \\beta|1\\rangle)} = \\class{_eig-vec-U}{|x\\rangle}\\class{_control-qubit-post}{(\\alpha|0\\rangle + \\beta e^{2\\pi i \\theta}}|1\\rangle) $$"
   ]
  },
  {
   "cell_type": "markdown",
   "metadata": {},
   "source": [
    "## Deutsch's problem\n",
    "\n",
    "We've just seen that conditioning something on the state of a qubit can actually change the state of the controlling qubit. This is a 'quantum' effect, i.e., something we don't see happen with classical bits.\n",
    "\n",
    "In quantum computing, we want to create algorithms that classical computers _can't_ carry out, so a good place to start is to try and reframe this effect as a problem to be solved. This way, we can prove quantum computers are at least slightly better at something than classical computers.\n",
    "\n",
    "Deutsch's problem does exactly this. Deutsch's is a 'black box' problem; an artificial problem where we're allowed to apply a function to our bits, but we're not allowed to look at how the function works. The challenge is to discover some properties of the box by trying different inputs and outputs.\n",
    "\n",
    "Deutsch's problem is as follows: We're given a classical, reversible function, (which we'll call $f$ as a shorthand), that acts on two bits, `a` & `b`. The function will leave bit `a` alone, but may, or may not, flip bit `b`. Deutsch's problem asks us to work out whether $f$ behaves differently depending on the value of `a` (we'll call this \"balanced\" behaviour), or if it ignores `a` and always does the same thing to `b` (\"constant\" behaviour). The challenge is to do this while applying $f$ as few times as possible.\n",
    "\n",
    "![Image of deutsch's problem as a quantum circuit. The circuit has two bits, the top and bottom wires labelled 'a' and 'b' respectively. Both bits are then acted on by an opaque, two-bit gate labelled 'f'. After 'f', the top wire is still labelled 'f', but the bottom wire is now labelled 'f(a, b)'.](images/kickback/deutsch-problem.svg)\n",
    "\n",
    "The best classical algorithm for this problem applies $f$ twice with different values of `a`, then looks to see if the $f$ behaved differently."
   ]
  },
  {
   "cell_type": "markdown",
   "metadata": {},
   "source": [
    "## Deutsch's algorithm\n",
    "\n",
    "As you may have guessed, we can use phase kickback to create a quantum algorithm that does even better than the classical algorithm. If we put qubit `a` in the $|{+}\\rangle$ state, and qubit `b` in the $|{-}\\rangle$ state, then any flip conditioned on `a` will kick back a negative relative phase, flipping qubit `a` from $|{+}\\rangle$ to $|{-}\\rangle$. We can then apply a H-gate to `a` to see whether kickback occurred or not.\n",
    "\n",
    "![Image of deutsch's algorithm as a quantum circuit.](images/kickback/deutsch-algorithm.svg)\n",
    "\n",
    "This isn't the most impressive example; it's very specific, and we don't find black box problems in the wild. Instead, Deutsch's problem gives us an encouraging result, and some interesting effects to explore. In the rest of this course, we'll extend this simple experiment to solve even more impressive problems, including factoring."
   ]
  },
  {
   "cell_type": "markdown",
   "metadata": {},
   "source": [
    "\n",
    "\n",
    "<!-- ::: q-block.exercise -->\n",
    "\n",
    "### Try it\n",
    "\n",
    "Make a function, `deutsch()` that takes a Deutsch function as a `QuantumCircuit` and uses the Deutsch algorithm to solve it on a quantum simulator. Your function should return `True` if the Deutsch funciton is balanced, and `False` if it's constant.\n",
    "\n",
    "You can use the function `deutsch_problem()` to create a `QuantumCircuit` you can use as input to your `deutsch()` function.\n",
    "\n",
    "<!-- ::: -->"
   ]
  },
  {
   "cell_type": "code",
   "execution_count": 54,
   "metadata": {},
   "outputs": [],
   "source": [
    "from qiskit import QuantumCircuit\n",
    "import numpy as np\n",
    "\n",
    "def deutsch_problem(seed=None):\n",
    "    \"\"\"Returns a circuit that carries out the function\n",
    "    from Deutsch's problem.\n",
    "    Args:\n",
    "        seed (int): If set, then returned circuit will\n",
    "            always be the same for the same seed.\n",
    "    Returns: QuantumCircuit\n",
    "    \"\"\"\n",
    "    np.random.seed(seed)\n",
    "    f = QuantumCircuit(2)\n",
    "    if np.random.randint(2):\n",
    "        print(\"Function is balanced.\")\n",
    "        f.cx(0, 1)\n",
    "    else:\n",
    "        print(\"Function is constant.\")\n",
    "    if np.random.randint(2):\n",
    "        f.x(1)\n",
    "    return f"
   ]
  },
  {
   "cell_type": "code",
   "execution_count": 66,
   "metadata": {},
   "outputs": [],
   "source": [
    "def deutsch(function):\n",
    "    \"\"\"Implements Deutsch's algorithm.\n",
    "\n",
    "    Args:\n",
    "        function (QuantumCircuit): Deutsch function to solve.\n",
    "            Must be a 2-qubit circuit, and either balanced,\n",
    "            or constant.\n",
    "    Returns:\n",
    "        bool: True if the circuit is balanced, otherwise False.\n",
    "    \"\"\"\n",
    "\n",
    "    # your code here"
   ]
  },
  {
   "cell_type": "markdown",
   "metadata": {},
   "source": [
    "## Summary\n",
    "\n",
    "In this page, we have:\n",
    "- recapped the concept of eigenvalues and eigenvectors\n",
    "- explored the phase kickback effect and covered some specific examples\n",
    "- introduced Deutsch's problem as a scenario where quantum computers have an advantage over classical computers\n",
    "\n",
    "If you forget everything else from this page, the most important thing to remember and be comfortable with is this summary of phase kickback below:\n",
    "\n",
    "<!-- ::: q-block.reminder -->\n",
    "\n",
    "### Reminder: Phase kickback\n",
    "\n",
    "If we have a quantum gate $U$, and it's eigenstate $|x\\rangle$, then $U$ acting on $|x\\rangle$ will add a global phase $\\theta$. I.e.:\n",
    "\n",
    "$$ \\class{_matrix-U}{U}\\class{_eig-vec-U}{|x\\rangle} = \\class{_eig-val-U}{e^{2\\pi i \\theta}}\\class{_eig-vec-U}{|x\\rangle} $$\n",
    "\n",
    "If we control the operation $U|x\\rangle$ by another qubit in a superposition of $|0\\rangle$ and $|1\\rangle$, then this will have the effect of rotating the control qubit around the Z-axis by angle $\\theta$. I.e.:\n",
    "\n",
    "$$ \\class{_matrix-CU}{CU}\\class{_eig-vec-U}{|x\\rangle}\\class{_control-qubit-pre}{(\\alpha|0\\rangle + \\beta|1\\rangle)} = \\class{_eig-vec-U}{|x\\rangle}\\class{_control-qubit-post}{(\\alpha|0\\rangle + \\beta e^{2\\pi i \\theta}}|1\\rangle) $$\n",
    "\n",
    "<!-- ::: -->"
   ]
  }
 ],
 "metadata": {
  "kernelspec": {
   "display_name": "Python 3 (ipykernel)",
   "language": "python",
   "name": "python3"
  },
  "language_info": {
   "codemirror_mode": {
    "name": "ipython",
    "version": 3
   },
   "file_extension": ".py",
   "mimetype": "text/x-python",
   "name": "python",
   "nbconvert_exporter": "python",
   "pygments_lexer": "ipython3",
   "version": "3.9.10"
  }
 },
 "nbformat": 4,
 "nbformat_minor": 4
}
