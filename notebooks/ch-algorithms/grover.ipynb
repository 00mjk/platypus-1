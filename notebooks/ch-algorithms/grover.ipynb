{
 "cells": [
  {
   "cell_type": "markdown",
   "metadata": {
    "tags": [
     "remove_cell"
    ]
   },
   "source": [
    "# Grover’s Algorithm"
   ]
  },
  {
   "cell_type": "markdown",
   "metadata": {},
   "source": [
    "In this section, we introduce Grover's algorithm and how it can be used to solve unstructured search problems. We then implement Grover's algorithm on actual problems using Qiskit, run on a simulator and an actual device.\n",
    "\n",
    "\n",
    "## Contents\n",
    "\n",
    "1. [Introduction](#introduction)    \n",
    "   1.1 [Algorithm overview](#overview)   \n",
    "   1.2 [Grover Step by step](#steps)    \n",
    "   1.3 [State preparation](#state-prep)    \n",
    "   1.4 [The Oracle](#oracle)    \n",
    "   1.5 [The diffusion operator](#diffusion)    \n",
    "2. [Example: 2 Qubits](#2qubits)    \n",
    "   2.1 [Simulation](#2qubits-simulation)    \n",
    "   2.2 [Device](#2qubits-device)    \n",
    "3. [Example: 3 Qubits](#3qubits)     \n",
    "   3.1 [Simulation](#3qubits-simulation)    \n",
    "   3.2 [Device](#3qubits-device)    \n",
    "4. [Problems](#problems)    \n",
    "   4.1 [Solving Sudoku using Grover's Algorithm](#sudoku)    \n",
    "   4.2 [Solving the triangle problem using Grover's Algorithm](#tri)        \n",
    "5. [References](#references)\n"
   ]
  },
  {
   "cell_type": "markdown",
   "metadata": {},
   "source": [
    "## 1. Introduction <a id='introduction'></a>\n",
    "\n",
    "You have likely heard that one of the many advantages a quantum computer has over a classical computer is its superior speed searching databases. Grover's algorithm demonstrates this capability. This algorithm can speed up an unstructured search problem quadratically, but its uses extend beyond that; it can serve as a general trick or subroutine to obtain quadratic run time improvements for a variety of other algorithms. This is called the amplitude amplification trick.    \n",
    "\n",
    "\n",
    "Suppose you are given a large list of $N$ items. Among these items there is one item with a unique property that we wish to locate; we will call this one the winner $w$. Think of each item in the list as a box of a particular color. Say all items in the list are gray except the winner $w$, which is purple. \n",
    "\n",
    "\n",
    "\n",
    "![image1](images/grover_list.png)\n",
    "\n",
    "To find the purple box -- the *marked item* -- using classical computation, one would have to check on average $N/2$ of these boxes, and in the worst case, all $N$ of them. On a quantum computer, however, we can find the marked item in roughly $\\sqrt{N}$ steps with Grover's amplitude amplification trick. A quadratic speedup is indeed a substantial time-saver for finding marked items in long lists. Additionally, the algorithm does not use the list's internal structure, which makes it *generic;* this is why it immediately provides a quadratic quantum speed-up for many classical problems.\n"
   ]
  },
  {
   "cell_type": "markdown",
   "metadata": {},
   "source": [
    "### Algorithm Overview <a id='overview'></a>\n",
    "\n",
    "\n",
    "Grover's algorithm consists of three main algorithms steps: state preparation, the oracle, and the diffusion operator. The state preparation is where we create the search space, which is all possible cases the answer could take. In the list example we mentioned above, the search space would be all the items of that list.    \n",
    "The oracle is what marks the correct answer, or answers we are looking for, and the diffusion operator magnifies these answers so they can stand out and be measured at the end of the algorithm.    \n",
    "\n",
    "**Maybe create a similar graphics for the book**\n",
    "\n",
    "![image2](images/grover_steps.png)    \n",
    "\n",
    "\n",
    "So how does the algorithm work? Before looking at the list of items, we have no idea where the marked item is. Therefore, any guess of its location is as good as any other, which can be expressed in terms of a\n",
    "uniform superposition: $|s \\rangle = \\frac{1}{\\sqrt{N}} \\sum_{x = 0}^{N -1} | x\n",
    "\\rangle.$\n",
    "\n",
    "If at this point we were to measure in the standard basis $ \\{ | x \\rangle \\} $, this superposition would collapse, according to the fifth quantum law, to any one of the basis states with the same probability of $\\frac{1}{N} = \\frac{1}{2^n}$. Our chances of guessing the right value $w$ is therefore $1$ in $2^n$, as could be expected. Hence, on average we would need to try about $N/2 = 2^{n-1}$ times to guess the correct item.\n",
    "\n",
    "Enter the procedure called amplitude amplification, which is how a quantum computer significantly enhances this probability. This procedure stretches out (amplifies) the amplitude of the marked item, which shrinks the other items' amplitude, so that measuring the final state will return the right item with near-certainty. \n",
    "\n",
    "This algorithm has a nice geometrical interpretation in terms of two reflections, which generate a rotation in a two-dimensional plane. The only two special states we need to consider are the winner $| w \\rangle$ and the uniform superposition $| s \\rangle$. These two vectors span a two-dimensional plane in the vector space $\\mathbb{C}^N.$ They are not quite perpendicular because $| w \\rangle$ occurs in the superposition with amplitude $N^{-1/2}$ as well.\n",
    "We can, however, introduce an additional state $|s'\\rangle$ that is in the span of these two vectors, which is perpendicular to $| w \\rangle$ and is obtained from $|s \\rangle$ by removing $| w \\rangle$ and\n",
    "rescaling. \n",
    "\n",
    "**Step 1**: The amplitude amplification procedure starts out in the uniform superposition $| s \\rangle$, which is easily constructed from $| s \\rangle = H^{\\otimes n} | 0 \\rangle^n$ or using another symmetric entangled states.\n",
    "\n",
    "![image3](images/grover_step1.jpg)\n",
    "\n",
    "\n",
    "The left graphic corresponds to the two-dimensional plane spanned by perpendicular vectors $|w\\rangle$ and $|s'\\rangle$ which allows to express the initial state as $|s\\rangle = \\sin \\theta | w \\rangle + \\cos \\theta | s' \\rangle,$ where $\\theta = \\arcsin \\langle s | w \\rangle = \\arcsin \\frac{1}{\\sqrt{N}}$. The right graphic is a bar graph of the amplitudes of the state $| s \\rangle$.\n",
    "\n",
    "**Step 2**: We apply the oracle reflection $U_f$ to the state $|s\\rangle$.\n",
    "\n",
    "![image4](images/grover_step2.jpg)\n",
    "\n",
    "Geometrically this corresponds to a reflection of the state $|s\\rangle$ about $|s'\\rangle$. This transformation means that the amplitude in front of the $|w\\rangle$ state becomes negative, which in turn means that the average amplitude (indicated by a dashed line) has been lowered.\n",
    "\n",
    "**Step 3**: We now apply an additional reflection ($U_s$) about the state $|s\\rangle$: $U_s = 2|s\\rangle\\langle s| - \\mathbb{1}$. This transformation maps the state to $U_s U_f| s \\rangle$ and completes the transformation. \n",
    "\n",
    "![image5](images/grover_step3.jpg)\n",
    "\n",
    "Two reflections always correspond to a rotation. The transformation $U_s U_f$ rotates the initial state $|s\\rangle$ closer towards the winner $|w\\rangle$. The action of the reflection $U_s$ in the amplitude bar diagram can be understood as a reflection about the average amplitude. Since the average amplitude has been lowered by the first reflection, this transformation boosts the negative amplitude of $|w\\rangle$ to roughly three times its original value, while it decreases the other amplitudes. We then go to **step 2** to repeat the application. This procedure will be repeated several times to zero in on the winner. \n",
    "\n",
    "After $t$ steps we will be in the state $|\\psi_t\\rangle$ where: $| \\psi_t \\rangle = (U_s U_f)^t  | s \\rangle.$\n",
    "\n",
    "How many times do we need to apply the rotation? It turns out that roughly $\\sqrt{N}$ rotations suffice. This becomes clear when looking at the amplitudes of the state $| \\psi \\rangle$. We can see that the amplitude of $| w \\rangle$ grows linearly with the number of applications $\\sim t N^{-1/2}$. However, since we are dealing with amplitudes and not probabilities, the vector space's dimension enters as a square root. Therefore it is the amplitude, and not just the probability, that is being amplified in this procedure.\n",
    "\n",
    "To calculate the number of rotations we need to know the size of the search space and the number of answers we are looking for. The get the optimal number of iterations $t$, we can follow the equation:     \n",
    "\n",
    "$$\n",
    "t = \\lfloor\\frac{\\pi}{4}\\sqrt{\\frac{N}{m}}\\rfloor \n",
    "$$\n",
    "\n",
    "Where N is the size of the search space and m is the number of answers we want.\n",
    "\n",
    "\n",
    "![image6](images/grover_circuit_high_level.png)"
   ]
  },
  {
   "cell_type": "markdown",
   "metadata": {
    "gloss": {
     "DS": {
      "text": "The Dicke state|Dnk〉is an equal-weight superposition of all n-qubit states with Hamming Weight k.",
      "title": "Dicke-state"
     },
     "ss": {
      "text": "Also known as permutation-symmetric quantum states are states that are invariant under any permutation of their subsystems.",
      "title": "symmetric states"
     }
    }
   },
   "source": [
    "&nbsp;\n",
    "\n",
    "## Grover Step by Step <a id='step'></a>\n",
    "\n",
    "Now that we went through how Grover's algorithm actually work, let's go a little bit in depth about the construction and different cases for each of its components.\n",
    "\n",
    "### Preparing the Search Space <a id='state-prep'></a>\n",
    "\n",
    "The first step of Grover's algorithm is the initial state preparation. As we just mentioned, the search space is all possible values we need to search through to find the answer we want. For the examples in this textbook, our 'database' is comprised of all the possible computational basis states our qubits can be in. For example, if we have 3 qubits, our list is the states $|000\\rangle, |001\\rangle, \\dots |111\\rangle$ (i.e the states $|0\\rangle \\rightarrow |7\\rangle$). So, in this case the size of our search space will be $N = 2^{3} = 8$.\n",
    "\n",
    "**Maybe add a page about the Dicke state in the composer circuit examples??**\n",
    "\n",
    "In some cases, if we know the range within the search space where the answer is guaranteed to be, we can eliminate the redundant basis out of our search space to speed up the algorithm and decrease the size of the circuit. Generally speaking, we can prepare our state using any [symmetric states](gloss:ss), such as [GHZ-states](https://quantum-computing.ibm.com/composer/docs/iqx/example-circuits/ghz), [W-states](https://quantum-computing.ibm.com/composer/docs/iqx/example-circuits/w-state), or [Dicke-states](gloss:ds). \n",
    "\n",
    "For example, if we are trying to solve a problem with one answer using 4 qubits, and we prepare our state using the Hadamard gate (i.e. forming the Hilbert Space), N will be 16. But, if we know that the answer is within states when only one qubit has the value of 1 at any time, we can then use the W-state instead of the full Hilbert space to prepare our states. Doing that, decreased the size of the search space from 16 to 4 and the number of optimal iterations $t$ from 3 to 1."
   ]
  },
  {
   "cell_type": "markdown",
   "metadata": {},
   "source": [
    "### Creating the Oracle <a id='oracle'></a>\n",
    "\n",
    "The second and most important step of Grover’s algorithm is the oracle. Oracles add a negative phase to the solution states so they can standout from the rest and be measured. I.e. for any state $|x\\rangle$ in the computational basis:\n",
    "\n",
    "$$\n",
    "U_\\omega|x\\rangle = \\bigg\\{\n",
    "\\begin{aligned}\n",
    "\\phantom{-}|x\\rangle \\quad \\text{if} \\; x \\neq \\omega \\\\\n",
    "-|x\\rangle \\quad \\text{if} \\; x = \\omega \\\\\n",
    "\\end{aligned}\n",
    "$$\n",
    "\n",
    "This oracle will be a diagonal matrix, where the entry that correspond to the marked item will have a negative phase. For example, if we have three qubits and $\\omega = \\text{101}$, our oracle will have the matrix:\n",
    "\n",
    "$$\n",
    "U_\\omega = \n",
    "\\begin{bmatrix}\n",
    "1 & 0 & 0 & 0 & 0 & 0 & 0 & 0 \\\\\n",
    "0 & 1 & 0 & 0 & 0 & 0 & 0 & 0 \\\\\n",
    "0 & 0 & 1 & 0 & 0 & 0 & 0 & 0 \\\\\n",
    "0 & 0 & 0 & 1 & 0 & 0 & 0 & 0 \\\\\n",
    "0 & 0 & 0 & 0 & 1 & 0 & 0 & 0 \\\\\n",
    "0 & 0 & 0 & 0 & 0 & -1 & 0 & 0 \\\\\n",
    "0 & 0 & 0 & 0 & 0 & 0 & 1 & 0 \\\\\n",
    "0 & 0 & 0 & 0 & 0 & 0 & 0 & 1 \\\\\n",
    "\\end{bmatrix}\n",
    "\\begin{aligned}\n",
    "\\\\\n",
    "\\\\\n",
    "\\\\\n",
    "\\\\\n",
    "\\\\\n",
    "\\\\\n",
    "\\leftarrow \\omega = \\text{101}\\\\\n",
    "\\\\\n",
    "\\\\\n",
    "\\\\\n",
    "\\end{aligned}\n",
    "$$\n",
    "\n",
    "\n",
    "What makes Grover’s algorithm so powerful is how easy it is to convert a problem to an oracle of this form. There are many computational problems in which it is difficult to _find_ a solution, but relatively easy to _verify_ a solution. For example, we can easily verify a solution to a [sudoku](https://en.wikipedia.org/wiki/Sudoku) by checking all the rules are satisfied. For these problems, we can create a function $f$ that takes a proposed solution $x$, and returns $f(x) = 0$ if $x$ is not a solution ($x \\neq \\omega$) and $f(x) = 1$ for a valid solution ($x = \\omega$). Our oracle can then be described as:\n",
    "\n",
    "$$\n",
    "U_\\omega|x\\rangle = (-1)^{f(x)}|x\\rangle\n",
    "$$\n",
    "\n",
    "and the oracle's matrix will be a diagonal matrix of the form:\n",
    "\n",
    "$$\n",
    "U_\\omega = \n",
    "\\begin{bmatrix}\n",
    "(-1)^{f(0)} &   0         & \\cdots &   0         \\\\\n",
    "0           & (-1)^{f(1)} & \\cdots &   0         \\\\\n",
    "\\vdots      &   0         & \\ddots & \\vdots      \\\\\n",
    "0           &   0         & \\cdots & (-1)^{f(2^n-1)} \\\\\n",
    "\\end{bmatrix}\n",
    "$$\n",
    "\n",
    "<details>\n",
    "    <summary>Circuit Construction of a Grover Oracle (click to expand)</summary>\n",
    "<p>\n",
    "If we have our classical function $f(x)$, we can convert it to a reversible circuit of the form:\n",
    "</p><p>\n",
    "<img alt=\"A Classical Eeversible Oracle\" src=\"images/grover_boolean_oracle.svg\">\n",
    "</p><p>\n",
    "If we initialize the 'output' qubit in the state $|{-}\\rangle$, the phase kickback effect turns this into a Grover oracle (similar to the workings of the Deutsch-Jozsa oracle):\n",
    "</p><p>  \n",
    "<img alt=\"Grover Oracle Constructed from a Classical Reversible Oracle\" src=\"images/grover_phase_oracle.svg\">\n",
    "</p><p>\n",
    "We then ignore the auxiliary ($|{-}\\rangle$) qubit.\n",
    "</p>\n",
    "</details>\n",
    "\n"
   ]
  },
  {
   "cell_type": "markdown",
   "metadata": {},
   "source": [
    "### The Diffusion Operator <a id='diffusion'></a>\n",
    "\n",
    "Finally, after the oracle has marked the correct answer by making it negative, the last step of Grover's algorithm which is the diffusion operator.\n",
    "\n",
    "The construction of the diffusion operator depends on what we decide to use to prepare our initial states. Generally, the diffusion operator has the following construction.\n",
    "\n",
    "![image7](images/grover_diff.png)\n",
    "\n",
    "For the next part of this chapter, we will create example oracles where we know $\\omega$ beforehand, and not worry ourselves with whether these oracles are useful or not. At the end of the chapter, we will cover a short example where we create an oracle to solve a problem (sudoku) and a famous graph problem, the triangle finding problem."
   ]
  },
  {
   "cell_type": "markdown",
   "metadata": {},
   "source": [
    "## 2. Example: 2 Qubits <a id='2qubits'></a>\n",
    "\n",
    "Let's first have a look at the case of Grover's algorithm for $N=4$ which is realized with 2 qubits. In this particular case, only <b>one rotation</b> is required to rotate the initial state $|s\\rangle$ to the winner $|w\\rangle$[3]:\n",
    "<ol>\n",
    "    <li>\n",
    "        Following  the above introduction, in the case $N=4$ we have \n",
    "\n",
    "$$\\theta = \\arcsin \\frac{1}{2} = \\frac{\\pi}{6}.$$\n",
    "\n",
    "</li>\n",
    "<li>\n",
    "        After $t$ steps, we have $$(U_s U_\\omega)^t  | s \\rangle = \\sin \\theta_t | \\omega \\rangle + \\cos \\theta_t | s' \\rangle ,$$where $$\\theta_t = (2t+1)\\theta.$$\n",
    "\n",
    "</li>\n",
    "<li>\n",
    "        In order to obtain $| \\omega \\rangle$ we need $\\theta_t = \\frac{\\pi}{2}$, which with $\\theta=\\frac{\\pi}{6}$ inserted above results to $t=1$. This implies that after $t=1$ rotation the searched element is found.\n",
    "</li>\n",
    "</ol>\n",
    "\n",
    "We will now follow through an example using a specific oracle.\n",
    "\n",
    "#### Oracle for $\\lvert \\omega \\rangle = \\lvert 11 \\rangle$\n",
    "Let's look at the case $\\lvert w \\rangle = \\lvert 11 \\rangle$. The oracle $U_\\omega$ in this case acts as follows: \n",
    "\n",
    "$$U_\\omega | s \\rangle = U_\\omega \\frac{1}{2}\\left( |00\\rangle + |01\\rangle + |10\\rangle + |11\\rangle \\right) = \\frac{1}{2}\\left( |00\\rangle + |01\\rangle + |10\\rangle - |11\\rangle \\right).$$\n",
    "\n",
    "or:\n",
    "\n",
    "$$\n",
    "U_\\omega = \n",
    "\\begin{bmatrix}\n",
    "1 & 0 & 0 & 0 \\\\\n",
    "0 & 1 & 0 & 0 \\\\\n",
    "0 & 0 & 1 & 0 \\\\\n",
    "0 & 0 & 0 & -1 \\\\\n",
    "\\end{bmatrix}\n",
    "$$\n",
    "\n",
    "which you may recognise as the controlled-Z gate. Thus, for this example, our oracle is simply the controlled-Z gate:\n",
    "\n",
    "![image8](images/grover_circuit_2qbuits_oracle_11.svg)\n",
    "\n",
    "#### Reflection $U_s$\n",
    "In order to complete the circuit we need to implement the additional reflection $U_s = 2|s\\rangle\\langle s| - \\mathbb{1}$. Since this is a reflection about $|s\\rangle$, we want to add a negative phase to every state orthogonal to $|s\\rangle$. \n",
    "\n",
    "One way we can do this is to use the operation that transforms the state $|s\\rangle \\rightarrow |0\\rangle$, which we already know is the Hadamard gate applied to each qubit:\n",
    "\n",
    "$$H^{\\otimes n}|s\\rangle = |0\\rangle$$\n",
    "\n",
    "Then we apply a circuit that adds a negative phase to the states orthogonal to $|0\\rangle$:\n",
    "\n",
    "$$U_0 \\frac{1}{2}\\left( \\lvert 00 \\rangle + \\lvert 01 \\rangle + \\lvert 10 \\rangle + \\lvert 11 \\rangle \\right) = \\frac{1}{2}\\left( \\lvert 00 \\rangle - \\lvert 01 \\rangle - \\lvert 10 \\rangle - \\lvert 11 \\rangle \\right)$$\n",
    "\n",
    "i.e. the signs of each state are flipped except for $\\lvert 00 \\rangle$. As can easily be verified, one way of implementing $U_0$ is the following circuit:\n",
    "\n",
    "![Circuit for reflection around |0>](images/grover_circuit_2qbuits_reflection_0.svg)\n",
    "\n",
    "Finally, we do the operation that transforms the state $|0\\rangle \\rightarrow |s\\rangle$ (the H-gate again):\n",
    "\n",
    "$$H^{\\otimes n}U_0 H^{\\otimes n} = U_s$$\n",
    "\n",
    "The complete circuit for $U_s$ looks like this:\n",
    "\n",
    "![Circuit for reflection around |s>](images/grover_circuit_2qbuits_reflection.svg)\n",
    "\n",
    "\n",
    "#### Full Circuit for $\\lvert w \\rangle = |11\\rangle$\n",
    "Since in the particular case of $N=4$ only one rotation is required we can combine the above components to build the full circuit for Grover's algorithm for the case $\\lvert w \\rangle = |11\\rangle$:\n",
    "\n",
    "![image11](images/grover_circuit_2qubits_full_11.svg)\n",
    "\n",
    "### 2.1 Qiskit Implementation\n",
    "\n",
    "We now implement Grover's algorithm for the above case of 2 qubits for $\\lvert w \\rangle = |11\\rangle$."
   ]
  },
  {
   "cell_type": "code",
   "execution_count": null,
   "metadata": {},
   "outputs": [],
   "source": [
    "#initialization\n",
    "import matplotlib.pyplot as plt\n",
    "import numpy as np\n",
    "import math\n",
    "\n",
    "# importing Qiskit\n",
    "from qiskit import IBMQ, Aer, assemble, transpile, execute\n",
    "from qiskit import QuantumCircuit, ClassicalRegister, QuantumRegister\n",
    "from qiskit.providers.ibmq import least_busy\n",
    "\n",
    "# import basic plot tools\n",
    "from qiskit.visualization import plot_histogram"
   ]
  },
  {
   "cell_type": "markdown",
   "metadata": {},
   "source": [
    "We start by preparing a quantum circuit with two qubits:"
   ]
  },
  {
   "cell_type": "code",
   "execution_count": null,
   "metadata": {},
   "outputs": [],
   "source": [
    "n = 2\n",
    "grover_circuit = QuantumCircuit(n)"
   ]
  },
  {
   "cell_type": "markdown",
   "metadata": {},
   "source": [
    "Then we simply need to write out the commands for the circuit depicted above. First, we need to initialize the state $|s\\rangle$. Let's create a general function (for any number of qubits) so we can use it again later:"
   ]
  },
  {
   "cell_type": "code",
   "execution_count": null,
   "metadata": {
    "tags": [
     "thebelab-init"
    ]
   },
   "outputs": [],
   "source": [
    "def initialize_s(qc, qubits):\n",
    "    \"\"\"Apply a H-gate to 'qubits' in qc\"\"\"\n",
    "    for q in qubits:\n",
    "        qc.h(q)\n",
    "    return qc"
   ]
  },
  {
   "cell_type": "code",
   "execution_count": null,
   "metadata": {},
   "outputs": [],
   "source": [
    "grover_circuit = initialize_s(grover_circuit, [0,1])\n",
    "grover_circuit.draw(output = \"mpl\")"
   ]
  },
  {
   "cell_type": "markdown",
   "metadata": {},
   "source": [
    "Apply the Oracle for $|w\\rangle = |11\\rangle$. This oracle is specific to 2 qubits:"
   ]
  },
  {
   "cell_type": "code",
   "execution_count": null,
   "metadata": {},
   "outputs": [],
   "source": [
    "grover_circuit.cz(0,1) # Oracle\n",
    "grover_circuit.draw(output = \"mpl\")"
   ]
  },
  {
   "cell_type": "markdown",
   "metadata": {},
   "source": [
    "<span id=\"general_diffuser\"></span>\n",
    "We now want to apply the diffuser ($U_s$). As with the circuit that initialises $|s\\rangle$, we'll create a general diffuser (for any number of qubits) so we can use it later in other problems. "
   ]
  },
  {
   "cell_type": "code",
   "execution_count": null,
   "metadata": {
    "tags": [
     "thebelab-init"
    ]
   },
   "outputs": [],
   "source": [
    "# Diffusion operator (U_s)\n",
    "grover_circuit.h([0,1])\n",
    "grover_circuit.z([0,1])\n",
    "grover_circuit.cz(0,1)\n",
    "grover_circuit.h([0,1])\n",
    "grover_circuit.draw(output = \"mpl\")"
   ]
  },
  {
   "cell_type": "markdown",
   "metadata": {},
   "source": [
    "This is our finished circuit."
   ]
  },
  {
   "cell_type": "markdown",
   "metadata": {},
   "source": [
    "### 2.1.1 Experiment with Simulators <a id='2qubits-simulation'></a>\n",
    "\n",
    "Let's run the circuit in simulation. First, we can verify that we have the correct statevector:"
   ]
  },
  {
   "cell_type": "code",
   "execution_count": null,
   "metadata": {},
   "outputs": [],
   "source": [
    "sv_sim = Aer.get_backend('statevector_simulator')\n",
    "qobj = assemble(grover_circuit)\n",
    "result = sv_sim.run(qobj).result()\n",
    "statevec = result.get_statevector()\n",
    "statevec\n",
    "#from qiskit_textbook.tools import vector2latex\n",
    "#vector2latex(statevec, pretext=\"|\\\\psi\\\\rangle =\")"
   ]
  },
  {
   "cell_type": "markdown",
   "metadata": {},
   "source": [
    "As expected, the amplitude of every state that is not $|11\\rangle$ is 0, this means we have a 100% chance of measuring $|11\\rangle$:"
   ]
  },
  {
   "cell_type": "code",
   "execution_count": null,
   "metadata": {},
   "outputs": [],
   "source": [
    "grover_circuit.measure_all()\n",
    "\n",
    "qasm_sim = Aer.get_backend('qasm_simulator')\n",
    "qobj = assemble(grover_circuit)\n",
    "result = qasm_sim.run(qobj).result()\n",
    "counts = result.get_counts()\n",
    "plot_histogram(counts)"
   ]
  },
  {
   "cell_type": "markdown",
   "metadata": {},
   "source": [
    "### 2.1.2 Experiment with Real Devices <a id='2qubits-device'></a>\n",
    "\n",
    "We can run the circuit a real device as below."
   ]
  },
  {
   "cell_type": "code",
   "execution_count": null,
   "metadata": {
    "tags": [
     "uses-hardware"
    ]
   },
   "outputs": [],
   "source": [
    "# Load IBM Q account and get the least busy backend device\n",
    "provider = IBMQ.load_account()\n",
    "provider = IBMQ.get_provider(\"ibm-q-internal\")\n",
    "device = least_busy(provider.backends(filters=lambda x: x.configuration().n_qubits >= 3 and \n",
    "                                   not x.configuration().simulator and x.status().operational==True))\n",
    "print(\"Running on current least busy device: \", device)"
   ]
  },
  {
   "cell_type": "code",
   "execution_count": null,
   "metadata": {
    "tags": [
     "uses-hardware"
    ]
   },
   "outputs": [],
   "source": [
    "# Run our circuit on the least busy backend. Monitor the execution of the job in the queue\n",
    "from qiskit.tools.monitor import job_monitor\n",
    "transpiled_grover_circuit = transpile(grover_circuit, device, optimization_level=3)\n",
    "qobj = assemble(transpiled_grover_circuit)\n",
    "job = device.run(qobj)\n",
    "job_monitor(job, interval=2)"
   ]
  },
  {
   "cell_type": "code",
   "execution_count": null,
   "metadata": {
    "tags": [
     "uses-hardware"
    ]
   },
   "outputs": [],
   "source": [
    "# Get the results from the computation\n",
    "results = job.result()\n",
    "answer = results.get_counts(grover_circuit)\n",
    "plot_histogram(answer)"
   ]
  },
  {
   "cell_type": "markdown",
   "metadata": {},
   "source": [
    "We confirm that in the majority of the cases the state $|11\\rangle$ is measured. The other results are due to errors in the quantum computation. \n",
    "\n",
    "## 3. Example: 3 Qubits <a id='3qubits'></a>\n",
    "\n",
    "We now go through the example of Grover's algorithm for 3 qubits with two marked states $\\lvert101\\rangle$ and $\\lvert110\\rangle$, following the implementation found in Reference [2]. The quantum circuit to solve the problem using a phase oracle is:\n",
    "\n",
    "![image12](images/grover_circuit_3qubits.png)\n",
    "\n",
    "<ol>\n",
    "<li> \n",
    "  Apply Hadamard gates to $3$ qubits initialised to $\\lvert000\\rangle$ to create a uniform superposition:\n",
    "  $$\\lvert \\psi_1 \\rangle = \\frac{1}{\\sqrt{8}} \\left( \n",
    "    \\lvert000\\rangle + \\lvert001\\rangle + \\lvert010\\rangle + \\lvert011\\rangle + \n",
    "    \\lvert100\\rangle + \\lvert101\\rangle + \\lvert110\\rangle + \\lvert111\\rangle \\right) $$\n",
    "</li>\n",
    "\n",
    "<li>\n",
    "  Mark states $\\lvert101\\rangle$ and $\\lvert110\\rangle$ using a phase oracle:\n",
    "  $$\\lvert \\psi_2 \\rangle = \\frac{1}{\\sqrt{8}} \\left( \n",
    "    \\lvert000\\rangle + \\lvert001\\rangle + \\lvert010\\rangle + \\lvert011\\rangle + \n",
    "    \\lvert100\\rangle - \\lvert101\\rangle - \\lvert110\\rangle + \\lvert111\\rangle \\right) $$\n",
    "</li>\n",
    "\n",
    "<li>\n",
    "  Perform the reflection around the average amplitude:\n",
    "    \n",
    "  <ol>\n",
    "   <li> Apply Hadamard gates to the qubits\n",
    "      $$\\lvert \\psi_{3a} \\rangle = \\frac{1}{2} \\left( \n",
    "        \\lvert000\\rangle +\\lvert011\\rangle +\\lvert100\\rangle -\\lvert111\\rangle \\right) $$\n",
    "   </li>\n",
    "    \n",
    "   <li> Apply X gates to the qubits\n",
    "      $$\\lvert \\psi_{3b} \\rangle = \\frac{1}{2} \\left( \n",
    "        -\\lvert000\\rangle +\\lvert011\\rangle +\\lvert100\\rangle +\\lvert111\\rangle \\right) $$\n",
    "   </li>\n",
    "\n",
    "   <li> Apply a doubly controlled Z gate between the 1, 2 (controls) and 3 (target) qubits\n",
    "      $$\\lvert \\psi_{3c} \\rangle = \\frac{1}{2} \\left( \n",
    "        -\\lvert000\\rangle +\\lvert011\\rangle +\\lvert100\\rangle -\\lvert111\\rangle \\right) $$\n",
    "   </li>\n",
    "   <li> Apply X gates to the qubits\n",
    "      $$\\lvert \\psi_{3d} \\rangle = \\frac{1}{2} \\left( \n",
    "        -\\lvert000\\rangle +\\lvert011\\rangle +\\lvert100\\rangle -\\lvert111\\rangle \\right) $$\n",
    "   </li>\n",
    "   <li> Apply Hadamard gates to the qubits\n",
    "      $$\\lvert \\psi_{3e} \\rangle = \\frac{1}{\\sqrt{2}} \\left( \n",
    "        -\\lvert101\\rangle -\\lvert110\\rangle \\right) $$\n",
    "   </li>\n",
    "  </ol>\n",
    "</li>\n",
    "\n",
    "<li>\n",
    "  Measure the $3$ qubits to retrieve states $\\lvert101\\rangle$ and $\\lvert110\\rangle$\n",
    "</li>\n",
    "</ol>\n",
    "\n",
    "Note that since there are 2 solutions and 8 possibilities, we will only need to run one iteration (steps 2 & 3).\n",
    "\n",
    "### 3.1 Qiskit Implementation <a id='3qubit-implementation'></a>\n",
    "\n",
    "We now implement Grover's algorithm for the above [example](#3qubits) for $3$-qubits and searching for two marked states $\\lvert101\\rangle$ and $\\lvert110\\rangle$. **Note:** Remember that Qiskit orders it's qubits the opposite way round to this resource, so the circuit drawn will appear flipped about the horizontal.\n",
    "\n",
    "We create a phase oracle that will mark states $\\lvert101\\rangle$ and $\\lvert110\\rangle$ as the results (step 1)."
   ]
  },
  {
   "cell_type": "code",
   "execution_count": null,
   "metadata": {},
   "outputs": [],
   "source": [
    "qc = QuantumCircuit(3)\n",
    "qc.cz(0, 2)\n",
    "qc.cz(1, 2)\n",
    "oracle_ex3 = qc.to_gate()\n",
    "oracle_ex3.name = \"U$_\\omega$\""
   ]
  },
  {
   "cell_type": "markdown",
   "metadata": {},
   "source": [
    "In the last section, we used a diffuser specific to 2 qubits, in the cell below we will create a general diffuser for any number of qubits.\n",
    "\n",
    "\n",
    "<!-- ::: q-block.reminder -->\n",
    "\n",
    "<details>\n",
    "<summary> Details: Creating a General Diffuser (click to expand)</summary>\n",
    "    \n",
    "Remember that we can create $U_s$ from $U_0$:\n",
    "\n",
    "$$ U_s = H^{\\otimes n} U_0 H^{\\otimes n} $$\n",
    "\n",
    "And a multi-controlled-Z gate ($MCZ$) inverts the phase of the state $|11\\dots 1\\rangle$:\n",
    "\n",
    "$$\n",
    "MCZ = \n",
    "\\begin{bmatrix}\n",
    " 1 & 0 & 0 & \\cdots & 0 \\\\\n",
    " 0 & 1 & 0 & \\cdots & 0 \\\\\n",
    " \\vdots & \\vdots & \\vdots & \\ddots & \\vdots \\\\\n",
    " 0 & 0 & 0 & \\cdots & -1 \\\\\n",
    "\\end{bmatrix}\n",
    "\\begin{aligned}\n",
    "\\\\\n",
    "\\\\\n",
    "\\\\\n",
    "\\leftarrow \\text{Add negative phase to} \\; |11\\dots 1\\rangle\\\\\n",
    "\\end{aligned}\n",
    "$$\n",
    "\n",
    "Applying an X-gate to each qubit performs the transformation:\n",
    "\n",
    "$$\n",
    "\\begin{aligned}\n",
    "|00\\dots 0\\rangle & \\rightarrow |11\\dots 1\\rangle\\\\\n",
    "|11\\dots 1\\rangle & \\rightarrow |00\\dots 0\\rangle\n",
    "\\end{aligned}\n",
    "$$\n",
    "\n",
    "So:\n",
    "\n",
    "$$ U_0 = - X^{\\otimes n} (MCZ) X^{\\otimes n} $$\n",
    "\n",
    "Using these properties together, we can create $U_s$ using H-gates, X-gates, and a single multi-controlled-Z gate:\n",
    "\n",
    "$$ U_s = - H^{\\otimes n} U_0 H^{\\otimes n} = H^{\\otimes n} X^{\\otimes n} (MCZ) X^{\\otimes n} H^{\\otimes n} $$\n",
    "    \n",
    "Note that we can ignore the global phase of -1.\n",
    "\n",
    "</details>\n",
    "\n",
    "<!-- ::: -->"
   ]
  },
  {
   "cell_type": "code",
   "execution_count": null,
   "metadata": {},
   "outputs": [],
   "source": [
    "def diffuser(nqubits):\n",
    "    qc = QuantumCircuit(nqubits)\n",
    "    # Apply transformation |s> -> |00..0> (H-gates)\n",
    "    for qubit in range(nqubits):\n",
    "        qc.h(qubit)\n",
    "    # Apply transformation |00..0> -> |11..1> (X-gates)\n",
    "    for qubit in range(nqubits):\n",
    "        qc.x(qubit)\n",
    "    # Do multi-controlled-Z gate\n",
    "    qc.h(nqubits-1)\n",
    "    qc.mct(list(range(nqubits-1)), nqubits-1)  # multi-controlled-toffoli\n",
    "    qc.h(nqubits-1)\n",
    "    # Apply transformation |11..1> -> |00..0>\n",
    "    for qubit in range(nqubits):\n",
    "        qc.x(qubit)\n",
    "    # Apply transformation |00..0> -> |s>\n",
    "    for qubit in range(nqubits):\n",
    "        qc.h(qubit)\n",
    "    # We will return the diffuser as a gate\n",
    "    U_s = qc.to_gate()\n",
    "    U_s.name = \"U$_s$\"\n",
    "    return U_s"
   ]
  },
  {
   "cell_type": "markdown",
   "metadata": {},
   "source": [
    "We'll now put the pieces together, with the creation of a uniform superposition at the start of the circuit and a measurement at the end. Note that since there are 2 solutions and 8 possibilities, we will only need to run one iteration. "
   ]
  },
  {
   "cell_type": "code",
   "execution_count": null,
   "metadata": {},
   "outputs": [],
   "source": [
    "n = 3\n",
    "grover_circuit = QuantumCircuit(n)\n",
    "grover_circuit = initialize_s(grover_circuit, [0,1,2])\n",
    "grover_circuit.append(oracle_ex3, [0,1,2])\n",
    "grover_circuit.append(diffuser(n), [0,1,2])\n",
    "grover_circuit.measure_all()\n",
    "grover_circuit.draw(output = \"mpl\")"
   ]
  },
  {
   "cell_type": "markdown",
   "metadata": {},
   "source": [
    "### 3.1.1 Experiment with Simulators  <a id='3qubits-simulation'></a>\n",
    "\n",
    "We can run the above circuit on the simulator. "
   ]
  },
  {
   "cell_type": "code",
   "execution_count": null,
   "metadata": {},
   "outputs": [],
   "source": [
    "qasm_sim = Aer.get_backend('qasm_simulator')\n",
    "transpiled_grover_circuit = transpile(grover_circuit, qasm_sim)\n",
    "qobj = assemble(transpiled_grover_circuit)\n",
    "results = qasm_sim.run(qobj).result()\n",
    "counts = results.get_counts()\n",
    "plot_histogram(counts)"
   ]
  },
  {
   "cell_type": "markdown",
   "metadata": {},
   "source": [
    "As we can see, the algorithm discovers our marked states $\\lvert101\\rangle$ and $\\lvert110\\rangle$."
   ]
  },
  {
   "cell_type": "markdown",
   "metadata": {},
   "source": [
    "### 3.1.2 Experiment with Real Devices  <a id='3qubits-device'></a>\n",
    "\n",
    "We can run the circuit on the real device as below."
   ]
  },
  {
   "cell_type": "code",
   "execution_count": null,
   "metadata": {
    "tags": [
     "uses-hardware"
    ]
   },
   "outputs": [],
   "source": [
    "backend = least_busy(provider.backends(filters=lambda x: x.configuration().n_qubits >= 3 and \n",
    "                                   not x.configuration().simulator and x.status().operational==True))\n",
    "print(\"least busy backend: \", backend)"
   ]
  },
  {
   "cell_type": "code",
   "execution_count": null,
   "metadata": {
    "tags": [
     "uses-hardware"
    ]
   },
   "outputs": [],
   "source": [
    "# Run our circuit on the least busy backend. Monitor the execution of the job in the queue\n",
    "from qiskit.tools.monitor import job_monitor\n",
    "transpiled_grover_circuit = transpile(grover_circuit, device, optimization_level=3)\n",
    "qobj = assemble(transpiled_grover_circuit)\n",
    "job = device.run(qobj)\n",
    "job_monitor(job, interval=2)"
   ]
  },
  {
   "cell_type": "code",
   "execution_count": null,
   "metadata": {
    "tags": [
     "uses-hardware"
    ]
   },
   "outputs": [],
   "source": [
    "# Get the results from the computation\n",
    "results = job.result()\n",
    "answer = results.get_counts(grover_circuit)\n",
    "plot_histogram(answer)"
   ]
  },
  {
   "cell_type": "markdown",
   "metadata": {},
   "source": [
    "As we can (hopefully) see, there is a higher chance of measuring $\\lvert101\\rangle$ and $\\lvert110\\rangle$. The other results are due to errors in the quantum computation. "
   ]
  },
  {
   "cell_type": "markdown",
   "metadata": {},
   "source": [
    "## 4. Problems <a id='problems'></a>\n",
    "\n",
    "The function `grover_problem_oracle` below takes a number of qubits (`n`), and a `variant` and returns an n-qubit oracle. The function will always return the same oracle for the same `n` and `variant`. You can see the solutions to each oracle by setting `print_solutions = True` when calling `grover_problem_oracle`."
   ]
  },
  {
   "cell_type": "code",
   "execution_count": null,
   "metadata": {},
   "outputs": [],
   "source": [
    "from qiskit_textbook.problems import grover_problem_oracle\n",
    "## Example Usage\n",
    "n = 4\n",
    "oracle = grover_problem_oracle(n, variant=1)  # 0th variant of oracle, with n qubits\n",
    "qc = QuantumCircuit(n)\n",
    "qc.append(oracle, [0,1,2,3])\n",
    "qc.draw(output = \"mpl\")"
   ]
  },
  {
   "cell_type": "markdown",
   "metadata": {},
   "source": [
    "1. `grover_problem_oracle(4, variant=2)` uses 4 qubits and has 1 solution.    \n",
    "   a. How many iterations do we need to have a > 90% chance of measuring this solution?    \n",
    "   b. Use Grover's algorithm to find this solution state.\n",
    "   c. What happens if we apply more iterations the the number we calculated in problem 1a above? Why?\n",
    "\n",
    "2. With 2 solutions and 4 qubits, how many iterations do we need for a >90% chance of measuring a solution? Test your answer using the oracle `grover_problem_oracle(4, variant=1)` (which has two solutions).\n",
    "\n",
    "3. Create a function, `grover_solver(oracle, iterations)` that takes as input:\n",
    "    - A Grover oracle as a gate (`oracle`)\n",
    "    - An integer number of iterations (`iterations`)\n",
    "    \n",
    "   and returns a `QuantumCircuit` that performs Grover's algorithm on the '`oracle`' gate, with '`iterations`' iterations."
   ]
  },
  {
   "cell_type": "markdown",
   "metadata": {},
   "source": [
    "## 5. Solving Sudoku using Grover's Algorithm <a id=\"sudoku\"></a>\n",
    "\n",
    "The oracles used throughout this chapter so far have been created with prior knowledge of their solutions. We will now solve a simple problem using Grover's algorithm, for which we do not necessarily know the solution beforehand. Our problem is a 2×2 binary sudoku, which in our case has two simple rules:\n",
    "\n",
    "- No column may contain the same value twice\n",
    "- No row may contain the same value twice\n",
    "\n",
    "If we assign each square in our sudoku to a variable like so:\n",
    "\n",
    "![2×2 binary sudoku, with each square allocated to a different variable](images/binary_sudoku.png)\n",
    "\n",
    "we want our circuit to output a solution to this sudoku.\n",
    "\n",
    "Note that, while this approach of using Grover's algorithm to solve this problem is not practical (you can probably find the solution in your head!), the purpose of this example is to demonstrate the conversion of classical [decision problems](https://en.wikipedia.org/wiki/Decision_problem) into oracles for Grover's algorithm.\n",
    "\n",
    "### 5.1 Turning the Problem into a Circuit\n",
    "\n",
    "We want to create an oracle that will help us solve this problem, and we will start by creating a circuit that identifies a correct solution. Similar to how we created a classical adder using quantum circuits in [_The Atoms of Computation_](https://qiskit.org/textbook/ch-states/atoms-computation.html), we simply need to create a _classical_ function on a quantum circuit that checks whether the state of our variable bits is a valid solution.\n",
    "\n",
    "Since we need to check down both columns and across both rows, there are 4 conditions we need to check:\n",
    "\n",
    "```\n",
    "v0 ≠ v1   # check along top row\n",
    "v2 ≠ v3   # check along bottom row\n",
    "v0 ≠ v2   # check down left column\n",
    "v1 ≠ v3   # check down right column\n",
    "```\n",
    "\n",
    "Remember we are comparing classical (computational basis) states. For convenience, we can compile this set of comparisons into a list of clauses:"
   ]
  },
  {
   "cell_type": "code",
   "execution_count": null,
   "metadata": {
    "tags": [
     "thebelab-init"
    ]
   },
   "outputs": [],
   "source": [
    "clause_list = [[0,1],\n",
    "               [0,2],\n",
    "               [1,3],\n",
    "               [2,3]]"
   ]
  },
  {
   "cell_type": "markdown",
   "metadata": {},
   "source": [
    "We will assign the value of each variable to a bit in our circuit. To check these clauses computationally, we will use the `XOR` gate (we came across this in the atoms of computation)."
   ]
  },
  {
   "cell_type": "code",
   "execution_count": null,
   "metadata": {
    "tags": [
     "thebelab-init"
    ]
   },
   "outputs": [],
   "source": [
    "def XOR(qc, a, b, output):\n",
    "    qc.cx(a, output)\n",
    "    qc.cx(b, output)"
   ]
  },
  {
   "cell_type": "markdown",
   "metadata": {},
   "source": [
    "Convince yourself that the `output0` bit in the circuit below will only be flipped if `input0 ≠ input1`:"
   ]
  },
  {
   "cell_type": "code",
   "execution_count": null,
   "metadata": {},
   "outputs": [],
   "source": [
    "# We will use separate registers to name the bits\n",
    "in_qubits = QuantumRegister(2, name='input')\n",
    "out_qubit = QuantumRegister(1, name='output')\n",
    "qc = QuantumCircuit(in_qubits, out_qubit)\n",
    "XOR(qc, in_qubits[0], in_qubits[1], out_qubit)\n",
    "qc.draw(output = \"mpl\")"
   ]
  },
  {
   "cell_type": "markdown",
   "metadata": {},
   "source": [
    "This circuit checks whether `input0 == input1` and stores the output to `output0`. To check each clause, we repeat this circuit for each pairing in `clause_list` and store the output to a new bit:"
   ]
  },
  {
   "cell_type": "code",
   "execution_count": null,
   "metadata": {},
   "outputs": [],
   "source": [
    "# Create separate registers to name bits\n",
    "var_qubits = QuantumRegister(4, name='v')  # variable bits\n",
    "clause_qubits = QuantumRegister(4, name='c')  # bits to store clause-checks\n",
    "\n",
    "# Create quantum circuit\n",
    "qc = QuantumCircuit(var_qubits, clause_qubits)\n",
    "\n",
    "# Use XOR gate to check each clause\n",
    "i = 0\n",
    "for clause in clause_list:\n",
    "    XOR(qc, clause[0], clause[1], clause_qubits[i])\n",
    "    i += 1\n",
    "\n",
    "qc.draw(output = \"mpl\")"
   ]
  },
  {
   "cell_type": "markdown",
   "metadata": {},
   "source": [
    "The final state of the bits `c0, c1, c2, c3` will only all be `1` in the case that the assignments of `v0, v1, v2, v3` are a solution to the sudoku. To complete our checking circuit, we want a single bit to be `1` if (and only if) all the clauses are satisfied, this way we can look at just one bit to see if our assignment is a solution. We can do this using a multi-controlled-Toffoli-gate:"
   ]
  },
  {
   "cell_type": "code",
   "execution_count": null,
   "metadata": {},
   "outputs": [],
   "source": [
    "# Create separate registers to name bits\n",
    "var_qubits = QuantumRegister(4, name='v')\n",
    "clause_qubits = QuantumRegister(4, name='c')\n",
    "output_qubit = QuantumRegister(1, name='out')\n",
    "qc = QuantumCircuit(var_qubits, clause_qubits, output_qubit)\n",
    "\n",
    "# Compute clauses\n",
    "i = 0\n",
    "for clause in clause_list:\n",
    "    XOR(qc, clause[0], clause[1], clause_qubits[i])\n",
    "    i += 1\n",
    "\n",
    "# Flip 'output' bit if all clauses are satisfied\n",
    "qc.mct(clause_qubits, output_qubit)\n",
    "\n",
    "qc.draw(output = \"mpl\")"
   ]
  },
  {
   "cell_type": "markdown",
   "metadata": {},
   "source": [
    "The circuit above takes as input an initial assignment of the bits `v0`, `v1`, `v2` and `v3`, and all other bits should be initialised to `0`. After running the circuit, the state of the `out0` bit tells us if this assignment is a solution or not; `out0 = 0` means the assignment _is not_ a solution, and `out0 = 1` means the assignment _is_ a solution.\n",
    "\n",
    "**Important:** Before you continue, it is important you fully understand this circuit and are convinced it works as stated in the paragraph above.\n",
    "\n",
    "### 5.2 Uncomputing, and Completing the Oracle\n",
    "\n",
    "We can now turn this checking circuit into a Grover oracle using [phase kickback](https://qiskit.org/textbook/ch-gates/phase-kickback.html). To recap, we have 3 registers: \n",
    "- One register which stores our sudoku variables (we'll say $x = v_3, v_2, v_1, v_0$)\n",
    "- One register that stores our clauses (this starts in the state $|0000\\rangle$ which we'll abbreviate to $|0\\rangle$)\n",
    "- And one qubit ($|\\text{out}_0\\rangle$) that we've been using to store the output of our checking circuit. \n",
    "\n",
    "To create an oracle, we need our circuit ($U_\\omega$) to perform the transformation:\n",
    "\n",
    "$$\n",
    "U_\\omega|x\\rangle|0\\rangle|\\text{out}_0\\rangle = |x\\rangle|0\\rangle|\\text{out}_0\\oplus f(x)\\rangle\n",
    "$$\n",
    "\n",
    "If we set the `out0` qubit to the superposition state $|{-}\\rangle$ we have:\n",
    "\n",
    "$$\n",
    "\\begin{aligned}\n",
    "U_\\omega|x\\rangle|0\\rangle|{-}\\rangle \n",
    "&= U_\\omega|x\\rangle|0\\rangle\\otimes\\tfrac{1}{\\sqrt{2}}(|0\\rangle - |1\\rangle)\\\\\n",
    "&= |x\\rangle|0\\rangle\\otimes\\tfrac{1}{\\sqrt{2}}(|0\\oplus f(x)\\rangle - |1\\oplus f(x)\\rangle)\n",
    "\\end{aligned}\n",
    "$$\n",
    "\n",
    "If $f(x) = 0$, then we have the state:\n",
    "\n",
    "$$\n",
    "\\begin{aligned}\n",
    "&= |x\\rangle|0\\rangle\\otimes \\tfrac{1}{\\sqrt{2}}(|0\\rangle - |1\\rangle)\\\\\n",
    "&= |x\\rangle|0\\rangle|-\\rangle\\\\\n",
    "\\end{aligned}\n",
    "$$\n",
    "\n",
    "\n",
    "(i.e. no change). But if $f(x) = 1$ (i.e. $x = \\omega$), we introduce a negative phase to the $|{-}\\rangle$ qubit:\n",
    "\n",
    "$$\n",
    "\\begin{aligned}\n",
    "&= \\phantom{-}|x\\rangle|0\\rangle\\otimes\\tfrac{1}{\\sqrt{2}}(|1\\rangle - |0\\rangle)\\\\\n",
    "&= \\phantom{-}|x\\rangle|0\\rangle\\otimes -\\tfrac{1}{\\sqrt{2}}(|0\\rangle - |1\\rangle)\\\\\n",
    "&= -|x\\rangle|0\\rangle|-\\rangle\\\\\n",
    "\\end{aligned}\n",
    "$$\n",
    "\n",
    "This is a functioning oracle that uses two auxiliary registers in the state $|0\\rangle|{-}\\rangle$:\n",
    "\n",
    "$$\n",
    "U_\\omega|x\\rangle|0\\rangle|{-}\\rangle = \\Bigg\\{\n",
    "\\begin{aligned}\n",
    "\\phantom{-}|x\\rangle|0\\rangle|-\\rangle \\quad \\text{for} \\; x \\neq \\omega \\\\\n",
    "-|x\\rangle|0\\rangle|-\\rangle \\quad \\text{for} \\; x = \\omega \\\\\n",
    "\\end{aligned}\n",
    "$$\n",
    "\n",
    "To adapt our checking circuit into a Grover oracle, we need to guarantee the bits in the second register (`c`) are always returned to the state $|0000\\rangle$ after the computation. To do this, we simply repeat the part of the circuit that computes the clauses which guarantees `c0 = c1 = c2 = c3 = 0` after our circuit has run. We call this step _'uncomputation'_."
   ]
  },
  {
   "cell_type": "code",
   "execution_count": null,
   "metadata": {},
   "outputs": [],
   "source": [
    "var_qubits = QuantumRegister(4, name='v')\n",
    "clause_qubits = QuantumRegister(4, name='c')\n",
    "output_qubit = QuantumRegister(1, name='out')\n",
    "cbits = ClassicalRegister(4, name='cbits')\n",
    "qc = QuantumCircuit(var_qubits, clause_qubits, output_qubit, cbits)\n",
    "\n",
    "def sudoku_oracle(qc, clause_list, clause_qubits):\n",
    "    # Compute clauses\n",
    "    i = 0\n",
    "    for clause in clause_list:\n",
    "        XOR(qc, clause[0], clause[1], clause_qubits[i])\n",
    "        i += 1\n",
    "\n",
    "    # Flip 'output' bit if all clauses are satisfied\n",
    "    qc.mct(clause_qubits, output_qubit)\n",
    "\n",
    "    # Uncompute clauses to reset clause-checking bits to 0\n",
    "    i = 0\n",
    "    for clause in clause_list:\n",
    "        XOR(qc, clause[0], clause[1], clause_qubits[i])\n",
    "        i += 1\n",
    "\n",
    "sudoku_oracle(qc, clause_list, clause_qubits)\n",
    "qc.draw(output = \"mpl\")"
   ]
  },
  {
   "cell_type": "markdown",
   "metadata": {},
   "source": [
    "In summary, the circuit above performs:\n",
    "\n",
    "$$\n",
    "U_\\omega|x\\rangle|0\\rangle|\\text{out}_0\\rangle = \\Bigg\\{\n",
    "\\begin{aligned}\n",
    "|x\\rangle|0\\rangle|\\text{out}_0\\rangle \\quad \\text{for} \\; x \\neq \\omega \\\\\n",
    "|x\\rangle|0\\rangle\\otimes X|\\text{out}_0\\rangle \\quad \\text{for} \\; x = \\omega \\\\\n",
    "\\end{aligned}\n",
    "$$\n",
    "\n",
    "and if the initial state of $|\\text{out}_0\\rangle = |{-}\\rangle$,:\n",
    "\n",
    "$$\n",
    "U_\\omega|x\\rangle|0\\rangle|{-}\\rangle = \\Bigg\\{\n",
    "\\begin{aligned}\n",
    "\\phantom{-}|x\\rangle|0\\rangle|-\\rangle \\quad \\text{for} \\; x \\neq \\omega \\\\\n",
    "-|x\\rangle|0\\rangle|-\\rangle \\quad \\text{for} \\; x = \\omega \\\\\n",
    "\\end{aligned}\n",
    "$$"
   ]
  },
  {
   "cell_type": "markdown",
   "metadata": {},
   "source": [
    "### 5.3 The Full Algorithm\n",
    "\n",
    "All that's left to do now is to put all these components together."
   ]
  },
  {
   "cell_type": "code",
   "execution_count": null,
   "metadata": {},
   "outputs": [],
   "source": [
    "var_qubits = QuantumRegister(4, name='v')\n",
    "clause_qubits = QuantumRegister(4, name='c')\n",
    "output_qubit = QuantumRegister(1, name='out')\n",
    "cbits = ClassicalRegister(4, name='cbits')\n",
    "qc = QuantumCircuit(var_qubits, clause_qubits, output_qubit, cbits)\n",
    "\n",
    "# Initialise 'out0' in state |->\n",
    "qc.initialize([1, -1]/np.sqrt(2), output_qubit)\n",
    "\n",
    "# Initialise qubits in state |s>\n",
    "qc.h(var_qubits)\n",
    "qc.barrier()  # for visual separation\n",
    "\n",
    "## First Iteration\n",
    "# Apply our oracle\n",
    "sudoku_oracle(qc, clause_list, clause_qubits)\n",
    "qc.barrier()  # for visual separation\n",
    "# Apply our diffuser\n",
    "qc.append(diffuser(4), [0,1,2,3])\n",
    "\n",
    "## Second Iteration\n",
    "sudoku_oracle(qc, clause_list, clause_qubits)\n",
    "qc.barrier()  # for visual separation\n",
    "# Apply our diffuser\n",
    "qc.append(diffuser(4), [0,1,2,3])\n",
    "\n",
    "# Measure the variable qubits\n",
    "qc.measure(var_qubits, cbits)\n",
    "\n",
    "qc.draw(output = \"mpl\", fold=-1)"
   ]
  },
  {
   "cell_type": "code",
   "execution_count": null,
   "metadata": {
    "scrolled": false
   },
   "outputs": [],
   "source": [
    "# Simulate and plot results\n",
    "qasm_simulator = Aer.get_backend('qasm_simulator')\n",
    "transpiled_qc = transpile(qc, qasm_simulator)\n",
    "qobj = assemble(transpiled_qc)\n",
    "result = qasm_sim.run(qobj).result()\n",
    "plot_histogram(result.get_counts())"
   ]
  },
  {
   "cell_type": "markdown",
   "metadata": {},
   "source": [
    "There are two bit strings with a much higher probability of measurement than any of the others, `0110` and `1001`. These correspond to the assignments:\n",
    "```\n",
    "v0 = 0\n",
    "v1 = 1\n",
    "v2 = 1\n",
    "v3 = 0\n",
    "```\n",
    "and\n",
    "```\n",
    "v0 = 1\n",
    "v1 = 0\n",
    "v2 = 0\n",
    "v3 = 1\n",
    "```\n",
    "which are the two solutions to our sudoku! The aim of this section is to show how we can create Grover oracles from real problems. While this specific problem is trivial, the process can be applied (allowing large enough circuits) to any decision problem. To recap, the steps are:\n",
    "\n"
   ]
  },
  {
   "cell_type": "markdown",
   "metadata": {},
   "source": [
    "&nbsp;\n",
    "\n",
    "<!-- ::: q-block.exercise -->\n",
    "\n",
    "### Your turn\n",
    "\n",
    "1. Create a reversible classical circuit that identifies a correct solution\n",
    "2. Use phase kickback and uncomputation to turn this circuit into an oracle\n",
    "3. Use Grover's algorithm to solve this oracle\n",
    "\n",
    "<!-- ::: -->\n"
   ]
  },
  {
   "cell_type": "markdown",
   "metadata": {
    "gloss": {
     "gt": {
      "text": "In math, graph theory is the study of graphs. A graph is made up of nodes or points which are connected by edges.",
      "title": "graph theory"
     }
    }
   },
   "source": [
    "## The Triangle-finding Problem Using Grover <a id='tri'></a>\n",
    "\n",
    "\n",
    "One of the famous [graph theory](gloss:gt) problems is the [triangle-finding problem](https://en.wikipedia.org/wiki/Triangle-free_graph). In the triangle-finding problem, we are given a graph that may or may not contain a triangle. Our task is the find the triangle/s within the graph and point out the nodes that form the triangle. For example, the graph below is a 4-node graph with a triangle between nodes `1`,`2`, and `3`.     \n",
    "\n",
    "\n",
    "![image12](images/grover_tri.png)\n",
    "\n",
    "\n",
    "We can apply Grover's algorithm to this problem, we are going to give the algorithm a list of _edges_ and the number of nodes in the graph. The algorithm, then, will do the rest. It will try to check if there's a triangle in the graph or not, and if so it will mark the nodes forming that triangle.   \n",
    "\n",
    "\n",
    "Now, let's go through Grover's algorithm steps and see how can we construct each step it to solve the triangle finding problem. But first, let's define our input, which is the list of edges."
   ]
  },
  {
   "cell_type": "code",
   "execution_count": null,
   "metadata": {},
   "outputs": [],
   "source": [
    "#Edges list\n",
    "edges =[(0, 1), (0, 2), (1, 2), (2, 3)]\n",
    "#Number of nodes\n",
    "n_nodes = 4"
   ]
  },
  {
   "cell_type": "markdown",
   "metadata": {
    "variables": {
     "\\sqrt{n": "<p><strong>SyntaxError</strong>: unexpected character after line continuation character (Temp/ipykernel_16772/2644103834.py, line 1)</p>\n"
    }
   },
   "source": [
    "### The state preparation\n",
    "\n",
    "To solve the problem, let's first focus on the example above, which is the case of finding a triangle in a 4-node graph. to do that, we need to go over all subgraphs within our graph and check if any of them a triangle. To do that we will need 4-qubits, each qubit represents a node in the graph. The state of the qubit will indicate whether the node in any subgraph or not. For example, in the graph above, the triangle is between nodes 0,1, and 2, we can rephrase that using the state `1110`. The nodes with state 1 are in the subgraph (triangle) and the node with state 0 is not.   \n",
    "\n",
    "For the state preparation, we will need to create a superposition of all possible states `0000`, to `1111`, which can be done simple using `4` Hadamard gates. Doing so, will we need to rotate over the oracle and diffusion `3` times.  \n",
    "But, if each `1` in the state represent an active node, we don't really need to look through the entire Hilbert space, we only need to look through the subgraphs with three nodes.    \n",
    "\n",
    "This is a good example of using another type of symmetric states to prepare the search space. Here since we only need to consider states with three 1's, we can think of another way to form our search space. One way to create a superposition over only states with three active nodes is through using the W-state followed by `4 NOT gates`. This will decrease the number of rotations needed from `3` to `1`.\n",
    "\n",
    "So, we first need to implement the W-state. W-states has the formate:\n",
    "\n",
    "$$\n",
    "|W\\rangle ={\\frac{1}{{\\sqrt{n}}}}(|100...0\\rangle + ... + |01...0\\rangle + |00...01\\rangle)\n",
    "$$\n",
    "\n",
    "In out case, we need to construct $|W_{3}\\rangle$ states as described in reference 6."
   ]
  },
  {
   "cell_type": "code",
   "execution_count": null,
   "metadata": {},
   "outputs": [],
   "source": [
    "#We used the W state implementation from W state paper here\n",
    "def cg (qcir,cQbit,tQbit,theta):\n",
    "    theta_dash = math.asin(math.cos(math.radians(theta/2)))\n",
    "    qcir.u(theta_dash,0,0,tQbit)\n",
    "    qcir.cx(cQbit,tQbit)\n",
    "    qcir.u(-theta_dash,0,0,tQbit)\n",
    "    return qcir\n",
    "\n",
    "\n",
    "def wn (qcir,qbits): \n",
    "    for i in range(len(qbits)):\n",
    "        if i == 0:\n",
    "            qcir.x(qbits[0])\n",
    "            qcir.barrier()\n",
    "        else:\n",
    "            p = 1/(len(qbits)-(i-1))\n",
    "            theta = math.degrees(math.acos(math.sqrt(p)))\n",
    "            theta = 2* theta\n",
    "            qcir = cg(qcir,qbits[i-1],qbits[i],theta)\n",
    "            qcir.cx(qbits[i],qbits[i-1])\n",
    "            qcir.barrier()\n",
    "    return qcir,qbits\n",
    "\n",
    "sub_qbits = QuantumRegister(n_nodes)\n",
    "sub_cir = QuantumCircuit(sub_qbits, name=\"state_prep\")\n",
    "sub_cir, sub_qbits = wn(sub_cir, sub_qbits)\n",
    "sub_cir.x(sub_qbits)\n",
    "stat_prep = sub_cir.to_instruction()\n",
    "inv_stat_prep = sub_cir.inverse().to_instruction()"
   ]
  },
  {
   "cell_type": "markdown",
   "metadata": {},
   "source": [
    "### The oracle\n",
    "\n",
    "The oracle is what's gonna mark the correct answer. In this cases, the oracle need to take every subgraph and count the number of edges in that subgraph, if the number of edges is `3`, then we have a triangle, if not, it will proceed to the next subgraph.    \n",
    "\n",
    "![image13](images/grover_tri_oracle.png)\n",
    "\n",
    "For every edge in the graph, we will need one or two `CNOT` gates. These `CNOT` gates will apply to two ancillary qubits, that should be in state `11` if a triangle is found. The number of ancillary qubits here is two because a triangle has `3 edges` that is $11_{b}$. Then the final step in the oracle is to apply one more `Toffoli`, that will only be active if a triangle is found by changing the state of another qubit, let's call it, `tri_flag`, to `1`."
   ]
  },
  {
   "cell_type": "markdown",
   "metadata": {},
   "source": [
    "&nbsp;\n",
    "<!-- ::: q-block.reminder -->\n",
    "\n",
    "### Remember\n",
    "\n",
    "<details>\n",
    "    The oracle's job is to verify and mark the correct answer. So, when you construct an oracle, you're basically building a circuit to verify certain conditions.\n",
    "</details>\n",
    "\n",
    "<!-- ::: -->"
   ]
  },
  {
   "cell_type": "code",
   "execution_count": null,
   "metadata": {},
   "outputs": [],
   "source": [
    "def edge_counter(qc,qubits,anc,flag_qubit,k):\n",
    "    bin_k = bin(k)[2:][::-1]\n",
    "    l = []\n",
    "    for i in range(len(bin_k)):\n",
    "        if int(bin_k[i]) == 1:\n",
    "            l.append(qubits[i])\n",
    "    qc.mct(l,flag_qubit,[anc])\n",
    "    \n",
    "    \n",
    "def oracle(n_nodes, edges, qc, nodes_qubits, edge_anc, ancilla, neg_base):\n",
    "    k = 3 #k is the number of edges, in case of a triangle, it's 3\n",
    "    #1- edge counter\n",
    "    #forward circuit\n",
    "    qc.barrier()\n",
    "    qc.ccx(nodes_qubits[edges[0][0]],nodes_qubits[edges[0][1]],edge_anc[0])\n",
    "    for i in range(1,len(edges)):\n",
    "        qc.mct([nodes_qubits[edges[i][0]],nodes_qubits[edges[i][1]],edge_anc[0]], edge_anc[1], [ancilla[0]])        qc.ccx(nodes_qubits[edges[i][0]],nodes_qubits[edges[i][1]],edge_anc[0])\n",
    "    #----------------------------------------------------------------------------------------------------------\n",
    "     #Edges check Qubit\n",
    "    edg_k = int((k/2)*(k-1))\n",
    "    edge_counter(qc,edge_anc,ancilla[0],neg_base[0],edg_k)\n",
    "    #----------------------------------------------------------------------------------------------------------\n",
    "\n",
    "    #4- Reverse edge count\n",
    "    for i in range(len(edges)-1,0,-1):\n",
    "        qc.ccx(nodes_qubits[edges[i][0]],nodes_qubits[edges[i][1]],edge_anc[0])\n",
    "        qc.mct([nodes_qubits[edges[i][0]],nodes_qubits[edges[i][1]],edge_anc[0]], edge_anc[1], [ancilla[0]])\n",
    "    qc.ccx(nodes_qubits[edges[0][0]],nodes_qubits[edges[0][1]],edge_anc[0])\n",
    "    qc.barrier()"
   ]
  },
  {
   "cell_type": "markdown",
   "metadata": {},
   "source": [
    "### The diffusion operator\n",
    "\n",
    "As we said before, the diffusion operator construction depends on the type of state preparation we used, in this case, the W-state. So, we need the inverses W-state, a multi-controlled Z gate and the original W-state to form the diffusion operator."
   ]
  },
  {
   "cell_type": "code",
   "execution_count": null,
   "metadata": {},
   "outputs": [],
   "source": [
    "def cnz(qc, num_control, node, anc):\n",
    "    \"\"\"\n",
    "    num_control :  number of control qubits of cnz gate\n",
    "    node :             node qubits\n",
    "    anc :               ancillaly qubits\n",
    "    \"\"\"\n",
    "    if num_control>2:\n",
    "        qc.ccx(node[0], node[1], anc[0])\n",
    "        for i in range(num_control-2):\n",
    "            qc.ccx(node[i+2], anc[i], anc[i+1])\n",
    "        qc.cz(anc[num_control-2], node[num_control])\n",
    "        for i in range(num_control-2)[::-1]:\n",
    "            qc.ccx(node[i+2], anc[i], anc[i+1])\n",
    "        qc.ccx(node[0], node[1], anc[0])\n",
    "    if num_control==2:\n",
    "        qc.h(node[2])\n",
    "        qc.ccx(node[0], node[1], node[2])\n",
    "        qc.h(node[2])\n",
    "    if num_control==1:\n",
    "        qc.cz(node[0], node[1])"
   ]
  },
  {
   "cell_type": "code",
   "execution_count": null,
   "metadata": {},
   "outputs": [],
   "source": [
    "def grover_diff(qc, nodes_qubits,edge_anc,ancilla,stat_prep,inv_stat_prep):\n",
    "    qc.append(inv_stat_prep,qargs=nodes_qubits)\n",
    "    qc.x(nodes_qubits)\n",
    "    #====================================================\n",
    "        #3 control qubits Z gate\n",
    "    cnz(qc,len(nodes_qubits)-1,nodes_qubits[::-1],ancilla)\n",
    "    #====================================================\n",
    "    qc.x(nodes_qubits)\n",
    "    qc.append(stat_prep,qargs=nodes_qubits) "
   ]
  },
  {
   "cell_type": "markdown",
   "metadata": {},
   "source": [
    "### Putting it all together\n",
    "\n",
    "Now that we have all the components of the algorithm built and running, we can put them together."
   ]
  },
  {
   "cell_type": "code",
   "execution_count": null,
   "metadata": {},
   "outputs": [],
   "source": [
    "# Grover algo function\n",
    "def grover(n_nodes,stat_prep,inv_stat_prep): # X >> Number of iterations\n",
    "    #N = 2**n_nodes  # for optimal iterations count if the state prep is done using only H gates.\n",
    "    N = math.comb(n_nodes, 3) #Since we are using W-state to perform initial preparation.\n",
    "    nodes_qubits = QuantumRegister(n_nodes, name='nodes')\n",
    "    edge_anc = QuantumRegister(2, name='edge_anc')\n",
    "    ancilla = QuantumRegister(n_nodes-2, name = 'cccx_diff_anc')\n",
    "    neg_base = QuantumRegister(1, name='check_qubits')\n",
    "    class_bits = ClassicalRegister(n_nodes, name='class_reg')\n",
    "    tri_flag = ClassicalRegister(3, name='tri_flag')\n",
    "    qc = QuantumCircuit(nodes_qubits, edge_anc, ancilla, neg_base, class_bits, tri_flag)\n",
    "    # Initialize qunatum flag qubits in |-> state\n",
    "    qc.x(neg_base[0])\n",
    "    qc.h(neg_base[0])\n",
    "    # Initializing i/p qubits in superposition\n",
    "    qc.append(stat_prep,qargs=nodes_qubits)\n",
    "    qc.barrier()\n",
    "    # Calculate iteration count\n",
    "    iterations = math.floor(math.pi/4*math.sqrt(N))\n",
    "    # Calculate iteration count\n",
    "    for i in np.arange(iterations):\n",
    "        qc.barrier()\n",
    "        oracle(n_nodes, edges, qc, nodes_qubits, edge_anc,  ancilla, neg_base)\n",
    "        qc.barrier()\n",
    "        grover_diff(qc, nodes_qubits,edge_anc,ancilla,stat_prep,inv_stat_prep)\n",
    "    return qc, nodes_qubits, edge_anc, ancilla, neg_base, class_bits, tri_flag"
   ]
  },
  {
   "cell_type": "markdown",
   "metadata": {},
   "source": [
    "Now, let's run the code and plot the histogram to see if our algorithm works as expected."
   ]
  },
  {
   "cell_type": "code",
   "execution_count": null,
   "metadata": {},
   "outputs": [],
   "source": [
    "qc, nodes_qubits, edge_anc, ancilla, neg_base, class_bits, tri_flag = grover(n_nodes,stat_prep,inv_stat_prep)\n",
    "qc.draw(output = \"mpl\")"
   ]
  },
  {
   "cell_type": "code",
   "execution_count": null,
   "metadata": {},
   "outputs": [],
   "source": [
    "# Simulate and plot results\n",
    "qasm_simulator = Aer.get_backend('qasm_simulator')\n",
    "#transpiled_qc = transpile(qc, qasm_simulator)\n",
    "qc.measure(nodes_qubits,class_bits)\n",
    "#Executing circuit and show results\n",
    "ex = execute(qc, qasm_simulator, shots = 5000)\n",
    "res = ex.result().get_counts(qc)\n",
    "plot_histogram(res)"
   ]
  },
  {
   "cell_type": "markdown",
   "metadata": {},
   "source": [
    "&nbsp;\n",
    "\n",
    "<!-- ::: q-block.exercise -->\n",
    "\n",
    "### Your turn\n",
    "\n",
    "1. How can extend this problem to find a triangle in any size graph?"
   ]
  },
  {
   "cell_type": "markdown",
   "metadata": {},
   "source": [
    "## 6. References <a id='references'></a>\n",
    "\n",
    "1. L. K. Grover (1996), \"A fast quantum mechanical algorithm for database search\", Proceedings of the 28th Annual ACM Symposium on the Theory of Computing (STOC 1996), [doi:10.1145/237814.237866](http://doi.acm.org/10.1145/237814.237866), [arXiv:quant-ph/9605043](https://arxiv.org/abs/quant-ph/9605043)\n",
    "2. C. Figgatt, D. Maslov, K. A. Landsman, N. M. Linke, S. Debnath & C. Monroe (2017), \"Complete 3-Qubit Grover search on a programmable quantum computer\", Nature Communications, Vol 8, Art 1918, [doi:10.1038/s41467-017-01904-7](https://doi.org/10.1038/s41467-017-01904-7), [arXiv:1703.10535 ](https://arxiv.org/abs/1703.10535)\n",
    "3. I. Chuang & M. Nielsen, \"Quantum Computation and Quantum Information\", Cambridge: Cambridge University Press, 2000.   \n",
    "4. Marconi, C., Aloy, A., Tura, J., & Sanpera, A. (2021). Entangled symmetric states and copositive matrices. Quantum, 5, 561.\n",
    "5. R. Prevedel, G. Cronenberg, M. S. Tame, M. Paternostro, P. Walther, M. S. Kim, and A. Zeilinger, “Experimental realization of dicke states of up to six qubits for multiparty quantum networking,” Physical Review Letters, vol. 103, no. 2, Jul 2009.   \n",
    "6. D. Cruz, R. Fournier, F. Gremion, A. Jeannerot, K. Komagata, T. Tosic, J. Thiesbrummel, C. L. Chan, N. Macris, M.-A. Dupertuis et al., “Efficient quantum algorithms for ghz and w states, and implementation on the ibm quantum computer,” Advanced Quantum Technologies, vol. 2, no. 5-6, p.1900015, 2019. https://doi.org/10.1002/qute.201900015\n",
    "7. Magniez, F., Santha, M., & Szegedy, M. (2007). Quantum algorithms for the triangle problem. SIAM Journal on Computing, 37(2), 413-424."
   ]
  },
  {
   "cell_type": "code",
   "execution_count": null,
   "metadata": {},
   "outputs": [],
   "source": [
    "import qiskit.tools.jupyter\n",
    "%qiskit_version_table"
   ]
  }
 ],
 "metadata": {
  "celltoolbar": "Edit Metadata",
  "kernelspec": {
   "display_name": "Python 3 (ipykernel)",
   "language": "python",
   "name": "python3"
  },
  "language_info": {
   "codemirror_mode": {
    "name": "ipython",
    "version": 3
   },
   "file_extension": ".py",
   "mimetype": "text/x-python",
   "name": "python",
   "nbconvert_exporter": "python",
   "pygments_lexer": "ipython3",
   "version": "3.9.7"
  },
  "latex_envs": {
   "LaTeX_envs_menu_present": true,
   "autoclose": true,
   "autocomplete": true,
   "bibliofile": "biblio.bib",
   "cite_by": "apalike",
   "current_citInitial": 1,
   "eqLabelWithNumbers": true,
   "eqNumInitial": 1,
   "hotkeys": {
    "equation": "Ctrl-E",
    "itemize": "Ctrl-I"
   },
   "labels_anchors": false,
   "latex_user_defs": false,
   "report_style_numbering": false,
   "user_envs_cfg": false
  },
  "toc": {
   "base_numbering": 1,
   "nav_menu": {},
   "number_sections": true,
   "sideBar": true,
   "skip_h1_title": false,
   "title_cell": "Table of Contents",
   "title_sidebar": "Contents",
   "toc_cell": false,
   "toc_position": {},
   "toc_section_display": true,
   "toc_window_display": false
  }
 },
 "nbformat": 4,
 "nbformat_minor": 2
}
