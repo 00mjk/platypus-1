{
 "cells": [
  {
   "cell_type": "markdown",
   "metadata": {
    "gloss": {
     "qram": {
      "text": "\"Random access memory\" (RAM) is data storage that can be read and changed in any order. Quantum RAM is analogous, but would also allow storing quantum states. <a href='https://en.wikipedia.org/wiki/Quantum_memory'>Read more</a>.",
      "title": "qRAM"
     }
    }
   },
   "source": [
    "# Introduction\n",
    "\n",
    "Machine learning has established itself as a successful interdisciplinary field which seeks to find patterns in data. Throwing in quantum computing gives rise to interesting areas of research that aim to use the principles of quantum mechanics to augment machine learning or vice-versa. In this chapter, we aim to give you a glimpse into the exciting and rapidly changing field of near-term quantum machine learning."
   ]
  },
  {
   "cell_type": "markdown",
   "metadata": {},
   "source": [
    "## Machine Learning (ML)\n",
    "\n",
    "Before we dive into quantum machine learning, let's do a whirlwind overview of machine learning. For our purposes, machine learning can be split roughly into three subfields: supervised learning, unsupervised learning and reinforcement learning. \n",
    "\n",
    "<div class=\"alert alert-block alert-info\">\n",
    "\n",
    "**put these in a tab block**\n",
    "\n",
    "</div>\n",
    "\n",
    "- *Supervised Learning*: given tuples of labeled data $(x_i,y_i)$, we aim to learn the function that maps $f: x \\mapsto y$ and generalizes to unseen inputs; for example, given a set of labeled photos of cats or dogs, being able to identify new photos of cats or dogs.  \n",
    "\n",
    "\n",
    "- *Unsupervised Learning*: given a collection of unlabeled data $(x_i)$, we aim to learn some structure of the data; for example, grouping a set of viewers based their movie viewing history in order to recommend new movies.\n",
    "\n",
    "\n",
    "- *Reinforcement Learning*: given access to an environment that rewards us based on our actions, we aim to maximise our expected rewards; for example, algorithmically learning how to play PAC-MAN.\n",
    "\n",
    "<div class=\"alert alert-block alert-info\">\n",
    "\n",
    "**include image similar to this**\n",
    "<figure>\n",
    "  <img src=\"https://www.mathworks.com/discovery/reinforcement-learning/_jcr_content/mainParsys3/discoverysubsection/mainParsys/image.adapt.480.medium.png/1630398143490.png\" style=\"height:300px\">\n",
    "</figure>\n",
    "\n",
    "</div>"
   ]
  },
  {
   "cell_type": "markdown",
   "metadata": {},
   "source": [
    "## Quantum Machine Learning (QML)\n",
    "\n",
    "There are four different approaches for combining quantum computing and machine learning, which are differentiated by whether the data is classical _(**C**)_ or quantum _(**Q**)_ in nature, or whether the algorithm is executed on a classical _(**C**)_ or quantum _(**Q**)_ computer, as illustrated below from Reference [1](#references).\n",
    "\n",
    "In this context, a quantum dataset consists of observations from a natural or artificial quantum system, such as measurements of qubit dynamics, while a classical dataset consists of observations from a classical system, such as times series, text, or images.\n",
    "\n",
    "<div class=\"alert alert-block alert-info\">\n",
    "\n",
    "**put this diagram and text in a widget**\n",
    "\n",
    "</div>\n",
    "\n",
    "\n",
    "<div><img src=\"images/qml_approaches.png\" width=\"250\"></div> \n",
    "\n",
    "- **CC**: refers to processing _**C**lassical_ data using _**C**lassical_ computers, but using algorithms inspired by quantum computing, such as this [recommendation system](https://doi.org/10.1145/3313276.3316310) algorithm.\n",
    "- **CQ**: refers to processing _**Q**uantum_ data using _**C**lassical_ machine learning algorithms. This is an active area of investigation, with classical machine learning algorithms used in many areas in the quantum computing, such as qubit [characterization](https://doi.org/10.1038/s41524-020-0282-0), [control](https://doi.org/10.1038/s41534-019-0141-3) and [readout](https://link.aps.org/doi/10.1103/PhysRevLett.114.200501).\n",
    "- **QQ**: refers to processing _**Q**uantum_ data using _**Q**uantum_ machine learning algorithms. This is an interesting topic, but very much still in its infancy.\n",
    "- **QC**: refers to processing _**C**lassical_ data using _**Q**uantum_ machine learning algorithms, and will be what this chapter focuses on.\n",
    "\n"
   ]
  },
  {
   "cell_type": "markdown",
   "metadata": {},
   "source": [
    "<div class=\"alert alert-block alert-info\">\n",
    "\n",
    "**add ``quick quiz`` widget**\n",
    "\n",
    "question:\n",
    "- Which of these quantum machine learning approaches will we focus on?\n",
    "\n",
    "answers:\n",
    "- Processing _**C**lassical_ data using _**C**lassical_ machine learning algorithms\n",
    "- Processing _**C**lassical_ data using _**Q**uantum_ machine learning algorithms (correct)\n",
    "- Processing _**Q**uantum_ data using _**C**lassical_ machine learning algorithms\n",
    "- Processing _**Q**uantum_ data using _**Q**uantum_ machine learning algorithms\n",
    "\n",
    "</div>"
   ]
  },
  {
   "cell_type": "markdown",
   "metadata": {},
   "source": [
    "There are two distinct categories of **QC** algorithms: those that require quantum random access memory ([qRAM](gloss:qram)), where data can be accessed in superposition, and those that don't. The various proposed qRAM-based QML algorithms, eg. [qPCA](https://doi.org/10.1038/nphys3029), [qSVM](https://doi.org/10.1103/PhysRevLett.113.130503) and [qClustering](https://arxiv.org/abs/1307.0411), boast exponental speedups compared to their classical algorithms, however there are currently no viable hardware candidates for realizing qRAM. \n",
    "\n",
    "Recently, most of the focus of **QC** approaches to machine learning have been on  near-term algorithms that can be executed on the current quantum devices. Classical machine learning techniques have made great strides in the past decade, enabled in large part by the availability of sufficiently powerful hardware. Perhaps the existence of quantum hardware will further enable advances in the field?\n",
    "\n",
    "Note that this is a very dynamic area of current investigation by multiple research teams worldwide, and there are still many open questions, as well as confusing terminology and notation. We will try and be as consistent as possible in this chapter, but also point out when concepts have been referred to by different names, or how different concepts relate to each other."
   ]
  },
  {
   "cell_type": "markdown",
   "metadata": {},
   "source": [
    "## References <a id=\"references\"></a>\n",
    "\n",
    "1. Vedran Dunjko, Jacob M. Taylor and Hans J. Briegel, *Quantum-Enhanced Machine Learning*, Physical Review Letters 117 (13), 130501 (2016) [doi:10.1103/PhysRevLett.117.130501](https://doi.org/10.1103/PhysRevLett.117.130501) [arXiv:1610.08251](https://arxiv.org/abs/1610.08251)\n"
   ]
  },
  {
   "cell_type": "code",
   "execution_count": null,
   "metadata": {},
   "outputs": [],
   "source": []
  }
 ],
 "metadata": {
  "kernelspec": {
   "display_name": "Python [conda env:qiskit]",
   "language": "python",
   "name": "conda-env-qiskit-py"
  },
  "language_info": {
   "codemirror_mode": {
    "name": "ipython",
    "version": 3
   },
   "file_extension": ".py",
   "mimetype": "text/x-python",
   "name": "python",
   "nbconvert_exporter": "python",
   "pygments_lexer": "ipython3",
   "version": "3.8.11"
  }
 },
 "nbformat": 4,
 "nbformat_minor": 2
}
