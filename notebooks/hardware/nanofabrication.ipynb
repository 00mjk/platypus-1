{
 "cells": [
  {
   "cell_type": "markdown",
   "metadata": {},
   "source": [
    "# Nanofabrication machines\n",
    "\n",
    "## The Spinner\n",
    "\n",
    "The spin coater, or the spinner, is usually the first piece of nanofabrication equipment needed to create a sample. The purpose of the spinner is to evenly coat a wafer or substrate with resist. Resits are long-chain polymers, basically resins or plastics, that come bottled in a liquid form but dry into a hard, thin layer. Their purpose is to create a layer that a lithographic machine can puncture or damage, creating pathways and patterns to later be coated in metal in order to form our circuits.\n",
    "\n",
    "There are many types of resits, each usually has a specific purpose and works with a specifc type of lithographic machine. For the purpose of making qubits using electron beam lithography, we will stick to the 2 most common: MMA and PMMA.\n",
    "\n",
    "The MMA/PMMA bilayer combination can be useful for processes that require \"lift-off\", like the transmon, where the resist is removed by being submerged into a chemical bath after the qubit metal is evaporated onto the wafer. The thickness of the film and the type of resist all factor into how long and how fast the spinner should be used for. Generally, manufacturers will give a guideline, and then specifications can be nailed down into what is referred to as a recipe.\n",
    "\n",
    "To begin, the wafer is laid down symmetrically onto the \"chuck of the spinner, which is a plastic, removable hold with a size-varying O-ring (see figure below). When aligned correctly, a vaccuum seal is then applied, ensuring that the wafer will not move during the rotation. Next, we use a pippette to drop MMA in the center of the wafer. When the entire wafer has been covered, the spinner can then be programmed with the precise speed and time requried to achieve a certain film height. Closing the lid and starting the program will cause the apparatus to start spinning. Hopefully, the machine will behave the same way every time, ensuring a uniform height of the thin film and good reproducibility from wafer to wafer. After the recipe has been completed, the wafer is then moved to a hot plate for a specified amount of time to bake and let the resist harden. The temperature and duration of this baking process will influence how the resist breaks down once it goes into the electron beam to draw patterns. The process is then repeated with PMMA, although the recipe requirements will change. The use of two different resists is important to create structure in which the top layer of resist (PMMA) remain after development, while the bottom layer (MMA) goes away. This is especially useful when trying to make josephson junctions.\n",
    "\n",
    "![](images/nanofabrication/spinner.png)\n",
    "\n",
    "## Electron Beam Lithography\n",
    "\n",
    "Following the spin procedure, the next machine to familairize yourself with is the Electron Beam Lithographer (EBL). There is a wide variety of different EBLs, each with their own tips, tricks, and behaviors (leading to a wide variety of feelings graduate students have towards EBLs). Thus, this chapter will discuss the EBL process in the general sense and focus on how it is used for superconducting circuits.\n",
    "\n",
    "Regardless of the intended application, EBLs are used to inscribe a very small, precise pattern into an electronc-sensitive material (the resist) using a focused beam of electroncs.\n",
    "\n",
    "![](images/nanofabrication/ebeam.png)\n",
    "\n",
    "As seen in the figure above, this type of exposure is not quite as straightforward as it might initially seem. Although the directed beam of electrons is capable (and meant to) damage both layers of resist, the bottom layer responds to the proximity effect. The proximity effect is the result of some of the electrons scattering off the substrate and then rebounding into the sides of the MMA layer, making the pattern wider than intended. Another effect to be wary of is the undercut, which can lead to \"ridges\" or overhanging cliffs in the top layer of resist. Minimizing these effects requires an understanding of which voltages levels are appropraite for different sized patterns. Even if a similar voltage and pattern are being recreated, it is typically necessary to perform dosage tests, where the exposure levels are varried along different copies of a pattern until an ideal exposure level becomes clear.\n",
    "\n",
    "To begin, a chip or whole wafer must be loaded into the vaccuum chamber of the machine, highlighted by the purple box below. Before closing the door and pumping down the chamber however, it is useful to \"mark\" the chip with a small scratch, usually made using a diamond point scribe, so that orientation can easily be identified with the microscope.\n",
    "\n",
    "> Image here (need to ask for permissions)\n",
    "\n",
    "Once the vaccuum chamber containing the chip is pumped down, the mounting stage can be inserted into the main chamber. The mounting stage is then pulled out and removed and the main chamber can be brought to the correct working height for exposure. Inside every EBL is a Scanning Electron Microscope (SEM) which is used to focus and align the electron beam onto the substrate.\n",
    "\n",
    "Once the chip is at the correct working height, one needs to establish an origin and a local coordinate system so your pattern can be exposed in the correct location on the substrate. The scratch or mark you made on the chip before inserting it into the machine can be aligned to in order to generate these coordinates. Next, it is necessary to focus the beam and align the aperature.\n",
    "\n",
    "Once your beam is aligned for the correct magnification and your field of view, upload the pattern you wish you create and convert it into the correct file format. Most EBL machines let you see where your beam is currently algined on your pattern as a sanity check, to make sure the entire pattern fits on the chip before exposure begins. The recommended aperature size will vary depending on the size of the features in the pattern. Often, a pattern will require exposure with multiple aperature sizes in order to optimize exposure and writing time vs. resolution. The smallest aperature should be used first, then when the small features are exposed and complete, swtich to the larger view, re-focus, re-align and begin the process again.\n",
    "\n",
    "## The Evaporator\n",
    "\n",
    "After the EBL has finished exposing the substrate to the pattern at the appropriate dosage, it is time to develop the wafer. The goal of the developemnt process is to remove the damaged resist that was exposed to the electrons. To do this, typically a bath of isopropyl alcohol and DI water is cooled to a specific temperature, then the wafer is soaked in the bath for a finite amount of time, usually on the order of a few minutes. Once development is complete, the pattern should become visible on the wafer.\n",
    "\n",
    "The next step is to load the wafer into the metal evaporator. There are again, many varieties of this machine, some of the most popular include the Plassys development system. The metal depositor does what the name would imply: deposits a layer of metal. It does this by heating a crucible of the metal in pure form, then bending the metal particles into an arc, coming straight down onto the substrate. The loading chamber has two axes of rotation, one in plane and one perpendicular, so that metal can be deposited at an angle. This is crucial for making qubits.\n",
    "\n",
    "![](images/nanofabrication/doubleangle.png)\n",
    "\n",
    "To create a transmon, the entire wafer is rotated in one direction by an angle $\\theta$.\n",
    "\n",
    "## Development\n",
    "\n",
    "Development is the process one must go through after exposing the resist to some form of energy that breaks down the polymer chain length. The development process specifically helps remove small charateric polymer chains - the specific process highly depending on which resists are used. In the case of MMA,PMMA two common developers are: 1) a mix of isopropyl alcohol (IPA) and water and 2) A mix of MIBK and IPA.\n",
    "\n",
    "## Optical Lithography\n",
    "\n",
    "Electron Beam Lithography is an essential component in making superconducting qubits, in particular when trying to design structure that are very small in scale (100s of nanometers to 10s of micrometers), but can be very time consuming when trying to try larger patterns. In order to connect our small quantum devices to larger classical electronics, microwave structure are made that go from the smaller scales of the qubit upto larger scales on pins.\n",
    "\n",
    "## Wire bonder\n",
    "\n",
    "You're garunteed to curse at this thing more than once."
   ]
  }
 ],
 "metadata": {
  "kernelspec": {
   "display_name": "Python 3",
   "language": "python",
   "name": "python3"
  },
  "language_info": {
   "codemirror_mode": {
    "name": "ipython",
    "version": 3
   },
   "file_extension": ".py",
   "mimetype": "text/x-python",
   "name": "python",
   "nbconvert_exporter": "python",
   "pygments_lexer": "ipython3",
   "version": "3.7.7"
  }
 },
 "nbformat": 4,
 "nbformat_minor": 4
}
