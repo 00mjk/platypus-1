{
 "cells": [
  {
   "cell_type": "markdown",
   "metadata": {},
   "source": [
    "# Basic lab equipment\n",
    "\n",
    "## Oscilloscope\n",
    "\n",
    "An oscilloscope is a tool to measure how electrical signals vary over time. Most scopes in labs today process signals digitally.The oscilloscope front panel has a display panel with a horizontal (X) axis that is time, and a vertical (Y) axis, that plots voltage. This display panel is usually a grid which displays the waveforms we are measuring. We can vary the scale of the axes using control knobs on the front panel of the scope. We can use the 'vertical gain' control to set each box in the grid to a certain V/div on the vertical axis and the 'timebase' to set each division in the horizontal axis in s/div. The trigger control sets a point in the waveform at which the voltage and time are synchronized enabling a steady display of the waveform.An oscilloscope has one or more channels to which we can connect cables or probes to measure the signals from the device we are testing. We can display multiple waveforms simultaneously on the display, depending on how many channels the scope we are using has.\n",
    "\n",
    "In a quantum lab, we use oscilloscopes to test microwaves and electronics. For instance, we may want to test out our microwave control pulses to make sure they look the way we want them to before applying them to our qubit. We can measure the frequency, amplitude, noise and other characteristics of our signal, as well as relative properties such as phase between two signals.\n",
    "\n",
    "## Network Analyzer\n",
    "\n",
    "Network analyzers are used to estimate the reflection and transmission parameters of devices and components of electrical networks in the radiofrequency and microwave frequency ranges. Examples of electrical devices and components that can be measured using a network analyzer are amplifiers, transmission lines, couplers, dividers.\n",
    "\n",
    "There can be two types of network analyzers, scalar network analyzers, which only measure amplitude properties, and vector network analyzers, which measure both amplitude and phase properties. We can connect the input and output channels of the device we are testing to the ports of analyzer, and we can measure how much power is reflected back by a device to the source port or how much power is lost in transmitting through the device. The network analyzer itself has a variable frequency signal source built into it which we feed into the device we are characterizing.\n",
    "\n",
    "For example, if we want to check a transmission cable, we connect its two ends up to the two ports of a network analyzer, and measure its insertion loss, i.e. the power that is lost between the two ends of the cable.\n",
    "\n",
    "## Spectrometer\n",
    "\n",
    "A spectrometer characterizes the spectral components of a source. It consists of a dispersive element and a detector sensitive to a selected range of wavelengths."
   ]
  }
 ],
 "metadata": {
  "kernelspec": {
   "display_name": "Python 3",
   "language": "python",
   "name": "python3"
  },
  "language_info": {
   "codemirror_mode": {
    "name": "ipython",
    "version": 3
   },
   "file_extension": ".py",
   "mimetype": "text/x-python",
   "name": "python",
   "nbconvert_exporter": "python",
   "pygments_lexer": "ipython3",
   "version": "3.7.7"
  }
 },
 "nbformat": 4,
 "nbformat_minor": 4
}
