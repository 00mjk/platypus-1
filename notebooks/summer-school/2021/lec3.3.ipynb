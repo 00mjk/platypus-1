{
 "cells": [
  {
   "cell_type": "markdown",
   "metadata": {},
   "source": [
    "# Lecture Exploratory Session: Lecture 3 Bonus Content\n",
    "\n",
    "<div class=\"youtube-wrapper\">\n",
    "    <iframe src=\"https://www.youtube.com/embed/9igrPgbU1ro\" title=\"YouTube video player\" frameborder=\"0\" allow=\"accelerometer; autoplay; clipboard-write; encrypted-media; gyroscope; picture-in-picture\" allowfullscreen></iframe>\n",
    "</div>\n",
    "\n",
    "\n",
    "<<<Lecture Description>>>\n",
    "\n",
    "### Suggested links\n",
    "\n",
    "\n",
    "<!-- ::: q-block.reminder -->\n",
    "\n",
    "### FAQ\n",
    "\n",
    "<!-- ::: -->\n",
    "\n",
    "### Other resources\n",
    "\n",
    "\n",
    "### Official Suggested Reading\n",
    "Quantum Computation and Quantum Information Textbook\n",
    "\n",
    "by Isaac Chuang and Michael Nielsen\n",
    "\n",
    "Sections 8.1, 8.2, 8.3, 11.1\n",
    "\n",
    "Available for Purchase Here -->\n",
    "\n"
   ]
  }
 ],
 "metadata": {},
 "nbformat": 4,
 "nbformat_minor": 4
}
