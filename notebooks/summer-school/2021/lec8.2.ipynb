{
 "cells": [
  {
   "cell_type": "markdown",
   "metadata": {},
   "source": [
    "# Barren Plateaus, Trainability Issues, and How to Avoid Them\n",
    "\n",
    "<div class=\"youtube-wrapper\">\n",
    "    <iframe src=\"https://www.youtube.com/embed/0ENQXz9tDww\" title=\"YouTube video player\" frameborder=\"0\" allow=\"accelerometer; autoplay; clipboard-write; encrypted-media; gyroscope; picture-in-picture\" allowfullscreen></iframe>\n",
    "</div>\n",
    "\n",
    "\n",
    "<<<Lecture Description>>>\n",
    "\n",
    "### Suggested links\n",
    "\n",
    "\n",
    "<!-- ::: q-block.reminder -->\n",
    "\n",
    "### FAQ\n",
    "\n",
    "<!-- ::: -->\n",
    "\n",
    "### Other resources\n",
    "\n",
    "\n",
    "### Official Suggested Reading\n",
    "Barren plateaus in quantum neural network training landscapes\n",
    "\n",
    "by J. McClean et al.\n",
    "\n",
    "Read Here -->\n",
    "\n",
    "​\n",
    "\n",
    "Cost function dependent barren plateaus in shallow parametrized quantum circuits\n",
    "\n",
    "by M. Cerezo et al.\n",
    "\n",
    "Read Here -->\n",
    "\n"
   ]
  }
 ],
 "metadata": {},
 "nbformat": 4,
 "nbformat_minor": 4
}
