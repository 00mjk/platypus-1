{
 "cells": [
  {
   "cell_type": "markdown",
   "metadata": {},
   "source": [
    "# Introduction and Applications of Quantum Models\n",
    "\n",
    "<div class=\"youtube-wrapper\">\n",
    "    <iframe src=\"https://www.youtube.com/embed/mDPWjlqEqv8\" title=\"YouTube video player\" frameborder=\"0\" allow=\"accelerometer; autoplay; clipboard-write; encrypted-media; gyroscope; picture-in-picture\" allowfullscreen></iframe>\n",
    "</div>\n",
    "\n",
    "\n",
    "<<<Lecture Description>>>\n",
    "\n",
    "### Suggested links\n",
    "\n",
    " - Read <<<Organization>>> on [<<<Website Title>>>](https://arxiv.org/abs/1412.3635)\n",
    "\n",
    "<!-- ::: q-block.reminder -->\n",
    "\n",
    "### FAQ\n",
    "\n",
    "<!-- ::: -->\n",
    "\n",
    "### Other resources\n",
    "\n",
    " - Read <<<Author(s)>>> on [<<<Title>>>](https://iopscience.iop.org/article/10.1209/0295-5075/134/10002)\n",
    " - Read Yudong Cao, Gian Giacomo Guerreschi, Alán Aspuru-Guzik on [Quantum Neuron: an elementary building block for machine learning on quantum computers](https://arxiv.org/abs/1711.11240)\n",
    " - Read E. Torrontegui and J. J. García-Ripoll on [Unitary quantum perceptron as efficient universal approximator](https://iopscience.iop.org/article/10.1209/0295-5075/125/30004)\n",
    " - Read Maria Schuld, Ilya Sinayskiya, Francesco Petruccione on [Simulating a perceptron on a quantum computer](https://www.sciencedirect.com/science/article/abs/pii/S037596011401278X)\n",
    " - Read Francesco Tacchino, Chiara Macchiavello, Dario Gerace & Daniele Bajoni on [An artificial neuron implemented on an actual quantum processor](https://www.nature.com/articles/s41534-019-0140-4)\n",
    "\n",
    "### Official Suggested Reading\n",
    "Quantum computing models for artificial neural networks\n",
    "\n",
    "by S.  Mangini et al.\n",
    "\n",
    "Read Here -->\n",
    "\n"
   ]
  }
 ],
 "metadata": {},
 "nbformat": 4,
 "nbformat_minor": 4
}
