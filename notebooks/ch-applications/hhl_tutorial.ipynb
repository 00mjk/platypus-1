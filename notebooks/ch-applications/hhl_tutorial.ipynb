{
 "cells": [
  {
   "cell_type": "markdown",
   "metadata": {
    "tags": [
     "remove_cell"
    ]
   },
   "source": [
    "# Solving linear systems of equations using HHL and its Qiskit implementation"
   ]
  },
  {
   "cell_type": "markdown",
   "metadata": {},
   "source": [
    "In this tutorial, we introduce the HHL algorithm, derive the circuit, and implement it using Qiskit. We show how to run the HHL on a simulator and on a five qubit device."
   ]
  },
  {
   "cell_type": "markdown",
   "metadata": {
    "tags": [
     "contents"
    ]
   },
   "source": [
    "## Contents\n",
    "1. [Introduction](#introduction)\n",
    "2. [The HHL algorithm](#hhlalg)\n",
    "    1. [Some mathematical background](#mathbackground)\n",
    "    2. [Description of the HHL](#hhldescription)\n",
    "    3. [Quantum Phase Estimation (QPE) within HHL](#qpe)\n",
    "    4. [Non-exact QPE](#qpe2)\n",
    "3. [Example 1: 4-qubit HHL](#example1)\n",
    "4. [Qiskit Implementation](#implementation)\n",
    "    1. [Running HHL on a simulator: general method](#implementationsim)\n",
    "    2. [Running HHL on a real quantum device: optimised example](#implementationdev)\n",
    "5. [Problems](#problems)\n",
    "6. [References](#references)"
   ]
  },
  {
   "cell_type": "markdown",
   "metadata": {},
   "source": [
    "## 1. Introduction <a id='introduction'></a>\n",
    "\n",
    "Systems of linear equations arise naturally in many real-life applications in a wide range of areas, such as in the solution of Partial Differential Equations, the calibration of financial models, fluid simulation or numerical field calculation. The problem can be defined as, given a matrix $A\\in\\mathbb{C}^{N\\times N}$ and a vector $\\vec{b}\\in\\mathbb{C}^{N}$, find $\\vec{x}\\in\\mathbb{C}^{N}$ satisfying $A\\vec{x}=\\vec{b}$\n",
    "\n",
    "For example, take $N=2$, \n",
    "\n",
    "$$A = \\begin{pmatrix}1 & -1/3\\\\-1/3 & 1 \\end{pmatrix},\\quad \\vec{x}=\\begin{pmatrix} x_{1}\\\\ x_{2}\\end{pmatrix}\\quad \\text{and} \\quad \\vec{b}=\\begin{pmatrix}1 \\\\ 0\\end{pmatrix}$$\n",
    "\n",
    "Then the problem can also be written as find $x_{1}, x_{2}\\in\\mathbb{C}$ such that\n",
    "$$\\begin{cases}x_{1} - \\frac{x_{2}}{3} = 1 \\\\ -\\frac{x_{1}}{3} + x_{2} = 0\\end{cases} $$\n",
    "\n",
    "A system of linear equations is called $s$-sparse if $A$ has at most $s$ non-zero entries per row or column. Solving an $s$-sparse system of size $N$ with a classical computer requires $\\mathcal{ O }(Ns\\kappa\\log(1/\\epsilon))$ running time using the conjugate gradient method <sup>[1](#conjgrad)</sup>. Here $\\kappa$ denotes the condition number of the system and $\\epsilon$ the accuracy of the approximation.\n",
    "\n",
    "The HHL is a quantum algorithm to estimate a function of the solution with running time complexity of $\\mathcal{ O }(\\log(N)s^{2}\\kappa^{2}/\\epsilon)$<sup>[2](#hhl)</sup> when $A$ is a Hermitian matrix under the assumptions of efficient oracles for loading the data, Hamiltonian simulation and computing a function of the solution. This is an exponential speed up in the size of the system, however one crucial remark to keep in mind is that the classical algorithm returns the full solution, while the HHL can only approximate functions of the solution vector."
   ]
  },
  {
   "cell_type": "markdown",
   "metadata": {},
   "source": [
    "## 2. The HHL algorithm<a id='hhlalg'></a>\n",
    "\n",
    "### A. Some mathematical background<a id='mathbackground'></a>\n",
    "The first step towards solving a system of linear equations with a quantum computer is to encode the problem in the quantum language. By rescaling the system, we can assume $\\vec{b}$ and $\\vec{x}$ to be normalised and map them to the respective quantum states $|b\\rangle$ and $|x\\rangle$. Usually the mapping used is such that $i^{th}$ component of $\\vec{b}$ (resp. $\\vec{x}$) corresponds to the amplitude of the $i^{th}$ basis state of the quantum state $|b\\rangle$ (resp. $|x\\rangle$). From now on, we will focus on the rescaled problem\n",
    "\n",
    "$$ A|x\\rangle=|b\\rangle$$\n",
    "\n",
    "Since $A$ is Hermitian, it has a spectral decomposition\n",
    "$$\n",
    "A=\\sum_{j=0}^{N-1}\\lambda_{j}|u_{j}\\rangle\\langle u_{j}|,\\quad \\lambda_{j}\\in\\mathbb{ R }\n",
    "$$\n",
    "where $|u_{j}\\rangle$ is the $j^{th}$ eigenvector of $A$ with respective eigenvalue $\\lambda_{j}$. Then,\n",
    "$$\n",
    "A^{-1}=\\sum_{j=0}^{N-1}\\lambda_{j}^{-1}|u_{j}\\rangle\\langle u_{j}|\n",
    "$$\n",
    "and the right hand side of the system can be written in the eigenbasis of $A$ as\n",
    "$$\n",
    "|b\\rangle=\\sum_{j=0}^{N-1}b_{j}|u_{j}\\rangle,\\quad b_{j}\\in\\mathbb{ C }\n",
    "$$\n",
    "It is useful to keep in mind that the goal of the HHL is to exit the algorithm with the readout register in the state\n",
    "$$\n",
    "|x\\rangle=A^{-1}|b\\rangle=\\sum_{j=0}^{N-1}\\lambda_{j}^{-1}b_{j}|u_{j}\\rangle\n",
    "$$\n",
    "Note that here we already have an implicit normalisation constant since we are talking about a quantum state."
   ]
  },
  {
   "cell_type": "markdown",
   "metadata": {},
   "source": [
    "### B. Description of the HHL algorithm <a id='hhldescription'></a>\n",
    "\n",
    "The algorithm uses three quantum registers, all of them set to $|0\\rangle $ at the beginning of the algorithm. One register, which we will denote with the subindex $n_{l}$, is used to store a binary representation of the eigenvalues of $A$. A second register, denoted by $n_{b}$, contains the vector solution, and from now on $N=2^{n_{b}}$. There is an extra register, for the auxiliary qubits. These are qubits used as intermediate steps in the individual computations but will be ignored in the following description since they are set to $|0\\rangle $ at the beginning of each computation and restored back to the $|0\\rangle $ state at the end of the individual operation.\n",
    "\n",
    "The following is an outline of the HHL algorithm with a high-level drawing of the corresponding circuit. For simplicity all computations are assumed to be exact in the ensuing description, and a more detailed explanation of the non-exact case is given in Section [2.D.](#qpe2).\n",
    "\n",
    "<img src=\"images/hhlcircuit.png\" width = \"75%\" height = \"75%\">\n",
    "\n",
    "1.  Load the data $|b\\rangle\\in\\mathbb{ C }^{N}$. That is, perform the transformation  \n",
    "\n",
    "    $$ |0\\rangle _{n_{b}} \\mapsto |b\\rangle _{n_{b}} $$  \n",
    "    \n",
    "2. Apply Quantum Phase Estimation (QPE) with  \n",
    "\n",
    "\t$$\n",
    "\tU = e ^ { i A t } := \\sum _{j=0}^{N-1}e ^ { i \\lambda _ { j } t } |u_{j}\\rangle\\langle u_{j}|\n",
    "\t$$  \n",
    "    \n",
    "\tThe quantum state of the register expressed in the eigenbasis of $A$ is now  \n",
    "    \n",
    "\t$$\n",
    "\t\\sum_{j=0}^{N-1} b _ { j } |\\lambda _ {j }\\rangle_{n_{l}} |u_{j}\\rangle_{n_{b}}\n",
    "\t$$  \n",
    "    \n",
    "    where $|\\lambda _ {j }\\rangle_{n_{l}}$ is the $n_{l}$-bit binary representation of $\\lambda _ {j }$.  \n",
    "    \n",
    "3. Add an auxiliary qubit and apply a rotation conditioned on $|\\lambda_{ j }\\rangle$,  \n",
    "\n",
    "\t$$\n",
    "\t\\sum_{j=0}^{N-1} b _ { j } |\\lambda _ { j }\\rangle_{n_{l}}|u_{j}\\rangle_{n_{b}} \\left( \\sqrt { 1 - \\frac { C^{2}  } { \\lambda _ { j } ^ { 2 } } } |0\\rangle + \\frac { C } { \\lambda _ { j } } |1\\rangle \\right)\n",
    "\t$$  \n",
    "    \n",
    "\twhere $C$ is a normalisation constant, and, as expressed in the current form above, should be less than the smallest eigenvalue $\\lambda_{min}$ in magnitude, i.e., $|C| < \\lambda_{min}$.  \n",
    "    \n",
    "4. Apply QPE$^{\\dagger}$. Ignoring possible errors from QPE, this results in  \n",
    "\n",
    "\t$$\n",
    "\t\\sum_{j=0}^{N-1} b _ { j } |0\\rangle_{n_{l}}|u_{j}\\rangle_{n_{b}} \\left( \\sqrt { 1 - \\frac {C^{2}  } { \\lambda _ { j } ^ { 2 } } } |0\\rangle + \\frac { C } { \\lambda _ { j } } |1\\rangle \\right)\n",
    "\t$$  \n",
    "    \n",
    "5. Measure the auxiliary qubit in the computational basis. If the outcome is $1$, the register is in the post-measurement state  \n",
    "\n",
    "\t$$\n",
    "\t\\left( \\sqrt { \\frac { 1 } { \\sum_{j=0}^{N-1} \\left| b _ { j } \\right| ^ { 2 } / \\left| \\lambda _ { j } \\right| ^ { 2 } } } \\right) \\sum _{j=0}^{N-1} \\frac{b _ { j }}{\\lambda _ { j }} |0\\rangle_{n_{l}}|u_{j}\\rangle_{n_{b}}\n",
    "\t$$  \n",
    "    \n",
    "\twhich up to a normalisation factor corresponds to the solution.\n",
    "\n",
    "6. Apply an observable $M$ to calculate $F(x):=\\langle x|M|x\\rangle$.  \n"
   ]
  },
  {
   "cell_type": "markdown",
   "metadata": {},
   "source": [
    "### C. Quantum Phase Estimation (QPE) within HHL <a id='qpe'></a>\n",
    "\n",
    "Quantum Phase Estimation is described in more detail in Chapter 3. However, since this quantum procedure is at the core of the HHL algorithm, we recall here the definition. Roughly speaking, it is a quantum algorithm which, given a unitary $U$ with eigenvector $|\\psi\\rangle_{m}$ and eigenvalue $e^{2\\pi i\\theta}$, finds $\\theta$. We can formally define this as follows.\n",
    "\n",
    "**Definition:** Let $U\\in\\mathbb{ C }^{2^{m}\\times 2^{m}}$ be unitary and let $|\\psi\\rangle_{m}\\in\\mathbb{ C }^{2^{m}}$ be one of its eigenvectors with respective eigenvalue $e^{2\\pi i\\theta}$. The **Quantum Phase Estimation** algorithm, abbreviated **QPE**, takes as inputs the unitary gate for $U$ and the state $|0\\rangle_{n}|\\psi\\rangle_{m}$ and returns the state $|\\tilde{\\theta}\\rangle_{n}|\\psi\\rangle_{m}$. Here $\\tilde{\\theta}$ denotes a binary approximation to $2^{n}\\theta$ and the $n$ subscript denotes it has been truncated to $n$ digits.\t\n",
    "$$\n",
    "\\operatorname { QPE } ( U , |0\\rangle_{n}|\\psi\\rangle_{m} ) = |\\tilde{\\theta}\\rangle_{n}|\\psi\\rangle_{m}\n",
    "$$\n",
    "\n",
    "For the HHL we will use QPE with $U = e ^ { i A t }$, where $A$ is the matrix associated to the system we want to solve. In this case, \n",
    "$$\n",
    "e ^ { i A t } = \\sum_{j=0}^{N-1}e^{i\\lambda_{j}t}|u_{j}\\rangle\\langle u_{j}|\n",
    "$$\n",
    "Then, for the eigenvector $|u_{j}\\rangle_{n_{b}}$, which has eigenvalue $e ^ { i \\lambda _ { j } t }$, QPE will output $|\\tilde{\\lambda }_ { j }\\rangle_{n_{l}}|u_{j}\\rangle_{n_{b}}$. Where $\\tilde{\\lambda }_ { j }$ represents an $n_{l}$-bit binary approximation to $2^{n_l}\\frac{\\lambda_ { j }t}{2\\pi}$. Therefore, if each $\\lambda_{j}$ can be exactly represented with $n_{l}$ bits,\n",
    "$$\n",
    "\\operatorname { QPE } ( e ^ { i A t } , \\sum_{j=0}^{N-1}b_{j}|0\\rangle_{n_{l}}|u_{j}\\rangle_{n_{b}} ) = \\sum_{j=0}^{N-1}b_{j}|\\lambda_{j}\\rangle_{n_{l}}|u_{j}\\rangle_{n_{b}}\n",
    "$$"
   ]
  },
  {
   "cell_type": "markdown",
   "metadata": {},
   "source": [
    "### D. Non-exact QPE <a id='qpe2'></a>\n",
    "\n",
    "In reality, the quantum state of the register after applying QPE to the initial state is\n",
    "$$\n",
    "\\sum _ { j=0 }^{N-1} b _ { j } \\left( \\sum _ { l = 0 } ^ { 2 ^ { n_{l} } - 1 } \\alpha _ { l | j } |l\\rangle_{n_{l}} \\right)|u_{j}\\rangle_{n_{b}}\n",
    "$$\n",
    "where\n",
    "$$\n",
    "\\alpha _ { l | j } = \\frac { 1 } { 2 ^ { n_{l} } } \\sum _ { k = 0 } ^ { 2^{n_{l}}- 1 } \\left( e ^ { 2 \\pi i \\left( \\frac { \\lambda _ { j } t } { 2 \\pi } - \\frac { l } { 2 ^ { n_{l} } } \\right) } \\right) ^ { k }\n",
    "$$\n",
    "\n",
    "Denote by $\\tilde{\\lambda_{j}}$ the best $n_{l}$-bit approximation to $\\lambda_{j}$, $1\\leq j\\leq N$. Then we can relabel the $n_{l}$-register so that $\\alpha _ { l | j }$ denotes the amplitude of $|l + \\tilde { \\lambda } _ { j } \\rangle_{n_{l}}$. So now,\n",
    "$$\n",
    "\\alpha _ { l | j } : = \\frac { 1 } { 2 ^ { n_{l}} } \\sum _ { k = 0 } ^ { 2 ^ { n_{l} } - 1 } \\left( e ^ { 2 \\pi i \\left( \\frac { \\lambda _ { j } t } { 2 \\pi } - \\frac { l + \\tilde { \\lambda } _ { j } } { 2 ^ { n_{l} } } \\right) } \\right) ^ { k }\n",
    "$$\n",
    "If each $\\frac { \\lambda _ { j } t } { 2 \\pi }$ can be represented exactly with $n_{l}$ binary bits, then $\\frac { \\lambda _ { j } t } { 2 \\pi }=\\frac { \\tilde { \\lambda } _ { j } } { 2 ^ { n_{l} } }$ $\\forall j$. Therefore in this case $\\forall j$, $1\\leq j \\leq N$, it holds that $\\alpha _ { 0 | j } = 1$ and $\\alpha _ { l | j } = 0 \\quad \\forall l \\neq 0$. Only in this case we can write that the state of the register after QPE is \n",
    "$$\n",
    "\t\\sum_{j=0}^{N-1} b _ { j } |\\lambda _ {j }\\rangle_{n_{l}} |u_{j}\\rangle_{n_{b}}\n",
    "$$\n",
    "Otherwise, $|\\alpha _ { l | j }|$ is large if and only if $\\frac { \\lambda _ { j } t } { 2 \\pi } \\approx \\frac { l + \\tilde { \\lambda } _ { j } } { 2 ^ { n_{l} } }$ and the state of the register is\n",
    "$$\n",
    "\\sum _ { j=0 }^{N-1}  \\sum _ { l = 0 } ^ { 2 ^ { n_{l} } - 1 } \\alpha _ { l | j } b _ { j }|l\\rangle_{n_{l}} |u_{j}\\rangle_{n_{b}}\n",
    "$$"
   ]
  },
  {
   "cell_type": "markdown",
   "metadata": {},
   "source": [
    "## 3. Example: 4-qubit HHL<a id='example1'></a>\n",
    "\n",
    "Let's take the small example from the introduction to illustrate the algorithm. That is,\n",
    "$$A = \\begin{pmatrix}1 & -1/3\\\\-1/3 & 1 \\end{pmatrix}\\quad \\text{and} \\quad |b\\rangle=\\begin{pmatrix}1 \\\\ 0\\end{pmatrix}$$\n",
    "\n",
    "We will use $n_{b}=1$ qubit to represent $|b\\rangle$, and later the solution $|x\\rangle$, $n_{l}=2$ qubits to store the binary representation of the eigenvalues and $1$ auxiliary qubit to store whether the conditioned rotation, hence the algorithm, was successful.\n",
    "\n",
    "For the purpose of illustrating the algorithm, we will cheat a bit and calculate the eigenvalues of $A$ to be able to choose $t$ to obtain an exact binary representation of the rescaled eigenvalues in the $n_{l}$-register. However, keep in mind that for the HHL algorithm implementation one does not need previous knowledge of the eigenvalues. Having said that, a short calculation will give\n",
    "$$\\lambda_{1} = 2/3\\quad\\text{and}\\quad\\lambda_{2}=4/3$$\n",
    "\n",
    "Recall from the previous section that the QPE will output an $n_{l}$-bit ($2$-bit in this case) binary approximation to $\\frac{\\lambda_ { j }t}{2\\pi}$. Therefore, if we set \n",
    "$$t=2\\pi\\cdot \\frac{3}{8}$$\n",
    "the QPE will give a $2$-bit binary approximation to\n",
    "$$\\frac{\\lambda_ { 1 }t}{2\\pi} = 1/4\\quad\\text{and}\\quad\\frac{\\lambda_ { 2 }t}{2\\pi}=1/2$$\n",
    "which is, respectively,\n",
    "$$|01\\rangle_{n_{l}}\\quad\\text{and}\\quad|10\\rangle_{n_{l}}$$\n",
    "\n",
    "The eigenvectors are, respectively,\n",
    "$$|u_{1}\\rangle=\\begin{pmatrix}1 \\\\ -1\\end{pmatrix}\\quad\\text{and}\\quad|u_{2}\\rangle=\\begin{pmatrix}1 \\\\ 1\\end{pmatrix}$$\n",
    "Again, keep in mind that one does not need to compute the eigenvectors for the HHL implementation. In fact, a general Hermitian matrix $A$ of dimension $N$ can have up to $N$ different eigenvalues, therefore calculating them would take $\\mathcal{O}(N)$ time and the quantum advantage would be lost.\n",
    "\n",
    "We can then write $|b\\rangle$ in the eigenbasis of $A$ as\n",
    "$$|b\\rangle _{n_{b}}=\\sum_{j=1}^{2}\\frac{1}{\\sqrt{2}}|u_{j}\\rangle _{n_{b}}$$\n",
    "\n",
    "Now we are ready to go through the different steps of the HHL algorithm. \n",
    "\n",
    "1. State preparation in this example is trivial since $|b\\rangle=|0\\rangle$.\n",
    "2. Applying QPE will yield\n",
    "$$\n",
    "\\frac{1}{\\sqrt{2}}|01\\rangle|u_{1}\\rangle + \\frac{1}{\\sqrt{2}}|10\\rangle|u_{2}\\rangle\n",
    "$$\n",
    "3. Conditioned rotation with $C=1/8$ that is less than the smallest (rescaled) eigenvalue of $\\frac {1} {4}$. Note, the contant $C$ here needs to be chosen such that it is less than the smallest (rescaled) eigenvalue of $\\frac {1} {4}$ but as large as possible so that when the auxiliary qubit is measured, the probabilit of it being in the state $|1>$ is large.\n",
    "$$\\frac{1}{\\sqrt{2}}|01\\rangle|u_{1}\\rangle\\left( \\sqrt { 1 - \\frac { (1/8)^{2}  } {(1/4)^{2} } } |0\\rangle + \\frac { 1/8 } { 1/4 } |1\\rangle \\right) + \\frac{1}{\\sqrt{2}}|10\\rangle|u_{2}\\rangle\\left( \\sqrt { 1 - \\frac { (1/8)^{2}  } {(1/2)^{2} } } |0\\rangle + \\frac { 1/8 } { 1/2 } |1\\rangle \\right)\n",
    "$$\n",
    "$$\n",
    "=\\frac{1}{\\sqrt{2}}|01\\rangle|u_{1}\\rangle\\left( \\sqrt { 1 - \\frac { 1  } {4 } } |0\\rangle + \\frac { 1 } { 2 } |1\\rangle \\right) + \\frac{1}{\\sqrt{2}}|10\\rangle|u_{2}\\rangle\\left( \\sqrt { 1 - \\frac { 1  } {16 } } |0\\rangle + \\frac { 1 } { 4 } |1\\rangle \\right)\n",
    "$$\n",
    "4. After applying QPE$^{\\dagger}$ the quantum computer is in the state\n",
    "$$\n",
    "\\frac{1}{\\sqrt{2}}|00\\rangle|u_{1}\\rangle\\left( \\sqrt { 1 - \\frac { 1  } {4 } } |0\\rangle + \\frac { 1 } { 2 } |1\\rangle \\right) + \\frac{1}{\\sqrt{2}}|00\\rangle|u_{2}\\rangle\\left( \\sqrt { 1 - \\frac { 1  } {16 } } |0\\rangle + \\frac { 1 } { 4 } |1\\rangle \\right)\n",
    "$$\n",
    "5. On outcome $1$ when measuring the auxiliary qubit, the state is \n",
    "$$\n",
    "\\frac{\\frac{1}{\\sqrt{2}}|00\\rangle|u_{1}\\rangle\\frac { 1 } { 2 } |1\\rangle + \\frac{1}{\\sqrt{2}}|00\\rangle|u_{2}\\rangle\\frac { 1 } { 4 } |1\\rangle}{\\sqrt{5/32}}\n",
    "$$\n",
    "A quick calculation shows that\n",
    "$$\n",
    "\\frac{\\frac{1}{2\\sqrt{2}}|u_{1}\\rangle+ \\frac{1}{4\\sqrt{2}}|u_{2}\\rangle}{\\sqrt{5/32}} = \\frac{|x\\rangle}{||x||}\n",
    "$$\n",
    "6. Without using extra gates, we can compute the norm of $|x\\rangle$: it is the probability of measuring $1$ in the auxiliary qubit from the previous step.\n",
    "$$\n",
    "P(|1\\rangle) = \\left(\\frac{1}{2\\sqrt{2}}\\right)^{2} + \\left(\\frac{1}{4\\sqrt{2}}\\right)^{2} = \\frac{5}{32} = ||x||^{2}\n",
    "$$\n",
    "\n"
   ]
  },
  {
   "cell_type": "markdown",
   "metadata": {},
   "source": [
    "## 4. Qiskit Implementation<a id='implementation'></a>"
   ]
  },
  {
   "cell_type": "markdown",
   "metadata": {},
   "source": [
    "Now that we have analytically solved the problem from the example we are going to use it to illustrate how to run the HHL on a quantum simulator and on the real hardware. For the quantum simulator, Qiskit Aqua already provides an implementation of the HHL algorithm requiring the matrix $A$ and $|b\\rangle$ as basic inputs. The main advantage is that it can take a general Hermitian matrix and an arbitrary initial state as inputs. This means that the algorithm is designed for a general purpose and does not optimise the circuit for a particular problem, which is problematic if the goal is to run the circuit on the existing real hardware. At the time of writing, the existing quantum computers are noisy and can only run small circuits. Therefore, in Section [4.B.](#implementationdev) we will see an optimised circuit that can be used for a class of problems to which our example belongs and mention the existing procedures to deal with noise in quantum computers."
   ]
  },
  {
   "cell_type": "markdown",
   "metadata": {},
   "source": [
    "## A. Running HHL on a simulator: general method<a id='implementationsim'></a>"
   ]
  },
  {
   "cell_type": "markdown",
   "metadata": {},
   "source": [
    "To run the HHL algorithm provided by Qiskit Aqua we just need to import the right modules and set the parameters as follows. In the worked out example we set the time of the Hamiltonian simulation to $t=2\\pi\\cdot \\frac{3}{8}$, however we will run the simulation without setting this parameter to show that knowledge of the eigenvalues is not required. Nonetheless, if the matrix has some structure it might be possible to obtain information about the eigenvalues and use it to choose a suitable $t$ and improve the accuracy of the solution returned by the HHL. As an exercise to see this, run the algorithm setting the time to $t=2\\pi\\cdot \\frac{3}{8}$. If done correctly, the fidelity of the solution should be $1$."
   ]
  },
  {
   "cell_type": "code",
   "execution_count": 1,
   "metadata": {
    "scrolled": true
   },
   "outputs": [],
   "source": [
    "from qiskit import Aer, transpile, assemble\n",
    "from qiskit.circuit.library import QFT\n",
    "from qiskit.aqua import QuantumInstance, aqua_globals\n",
    "from qiskit.quantum_info import state_fidelity\n",
    "from qiskit.aqua.algorithms import HHL, NumPyLSsolver\n",
    "from qiskit.aqua.components.eigs import EigsQPE\n",
    "from qiskit.aqua.components.reciprocals import LookupRotation\n",
    "from qiskit.aqua.operators import MatrixOperator\n",
    "from qiskit.aqua.components.initial_states import Custom\n",
    "import numpy as np"
   ]
  },
  {
   "cell_type": "code",
   "execution_count": 2,
   "metadata": {},
   "outputs": [],
   "source": [
    "def create_eigs(matrix, num_auxiliary, num_time_slices, negative_evals):\n",
    "    ne_qfts = [None, None]\n",
    "    if negative_evals:\n",
    "        num_auxiliary += 1\n",
    "        ne_qfts = [QFT(num_auxiliary - 1), QFT(num_auxiliary - 1).inverse()]\n",
    "\n",
    "    return EigsQPE(MatrixOperator(matrix=matrix),\n",
    "                   QFT(num_auxiliary).inverse(),\n",
    "                   num_time_slices=num_time_slices,\n",
    "                   num_ancillae=num_auxiliary,\n",
    "                   expansion_mode='suzuki',\n",
    "                   expansion_order=2,\n",
    "                   evo_time=None,  # This is t, can set to: np.pi*3/4\n",
    "                   negative_evals=negative_evals,\n",
    "                   ne_qfts=ne_qfts)"
   ]
  },
  {
   "cell_type": "markdown",
   "metadata": {},
   "source": [
    "The following function will be used to calculate the fidelity of solution returned by the HHL algorithm."
   ]
  },
  {
   "cell_type": "code",
   "execution_count": 3,
   "metadata": {},
   "outputs": [],
   "source": [
    "def fidelity(hhl, ref):\n",
    "    solution_hhl_normed = hhl / np.linalg.norm(hhl)\n",
    "    solution_ref_normed = ref / np.linalg.norm(ref)\n",
    "    fidelity = state_fidelity(solution_hhl_normed, solution_ref_normed)\n",
    "    print(\"Fidelity:\\t\\t %f\" % fidelity)"
   ]
  },
  {
   "cell_type": "code",
   "execution_count": 4,
   "metadata": {},
   "outputs": [],
   "source": [
    "matrix = [[1, -1/3], [-1/3, 1]]\n",
    "vector = [1, 0]"
   ]
  },
  {
   "cell_type": "code",
   "execution_count": 5,
   "metadata": {},
   "outputs": [
    {
     "name": "stderr",
     "output_type": "stream",
     "text": [
      "/usr/local/anaconda3/lib/python3.7/site-packages/ipykernel_launcher.py:7: DeprecationWarning: The package qiskit.aqua.operators is deprecated. It was moved/refactored to qiskit.opflow (pip install qiskit-terra). For more information see <https://github.com/Qiskit/qiskit-aqua/blob/master/README.md#migration-guide>\n",
      "  import sys\n",
      "/usr/local/anaconda3/lib/python3.7/site-packages/qiskit/aqua/operators/legacy/op_converter.py:90: DeprecationWarning: The variable qiskit.aqua.aqua_globals is deprecated. It was moved/refactored to qiskit.utils.aqua_globals (pip install qiskit-terra). For more information see <https://github.com/Qiskit/qiskit-aqua/blob/master/README.md#migration-guide>\n",
      "  num_processes=aqua_globals.num_processes)\n",
      "/usr/local/anaconda3/lib/python3.7/site-packages/qiskit/aqua/components/initial_states/custom.py:79: DeprecationWarning: The Custom class is deprecated as of Aqua 0.9 and will be removed no earlier than 3 months after the release date. Instead, all algorithms and circuits accept a plain QuantumCircuit. Custom(state_vector=vector) is the same as a circuit where the ``initialize(vector/np.linalg.norm(vector))`` method has been called.\n",
      "  super().__init__()\n"
     ]
    }
   ],
   "source": [
    "orig_size = len(vector)\n",
    "matrix, vector, truncate_powerdim, truncate_hermitian = HHL.matrix_resize(matrix, vector)\n",
    "\n",
    "# Initialize eigenvalue finding module\n",
    "eigs = create_eigs(matrix, 3, 50, False)\n",
    "num_q, num_a = eigs.get_register_sizes()\n",
    "\n",
    "# Initialize initial state module\n",
    "init_state = Custom(num_q, state_vector=vector)\n",
    "\n",
    "# Initialize reciprocal rotation module\n",
    "reci = LookupRotation(negative_evals=eigs._negative_evals, evo_time=eigs._evo_time)\n",
    "\n",
    "algo = HHL(matrix, vector, truncate_powerdim, truncate_hermitian, eigs,\n",
    "           init_state, reci, num_q, num_a, orig_size)\n"
   ]
  },
  {
   "cell_type": "markdown",
   "metadata": {},
   "source": [
    "The reason to choose $t=2\\pi\\cdot \\frac{3}{8}$ was so that the rescaled eigenvalues could be represented exactly with $2$ binary digits. Since now this is not the case, the representation will be approximate, hence QPE not exact and the returned solution will be an approximation."
   ]
  },
  {
   "cell_type": "code",
   "execution_count": 6,
   "metadata": {},
   "outputs": [
    {
     "name": "stderr",
     "output_type": "stream",
     "text": [
      "/usr/local/anaconda3/lib/python3.7/site-packages/qiskit/aqua/quantum_instance.py:137: DeprecationWarning: The class qiskit.aqua.QuantumInstance is deprecated. It was moved/refactored to qiskit.utils.QuantumInstance (pip install qiskit-terra). For more information see <https://github.com/Qiskit/qiskit-aqua/blob/master/README.md#migration-guide>\n",
      "  'qiskit-terra')\n",
      "/usr/local/anaconda3/lib/python3.7/site-packages/qiskit/aqua/components/initial_states/custom.py:151: DeprecationWarning: The StateVectorCircuit class is deprecated as of Qiskit Aqua 0.9.0 and will be removed no earlier than 3 months after the release. If you need to initialize a circuit, use the QuantumCircuit.initialize or QuantumCircuit.isometry methods. For a parameterized initialization, try the qiskit.ml.circuit.library.RawFeatureVector class.\n",
      "  svc = StateVectorCircuit(self._state_vector)\n"
     ]
    },
    {
     "name": "stdout",
     "output_type": "stream",
     "text": [
      "Solution:\t\t [ 0.66576-0.j -0.38561+0.j]\n",
      "Classical Solution:\t [1.125 0.375]\n",
      "Probability:\t\t 0.211527\n",
      "Fidelity:\t\t 0.438807\n"
     ]
    }
   ],
   "source": [
    "result = algo.run(QuantumInstance(Aer.get_backend('statevector_simulator')))\n",
    "print(\"Solution:\\t\\t\", np.round(result['solution'], 5))\n",
    "\n",
    "result_ref = NumPyLSsolver(matrix, vector).run()\n",
    "print(\"Classical Solution:\\t\", np.round(result_ref['solution'], 5))\n",
    "\n",
    "print(\"Probability:\\t\\t %f\" % result['probability_result'])\n",
    "fidelity(result['solution'], result_ref['solution'])"
   ]
  },
  {
   "cell_type": "markdown",
   "metadata": {},
   "source": [
    "We can print the resources used by the algorithm. The depth is the maximum number of gates applied to a single qubit, while the width is defined as the number of qubits required. We will also print the number of CNOTs since this number together with the width gives a good idea of whether running the circuit on current real hardware is feasible."
   ]
  },
  {
   "cell_type": "code",
   "execution_count": 7,
   "metadata": {},
   "outputs": [
    {
     "name": "stdout",
     "output_type": "stream",
     "text": [
      "circuit_width:\t 7\n",
      "circuit_depth:\t 101\n",
      "CNOT gates:\t 54\n"
     ]
    }
   ],
   "source": [
    "print(\"circuit_width:\\t\", result['circuit_info']['width'])\n",
    "print(\"circuit_depth:\\t\", result['circuit_info']['depth'])\n",
    "print(\"CNOT gates:\\t\", result['circuit_info']['operations']['cx'])"
   ]
  },
  {
   "cell_type": "markdown",
   "metadata": {},
   "source": [
    "## B. Running HHL on a real quantum device: optimised example<a id='implementationdev'></a>"
   ]
  },
  {
   "cell_type": "markdown",
   "metadata": {},
   "source": [
    "In the previous section we ran the standard algorithm provided in Qiskit and saw that it uses $7$ qubits, has a depth of ~$100$ gates and requires a total of $54$ CNOT gates. These numbers are not feasible for the current available hardware, therefore we need to decrease these quantities. In particular, the goal will be to reduce the number of CNOTs by a factor of $5$ since they have worse fidelity than single-qubit gates. Furthermore, we can reduce the number of qubits to $4$ as was the original statement of the problem: the Qiskit method was written for a general problem and that is why it requires $3$ additional auxiliary qubits.\n",
    "\n",
    "However, solely decreasing the number of gates and qubits will not give a good approximation to the solution on real hardware. This is because there are two sources of errors: those that occur during the run of the circuit and readout errors. \n",
    "\n",
    "Qiskit provides a module to mitigate the readout errors by individually preparing and measuring all basis states, a detailed treatment on the topic can be found in the paper by Dewes et al.<sup>[3](#readouterr)</sup> To deal with the errors occurring during the run of the circuit, Richardson extrapolation can be used to calculate the error to the zero limit by running the circuit three times, each replacing each CNOT gate by $1$, $3$ and $5$ CNOTs respectively<sup>[4](#richardson)</sup>. The idea is that theoretically the three circuits should produce the same result, but in real hardware adding CNOTs means amplifying the error. Since we know that we have obtained results with an amplified error, and we can estimate by how much the error was amplified in each case, we can recombine the quantities to obtain a new result that is a closer approximation to the analytic solution than any of the previous obtained values.\n",
    "\n",
    "Below we give the optimised circuit that can be used for any problem of the form\n",
    "$$A = \\begin{pmatrix}a & b\\\\b & a \\end{pmatrix}\\quad \\text{and} \\quad |b\\rangle=\\begin{pmatrix}\\cos(\\theta) \\\\ \\sin(\\theta)\\end{pmatrix},\\quad a,b,\\theta\\in\\mathbb{R}$$\n",
    "\n",
    "The following optimisation was extracted from a work on the HHL for tridiagonal symmetric matrices<sup>[[5]](#tridi)</sup>, this particular circuit was derived with the aid of the UniversalQCompiler software<sup>[[6]](#qcompiler)</sup>.\n"
   ]
  },
  {
   "cell_type": "code",
   "execution_count": 8,
   "metadata": {},
   "outputs": [
    {
     "name": "stdout",
     "output_type": "stream",
     "text": [
      "Depth: 26\n",
      "CNOTS: 10\n"
     ]
    },
    {
     "data": {
      "image/svg+xml": [
       "<?xml version=\"1.0\" encoding=\"UTF-8\"?><!DOCTYPE svg  PUBLIC '-//W3C//DTD SVG 1.1//EN'  'http://www.w3.org/Graphics/SVG/1.1/DTD/svg11.dtd'><svg width=\"1511.6pt\" height=\"259.84pt\" version=\"1.1\" viewBox=\"0 0 1511.6 259.84\" xmlns=\"http://www.w3.org/2000/svg\" xmlns:xlink=\"http://www.w3.org/1999/xlink\"><defs><style type=\"text/css\">*{stroke-linecap:butt;stroke-linejoin:round;}</style></defs><path d=\"m0 259.84h1511.6v-259.84h-1511.6z\" fill=\"#ffffff\"/><path d=\"m1332.2 215.02h11.817l-5.9086 8.5221z\" clip-path=\"url(#p3a4ac63bcf)\" fill=\"#778899\"/><path d=\"m1377.6 215.02h11.817l-5.9086 8.5221z\" clip-path=\"url(#p3a4ac63bcf)\" fill=\"#778899\"/><path d=\"m1423.1 215.02h11.817l-5.9086 8.5221z\" clip-path=\"url(#p3a4ac63bcf)\" fill=\"#778899\"/><path d=\"m1468.5 215.02h11.817l-5.9086 8.5221z\" clip-path=\"url(#p3a4ac63bcf)\" fill=\"#778899\"/><path d=\"m86.353 43.561h1413.5\" clip-path=\"url(#p3a4ac63bcf)\" fill=\"none\" stroke=\"#000000\" stroke-linecap=\"square\" stroke-width=\"2\"/><path d=\"m86.353 89.012h1413.5\" clip-path=\"url(#p3a4ac63bcf)\" fill=\"none\" stroke=\"#000000\" stroke-linecap=\"square\" stroke-width=\"2\"/><path d=\"m86.353 134.46h1413.5\" clip-path=\"url(#p3a4ac63bcf)\" fill=\"none\" stroke=\"#000000\" stroke-linecap=\"square\" stroke-width=\"2\"/><path d=\"m86.353 179.91h1413.5\" clip-path=\"url(#p3a4ac63bcf)\" fill=\"none\" stroke=\"#000000\" stroke-linecap=\"square\" stroke-width=\"2\"/><path d=\"m86.353 223.89h1413.5\" clip-path=\"url(#p3a4ac63bcf)\" fill=\"none\" stroke=\"#778899\" stroke-linecap=\"square\" stroke-width=\"2\"/><path d=\"m86.353 226.84h1413.5\" clip-path=\"url(#p3a4ac63bcf)\" fill=\"none\" stroke=\"#778899\" stroke-linecap=\"square\" stroke-width=\"2\"/><path d=\"m1283.8 66.286h17.726v-45.451h-17.726z\" clip-path=\"url(#p3a4ac63bcf)\" fill=\"#bdbdbd\" opacity=\".6\"/><path d=\"m1283.8 111.74h17.726v-45.451h-17.726z\" clip-path=\"url(#p3a4ac63bcf)\" fill=\"#bdbdbd\" opacity=\".6\"/><path d=\"m1283.8 157.19h17.726v-45.451h-17.726z\" clip-path=\"url(#p3a4ac63bcf)\" fill=\"#bdbdbd\" opacity=\".6\"/><path d=\"m1283.8 202.64h17.726v-45.451h-17.726z\" clip-path=\"url(#p3a4ac63bcf)\" fill=\"#bdbdbd\" opacity=\".6\"/><path d=\"m292.7 89.012v-45.451\" clip-path=\"url(#p3a4ac63bcf)\" fill=\"none\" stroke=\"#6fa4ff\" stroke-linecap=\"square\" stroke-width=\"2\"/><path d=\"m383.6 89.012v-45.451\" clip-path=\"url(#p3a4ac63bcf)\" fill=\"none\" stroke=\"#6fa4ff\" stroke-linecap=\"square\" stroke-width=\"2\"/><path d=\"m565.41 134.46v-90.902\" clip-path=\"url(#p3a4ac63bcf)\" fill=\"none\" stroke=\"#6fa4ff\" stroke-linecap=\"square\" stroke-width=\"2\"/><path d=\"m656.31 134.46v-90.902\" clip-path=\"url(#p3a4ac63bcf)\" fill=\"none\" stroke=\"#6fa4ff\" stroke-linecap=\"square\" stroke-width=\"2\"/><path d=\"m792.66 134.46v-45.451\" clip-path=\"url(#p3a4ac63bcf)\" fill=\"none\" stroke=\"#6fa4ff\" stroke-linecap=\"square\" stroke-width=\"2\"/><path d=\"m883.56 134.46v-45.451\" clip-path=\"url(#p3a4ac63bcf)\" fill=\"none\" stroke=\"#6fa4ff\" stroke-linecap=\"square\" stroke-width=\"2\"/><path d=\"m929.01 179.91v-45.451\" clip-path=\"url(#p3a4ac63bcf)\" fill=\"none\" stroke=\"#6fa4ff\" stroke-linecap=\"square\" stroke-width=\"2\"/><path d=\"m1019.9 179.91v-90.902\" clip-path=\"url(#p3a4ac63bcf)\" fill=\"none\" stroke=\"#6fa4ff\" stroke-linecap=\"square\" stroke-width=\"2\"/><path d=\"m1110.8 179.91v-45.451\" clip-path=\"url(#p3a4ac63bcf)\" fill=\"none\" stroke=\"#6fa4ff\" stroke-linecap=\"square\" stroke-width=\"2\"/><path d=\"m1201.7 179.91v-90.902\" clip-path=\"url(#p3a4ac63bcf)\" fill=\"none\" stroke=\"#6fa4ff\" stroke-linecap=\"square\" stroke-width=\"2\"/><path d=\"m1339.6 43.561v171.46\" clip-path=\"url(#p3a4ac63bcf)\" fill=\"none\" stroke=\"#778899\" stroke-linecap=\"square\" stroke-width=\"2\"/><path d=\"m1336.6 43.561v171.46\" clip-path=\"url(#p3a4ac63bcf)\" fill=\"none\" stroke=\"#778899\" stroke-linecap=\"square\" stroke-width=\"2\"/><path d=\"m1385 89.012v126.01\" clip-path=\"url(#p3a4ac63bcf)\" fill=\"none\" stroke=\"#778899\" stroke-linecap=\"square\" stroke-width=\"2\"/><path d=\"m1382 89.012v126.01\" clip-path=\"url(#p3a4ac63bcf)\" fill=\"none\" stroke=\"#778899\" stroke-linecap=\"square\" stroke-width=\"2\"/><path d=\"m1430.5 134.46v80.562\" clip-path=\"url(#p3a4ac63bcf)\" fill=\"none\" stroke=\"#778899\" stroke-linecap=\"square\" stroke-width=\"2\"/><path d=\"m1427.5 134.46v80.562\" clip-path=\"url(#p3a4ac63bcf)\" fill=\"none\" stroke=\"#778899\" stroke-linecap=\"square\" stroke-width=\"2\"/><path d=\"m1475.9 179.91v35.111\" clip-path=\"url(#p3a4ac63bcf)\" fill=\"none\" stroke=\"#778899\" stroke-linecap=\"square\" stroke-width=\"2\"/><path d=\"m1472.9 179.91v35.111\" clip-path=\"url(#p3a4ac63bcf)\" fill=\"none\" stroke=\"#778899\" stroke-linecap=\"square\" stroke-width=\"2\"/><path d=\"m95.443 229.91 4.5451-9.0902\" clip-path=\"url(#p3a4ac63bcf)\" fill=\"none\" stroke=\"#778899\" stroke-linecap=\"square\" stroke-width=\"1.5\"/><path d=\"m96.125 58.332h29.543v-29.543h-29.543z\" clip-path=\"url(#p3a4ac63bcf)\" fill=\"#bb8bff\" stroke=\"#bb8bff\" stroke-width=\"1.5\"/><path d=\"m96.125 103.78h29.543v-29.543h-29.543z\" clip-path=\"url(#p3a4ac63bcf)\" fill=\"#6fa4ff\" stroke=\"#6fa4ff\" stroke-width=\"1.5\"/><path d=\"m96.125 149.23h29.543v-29.543h-29.543z\" clip-path=\"url(#p3a4ac63bcf)\" fill=\"#6fa4ff\" stroke=\"#6fa4ff\" stroke-width=\"1.5\"/><path d=\"m164.3 103.78h29.543v-29.543h-29.543z\" clip-path=\"url(#p3a4ac63bcf)\" fill=\"#bb8bff\" stroke=\"#bb8bff\" stroke-width=\"1.5\"/><path d=\"m164.3 149.23h29.543v-29.543h-29.543z\" clip-path=\"url(#p3a4ac63bcf)\" fill=\"#bb8bff\" stroke=\"#bb8bff\" stroke-width=\"1.5\"/><path d=\"m141.76 58.332h74.617v-29.543h-74.617z\" clip-path=\"url(#p3a4ac63bcf)\" fill=\"#bb8bff\" stroke=\"#bb8bff\" stroke-width=\"1.5\"/><path d=\"m232.48 58.332h29.543v-29.543h-29.543z\" clip-path=\"url(#p3a4ac63bcf)\" fill=\"#bb8bff\" stroke=\"#bb8bff\" stroke-width=\"1.5\"/><path d=\"m292.7 93.443c1.1752 0 2.3025-0.46693 3.1335-1.2979 0.83102-0.83102 1.2979-1.9583 1.2979-3.1335s-0.46693-2.3025-1.2979-3.1335c-0.83102-0.83102-1.9583-1.2979-3.1335-1.2979s-2.3025 0.46693-3.1335 1.2979c-0.83102 0.83102-1.2979 1.9583-1.2979 3.1335s0.46693 2.3025 1.2979 3.1335c0.83102 0.83102 1.9583 1.2979 3.1335 1.2979z\" clip-path=\"url(#p3a4ac63bcf)\" fill=\"#6fa4ff\" stroke=\"#6fa4ff\" stroke-width=\"1.5\"/><path d=\"m292.7 53.901c2.7422 0 5.3725-1.0895 7.3116-3.0285 1.939-1.939 3.0285-4.5693 3.0285-7.3116s-1.0895-5.3725-3.0285-7.3116c-1.939-1.939-4.5693-3.0285-7.3116-3.0285s-5.3725 1.0895-7.3116 3.0285c-1.939 1.939-3.0285 4.5693-3.0285 7.3116s1.0895 5.3725 3.0285 7.3116c1.939 1.939 4.5693 3.0285 7.3116 3.0285z\" clip-path=\"url(#p3a4ac63bcf)\" fill=\"#6fa4ff\" stroke=\"#6fa4ff\" stroke-width=\"2\"/><path d=\"m322.57 58.332h31.157v-29.543h-31.157z\" clip-path=\"url(#p3a4ac63bcf)\" fill=\"#bb8bff\" stroke=\"#bb8bff\" stroke-width=\"1.5\"/><path d=\"m383.6 93.443c1.1752 0 2.3025-0.46693 3.1335-1.2979 0.83102-0.83102 1.2979-1.9583 1.2979-3.1335s-0.46693-2.3025-1.2979-3.1335c-0.83102-0.83102-1.9583-1.2979-3.1335-1.2979s-2.3025 0.46693-3.1335 1.2979c-0.83102 0.83102-1.2979 1.9583-1.2979 3.1335s0.46693 2.3025 1.2979 3.1335c0.83102 0.83102 1.9583 1.2979 3.1335 1.2979z\" clip-path=\"url(#p3a4ac63bcf)\" fill=\"#6fa4ff\" stroke=\"#6fa4ff\" stroke-width=\"1.5\"/><path d=\"m383.6 53.901c2.7422 0 5.3725-1.0895 7.3116-3.0285 1.939-1.939 3.0285-4.5693 3.0285-7.3116s-1.0895-5.3725-3.0285-7.3116c-1.939-1.939-4.5693-3.0285-7.3116-3.0285s-5.3725 1.0895-7.3116 3.0285c-1.939 1.939-3.0285 4.5693-3.0285 7.3116s1.0895 5.3725 3.0285 7.3116c1.939 1.939 4.5693 3.0285 7.3116 3.0285z\" clip-path=\"url(#p3a4ac63bcf)\" fill=\"#6fa4ff\" stroke=\"#6fa4ff\" stroke-width=\"2\"/><path d=\"m414.28 58.332h29.543v-29.543h-29.543z\" clip-path=\"url(#p3a4ac63bcf)\" fill=\"#bb8bff\" stroke=\"#bb8bff\" stroke-width=\"1.5\"/><path d=\"m459.73 58.332h29.543v-29.543h-29.543z\" clip-path=\"url(#p3a4ac63bcf)\" fill=\"#bb8bff\" stroke=\"#bb8bff\" stroke-width=\"1.5\"/><path d=\"m505.18 58.332h29.543v-29.543h-29.543z\" clip-path=\"url(#p3a4ac63bcf)\" fill=\"#bb8bff\" stroke=\"#bb8bff\" stroke-width=\"1.5\"/><path d=\"m565.41 138.89c1.1752 0 2.3025-0.46693 3.1335-1.2979 0.83102-0.83102 1.2979-1.9583 1.2979-3.1335s-0.46693-2.3025-1.2979-3.1335c-0.83102-0.83102-1.9583-1.2979-3.1335-1.2979s-2.3025 0.46693-3.1335 1.2979c-0.83102 0.83102-1.2979 1.9583-1.2979 3.1335s0.46693 2.3025 1.2979 3.1335c0.83102 0.83102 1.9583 1.2979 3.1335 1.2979z\" clip-path=\"url(#p3a4ac63bcf)\" fill=\"#6fa4ff\" stroke=\"#6fa4ff\" stroke-width=\"1.5\"/><path d=\"m565.41 53.901c2.7422 0 5.3725-1.0895 7.3116-3.0285 1.939-1.939 3.0285-4.5693 3.0285-7.3116s-1.0895-5.3725-3.0285-7.3116c-1.939-1.939-4.5693-3.0285-7.3116-3.0285s-5.3725 1.0895-7.3116 3.0285c-1.939 1.939-3.0285 4.5693-3.0285 7.3116s1.0895 5.3725 3.0285 7.3116c1.939 1.939 4.5693 3.0285 7.3116 3.0285z\" clip-path=\"url(#p3a4ac63bcf)\" fill=\"#6fa4ff\" stroke=\"#6fa4ff\" stroke-width=\"2\"/><path d=\"m596.09 58.332h29.543v-29.543h-29.543z\" clip-path=\"url(#p3a4ac63bcf)\" fill=\"#bb8bff\" stroke=\"#bb8bff\" stroke-width=\"1.5\"/><path d=\"m656.31 138.89c1.1752 0 2.3025-0.46693 3.1335-1.2979 0.83102-0.83102 1.2979-1.9583 1.2979-3.1335s-0.46693-2.3025-1.2979-3.1335c-0.83102-0.83102-1.9583-1.2979-3.1335-1.2979s-2.3025 0.46693-3.1335 1.2979c-0.83102 0.83102-1.2979 1.9583-1.2979 3.1335s0.46693 2.3025 1.2979 3.1335c0.83102 0.83102 1.9583 1.2979 3.1335 1.2979z\" clip-path=\"url(#p3a4ac63bcf)\" fill=\"#6fa4ff\" stroke=\"#6fa4ff\" stroke-width=\"1.5\"/><path d=\"m656.31 53.901c2.7422 0 5.3725-1.0895 7.3116-3.0285 1.939-1.939 3.0285-4.5693 3.0285-7.3116s-1.0895-5.3725-3.0285-7.3116c-1.939-1.939-4.5693-3.0285-7.3116-3.0285s-5.3725 1.0895-7.3116 3.0285c-1.939 1.939-3.0285 4.5693-3.0285 7.3116s1.0895 5.3725 3.0285 7.3116c1.939 1.939 4.5693 3.0285 7.3116 3.0285z\" clip-path=\"url(#p3a4ac63bcf)\" fill=\"#6fa4ff\" stroke=\"#6fa4ff\" stroke-width=\"2\"/><path d=\"m686.99 58.332h29.543v-29.543h-29.543z\" clip-path=\"url(#p3a4ac63bcf)\" fill=\"#bb8bff\" stroke=\"#bb8bff\" stroke-width=\"1.5\"/><path d=\"m686.99 149.23h29.543v-29.543h-29.543z\" clip-path=\"url(#p3a4ac63bcf)\" fill=\"#6fa4ff\" stroke=\"#6fa4ff\" stroke-width=\"1.5\"/><path d=\"m732.44 58.332h29.543v-29.543h-29.543z\" clip-path=\"url(#p3a4ac63bcf)\" fill=\"#bb8bff\" stroke=\"#bb8bff\" stroke-width=\"1.5\"/><path d=\"m732.44 149.23h29.543v-29.543h-29.543z\" clip-path=\"url(#p3a4ac63bcf)\" fill=\"#bb8bff\" stroke=\"#bb8bff\" stroke-width=\"1.5\"/><path d=\"m792.66 93.443c1.1752 0 2.3025-0.46693 3.1335-1.2979 0.83102-0.83102 1.2979-1.9583 1.2979-3.1335s-0.46693-2.3025-1.2979-3.1335c-0.83102-0.83102-1.9583-1.2979-3.1335-1.2979s-2.3025 0.46693-3.1335 1.2979c-0.83102 0.83102-1.2979 1.9583-1.2979 3.1335s0.46693 2.3025 1.2979 3.1335c0.83102 0.83102 1.9583 1.2979 3.1335 1.2979z\" clip-path=\"url(#p3a4ac63bcf)\" fill=\"#6fa4ff\" stroke=\"#6fa4ff\" stroke-width=\"1.5\"/><path d=\"m792.66 144.8c2.7422 0 5.3725-1.0895 7.3116-3.0285 1.939-1.939 3.0285-4.5693 3.0285-7.3116s-1.0895-5.3725-3.0285-7.3116c-1.939-1.939-4.5693-3.0285-7.3116-3.0285s-5.3725 1.0895-7.3116 3.0285c-1.939 1.939-3.0285 4.5693-3.0285 7.3116s1.0895 5.3725 3.0285 7.3116c1.939 1.939 4.5693 3.0285 7.3116 3.0285z\" clip-path=\"url(#p3a4ac63bcf)\" fill=\"#6fa4ff\" stroke=\"#6fa4ff\" stroke-width=\"2\"/><path d=\"m823.34 149.23h29.543v-29.543h-29.543z\" clip-path=\"url(#p3a4ac63bcf)\" fill=\"#bb8bff\" stroke=\"#bb8bff\" stroke-width=\"1.5\"/><path d=\"m883.56 93.443c1.1752 0 2.3025-0.46693 3.1335-1.2979 0.83102-0.83102 1.2979-1.9583 1.2979-3.1335s-0.46693-2.3025-1.2979-3.1335c-0.83102-0.83102-1.9583-1.2979-3.1335-1.2979s-2.3025 0.46693-3.1335 1.2979c-0.83102 0.83102-1.2979 1.9583-1.2979 3.1335s0.46693 2.3025 1.2979 3.1335c0.83102 0.83102 1.9583 1.2979 3.1335 1.2979z\" clip-path=\"url(#p3a4ac63bcf)\" fill=\"#6fa4ff\" stroke=\"#6fa4ff\" stroke-width=\"1.5\"/><path d=\"m883.56 144.8c2.7422 0 5.3725-1.0895 7.3116-3.0285 1.939-1.939 3.0285-4.5693 3.0285-7.3116s-1.0895-5.3725-3.0285-7.3116c-1.939-1.939-4.5693-3.0285-7.3116-3.0285s-5.3725 1.0895-7.3116 3.0285c-1.939 1.939-3.0285 4.5693-3.0285 7.3116s1.0895 5.3725 3.0285 7.3116c1.939 1.939 4.5693 3.0285 7.3116 3.0285z\" clip-path=\"url(#p3a4ac63bcf)\" fill=\"#6fa4ff\" stroke=\"#6fa4ff\" stroke-width=\"2\"/><path d=\"m914.24 103.78h29.543v-29.543h-29.543z\" clip-path=\"url(#p3a4ac63bcf)\" fill=\"#bb8bff\" stroke=\"#bb8bff\" stroke-width=\"1.5\"/><path d=\"m929.01 138.89c1.1752 0 2.3025-0.46693 3.1335-1.2979 0.83102-0.83102 1.2979-1.9583 1.2979-3.1335s-0.46693-2.3025-1.2979-3.1335c-0.83102-0.83102-1.9583-1.2979-3.1335-1.2979s-2.3025 0.46693-3.1335 1.2979c-0.83102 0.83102-1.2979 1.9583-1.2979 3.1335s0.46693 2.3025 1.2979 3.1335c0.83102 0.83102 1.9583 1.2979 3.1335 1.2979z\" clip-path=\"url(#p3a4ac63bcf)\" fill=\"#6fa4ff\" stroke=\"#6fa4ff\" stroke-width=\"1.5\"/><path d=\"m929.01 190.25c2.7422 0 5.3725-1.0895 7.3116-3.0285 1.939-1.939 3.0285-4.5693 3.0285-7.3116s-1.0895-5.3725-3.0285-7.3116c-1.939-1.939-4.5693-3.0285-7.3116-3.0285s-5.3725 1.0895-7.3116 3.0285c-1.939 1.939-3.0285 4.5693-3.0285 7.3116s1.0895 5.3725 3.0285 7.3116c1.939 1.939 4.5693 3.0285 7.3116 3.0285z\" clip-path=\"url(#p3a4ac63bcf)\" fill=\"#6fa4ff\" stroke=\"#6fa4ff\" stroke-width=\"2\"/><path d=\"m959.69 103.78h29.543v-29.543h-29.543z\" clip-path=\"url(#p3a4ac63bcf)\" fill=\"#6fa4ff\" stroke=\"#6fa4ff\" stroke-width=\"1.5\"/><path d=\"m958.84 194.69h31.252v-29.543h-31.252z\" clip-path=\"url(#p3a4ac63bcf)\" fill=\"#bb8bff\" stroke=\"#bb8bff\" stroke-width=\"1.5\"/><path d=\"m1019.9 93.443c1.1752 0 2.3025-0.46693 3.1335-1.2979 0.83102-0.83102 1.2979-1.9583 1.2979-3.1335s-0.46693-2.3025-1.2979-3.1335c-0.83102-0.83102-1.9583-1.2979-3.1335-1.2979s-2.3025 0.46693-3.1335 1.2979c-0.83102 0.83102-1.2979 1.9583-1.2979 3.1335s0.46693 2.3025 1.2979 3.1335c0.83102 0.83102 1.9583 1.2979 3.1335 1.2979z\" clip-path=\"url(#p3a4ac63bcf)\" fill=\"#6fa4ff\" stroke=\"#6fa4ff\" stroke-width=\"1.5\"/><path d=\"m1019.9 190.25c2.7422 0 5.3725-1.0895 7.3116-3.0285 1.939-1.939 3.0285-4.5693 3.0285-7.3116s-1.0895-5.3725-3.0285-7.3116c-1.939-1.939-4.5693-3.0285-7.3116-3.0285s-5.3725 1.0895-7.3116 3.0285c-1.939 1.939-3.0285 4.5693-3.0285 7.3116s1.0895 5.3725 3.0285 7.3116c1.939 1.939 4.5693 3.0285 7.3116 3.0285z\" clip-path=\"url(#p3a4ac63bcf)\" fill=\"#6fa4ff\" stroke=\"#6fa4ff\" stroke-width=\"2\"/><path d=\"m1049.7 194.69h31.348v-29.543h-31.348z\" clip-path=\"url(#p3a4ac63bcf)\" fill=\"#bb8bff\" stroke=\"#bb8bff\" stroke-width=\"1.5\"/><path d=\"m1110.8 138.89c1.1752 0 2.3025-0.46693 3.1335-1.2979 0.83102-0.83102 1.2979-1.9583 1.2979-3.1335s-0.46693-2.3025-1.2979-3.1335c-0.83102-0.83102-1.9583-1.2979-3.1335-1.2979s-2.3025 0.46693-3.1335 1.2979c-0.83102 0.83102-1.2979 1.9583-1.2979 3.1335s0.46693 2.3025 1.2979 3.1335c0.83102 0.83102 1.9583 1.2979 3.1335 1.2979z\" clip-path=\"url(#p3a4ac63bcf)\" fill=\"#6fa4ff\" stroke=\"#6fa4ff\" stroke-width=\"1.5\"/><path d=\"m1110.8 190.25c2.7422 0 5.3725-1.0895 7.3116-3.0285 1.939-1.939 3.0285-4.5693 3.0285-7.3116s-1.0895-5.3725-3.0285-7.3116c-1.939-1.939-4.5693-3.0285-7.3116-3.0285s-5.3725 1.0895-7.3116 3.0285c-1.939 1.939-3.0285 4.5693-3.0285 7.3116s1.0895 5.3725 3.0285 7.3116c1.939 1.939 4.5693 3.0285 7.3116 3.0285z\" clip-path=\"url(#p3a4ac63bcf)\" fill=\"#6fa4ff\" stroke=\"#6fa4ff\" stroke-width=\"2\"/><path d=\"m1141.5 194.69h29.543v-29.543h-29.543z\" clip-path=\"url(#p3a4ac63bcf)\" fill=\"#bb8bff\" stroke=\"#bb8bff\" stroke-width=\"1.5\"/><path d=\"m1201.7 93.443c1.1752 0 2.3025-0.46693 3.1335-1.2979 0.83102-0.83102 1.2979-1.9583 1.2979-3.1335s-0.46693-2.3025-1.2979-3.1335c-0.83102-0.83102-1.9583-1.2979-3.1335-1.2979s-2.3025 0.46693-3.1335 1.2979c-0.83102 0.83102-1.2979 1.9583-1.2979 3.1335s0.46693 2.3025 1.2979 3.1335c0.83102 0.83102 1.9583 1.2979 3.1335 1.2979z\" clip-path=\"url(#p3a4ac63bcf)\" fill=\"#6fa4ff\" stroke=\"#6fa4ff\" stroke-width=\"1.5\"/><path d=\"m1201.7 190.25c2.7422 0 5.3725-1.0895 7.3116-3.0285 1.939-1.939 3.0285-4.5693 3.0285-7.3116s-1.0895-5.3725-3.0285-7.3116c-1.939-1.939-4.5693-3.0285-7.3116-3.0285s-5.3725 1.0895-7.3116 3.0285c-1.939 1.939-3.0285 4.5693-3.0285 7.3116s1.0895 5.3725 3.0285 7.3116c1.939 1.939 4.5693 3.0285 7.3116 3.0285z\" clip-path=\"url(#p3a4ac63bcf)\" fill=\"#6fa4ff\" stroke=\"#6fa4ff\" stroke-width=\"2\"/><path d=\"m1232.4 194.69h29.543v-29.543h-29.543z\" clip-path=\"url(#p3a4ac63bcf)\" fill=\"#bb8bff\" stroke=\"#bb8bff\" stroke-width=\"1.5\"/><path d=\"m1323.3 58.332h29.543v-29.543h-29.543z\" clip-path=\"url(#p3a4ac63bcf)\" stroke=\"#000000\" stroke-width=\"1.5\"/><path d=\"m1348.4 47.992c0-2.7413-1.0901-5.3732-3.0285-7.3116-1.9384-1.9384-4.5702-3.0285-7.3116-3.0285s-5.3732 1.0901-7.3116 3.0285-3.0285 4.5702-3.0285 7.3116\" clip-path=\"url(#p3a4ac63bcf)\" fill=\"none\" stroke=\"#ffffff\" stroke-width=\"2\"/><path d=\"m1368.8 103.78h29.543v-29.543h-29.543z\" clip-path=\"url(#p3a4ac63bcf)\" stroke=\"#000000\" stroke-width=\"1.5\"/><path d=\"m1393.9 93.443c0-2.7413-1.0901-5.3732-3.0285-7.3116-1.9384-1.9384-4.5702-3.0285-7.3116-3.0285s-5.3732 1.0901-7.3116 3.0285-3.0285 4.5702-3.0285 7.3116\" clip-path=\"url(#p3a4ac63bcf)\" fill=\"none\" stroke=\"#ffffff\" stroke-width=\"2\"/><path d=\"m1414.2 149.23h29.543v-29.543h-29.543z\" clip-path=\"url(#p3a4ac63bcf)\" stroke=\"#000000\" stroke-width=\"1.5\"/><path d=\"m1439.3 138.89c0-2.7413-1.0901-5.3732-3.0285-7.3116-1.9384-1.9384-4.5702-3.0285-7.3116-3.0285s-5.3732 1.0901-7.3116 3.0285-3.0285 4.5702-3.0285 7.3116\" clip-path=\"url(#p3a4ac63bcf)\" fill=\"none\" stroke=\"#ffffff\" stroke-width=\"2\"/><path d=\"m1459.7 194.69h29.543v-29.543h-29.543z\" clip-path=\"url(#p3a4ac63bcf)\" stroke=\"#000000\" stroke-width=\"1.5\"/><path d=\"m1484.8 184.35c0-2.7413-1.0901-5.3732-3.0285-7.3116-1.9384-1.9384-4.5702-3.0285-7.3116-3.0285s-5.3732 1.0901-7.3116 3.0285-3.0285 4.5702-3.0285 7.3116\" clip-path=\"url(#p3a4ac63bcf)\" fill=\"none\" stroke=\"#ffffff\" stroke-width=\"2\"/><path d=\"m1338.1 47.992 10.34-10.34\" clip-path=\"url(#p3a4ac63bcf)\" fill=\"none\" stroke=\"#ffffff\" stroke-linecap=\"square\" stroke-width=\"2\"/><path d=\"m1383.5 93.443 10.34-10.34\" clip-path=\"url(#p3a4ac63bcf)\" fill=\"none\" stroke=\"#ffffff\" stroke-linecap=\"square\" stroke-width=\"2\"/><path d=\"m1429 138.89 10.34-10.34\" clip-path=\"url(#p3a4ac63bcf)\" fill=\"none\" stroke=\"#ffffff\" stroke-linecap=\"square\" stroke-width=\"2\"/><path d=\"m1474.4 184.35 10.34-10.34\" clip-path=\"url(#p3a4ac63bcf)\" fill=\"none\" stroke=\"#ffffff\" stroke-linecap=\"square\" stroke-width=\"2\"/><path d=\"m292.7 49.469v-11.817\" clip-path=\"url(#p3a4ac63bcf)\" fill=\"none\" stroke=\"#ffffff\" stroke-linecap=\"square\" stroke-width=\"2\"/><path d=\"m286.79 43.561h11.817\" clip-path=\"url(#p3a4ac63bcf)\" fill=\"none\" stroke=\"#ffffff\" stroke-linecap=\"square\" stroke-width=\"2\"/><path d=\"m383.6 49.469v-11.817\" clip-path=\"url(#p3a4ac63bcf)\" fill=\"none\" stroke=\"#ffffff\" stroke-linecap=\"square\" stroke-width=\"2\"/><path d=\"m377.69 43.561h11.817\" clip-path=\"url(#p3a4ac63bcf)\" fill=\"none\" stroke=\"#ffffff\" stroke-linecap=\"square\" stroke-width=\"2\"/><path d=\"m565.41 49.469v-11.817\" clip-path=\"url(#p3a4ac63bcf)\" fill=\"none\" stroke=\"#ffffff\" stroke-linecap=\"square\" stroke-width=\"2\"/><path d=\"m559.5 43.561h11.817\" clip-path=\"url(#p3a4ac63bcf)\" fill=\"none\" stroke=\"#ffffff\" stroke-linecap=\"square\" stroke-width=\"2\"/><path d=\"m656.31 49.469v-11.817\" clip-path=\"url(#p3a4ac63bcf)\" fill=\"none\" stroke=\"#ffffff\" stroke-linecap=\"square\" stroke-width=\"2\"/><path d=\"m650.4 43.561h11.817\" clip-path=\"url(#p3a4ac63bcf)\" fill=\"none\" stroke=\"#ffffff\" stroke-linecap=\"square\" stroke-width=\"2\"/><path d=\"m792.66 140.37v-11.817\" clip-path=\"url(#p3a4ac63bcf)\" fill=\"none\" stroke=\"#ffffff\" stroke-linecap=\"square\" stroke-width=\"2\"/><path d=\"m786.75 134.46h11.817\" clip-path=\"url(#p3a4ac63bcf)\" fill=\"none\" stroke=\"#ffffff\" stroke-linecap=\"square\" stroke-width=\"2\"/><path d=\"m883.56 140.37v-11.817\" clip-path=\"url(#p3a4ac63bcf)\" fill=\"none\" stroke=\"#ffffff\" stroke-linecap=\"square\" stroke-width=\"2\"/><path d=\"m877.66 134.46h11.817\" clip-path=\"url(#p3a4ac63bcf)\" fill=\"none\" stroke=\"#ffffff\" stroke-linecap=\"square\" stroke-width=\"2\"/><path d=\"m929.01 185.82v-11.817\" clip-path=\"url(#p3a4ac63bcf)\" fill=\"none\" stroke=\"#ffffff\" stroke-linecap=\"square\" stroke-width=\"2\"/><path d=\"m923.11 179.91h11.817\" clip-path=\"url(#p3a4ac63bcf)\" fill=\"none\" stroke=\"#ffffff\" stroke-linecap=\"square\" stroke-width=\"2\"/><path d=\"m1019.9 185.82v-11.817\" clip-path=\"url(#p3a4ac63bcf)\" fill=\"none\" stroke=\"#ffffff\" stroke-linecap=\"square\" stroke-width=\"2\"/><path d=\"m1014 179.91h11.817\" clip-path=\"url(#p3a4ac63bcf)\" fill=\"none\" stroke=\"#ffffff\" stroke-linecap=\"square\" stroke-width=\"2\"/><path d=\"m1110.8 185.82v-11.817\" clip-path=\"url(#p3a4ac63bcf)\" fill=\"none\" stroke=\"#ffffff\" stroke-linecap=\"square\" stroke-width=\"2\"/><path d=\"m1104.9 179.91h11.817\" clip-path=\"url(#p3a4ac63bcf)\" fill=\"none\" stroke=\"#ffffff\" stroke-linecap=\"square\" stroke-width=\"2\"/><path d=\"m1201.7 185.82v-11.817\" clip-path=\"url(#p3a4ac63bcf)\" fill=\"none\" stroke=\"#ffffff\" stroke-linecap=\"square\" stroke-width=\"2\"/><path d=\"m1195.8 179.91h11.817\" clip-path=\"url(#p3a4ac63bcf)\" fill=\"none\" stroke=\"#ffffff\" stroke-linecap=\"square\" stroke-width=\"2\"/><path d=\"m1292.6 20.835v45.451\" clip-path=\"url(#p3a4ac63bcf)\" fill=\"none\" stroke=\"#000000\" stroke-dasharray=\"3.7,1.6\"/><path d=\"m1292.6 66.286v45.451\" clip-path=\"url(#p3a4ac63bcf)\" fill=\"none\" stroke=\"#000000\" stroke-dasharray=\"3.7,1.6\"/><path d=\"m1292.6 111.74v45.451\" clip-path=\"url(#p3a4ac63bcf)\" fill=\"none\" stroke=\"#000000\" stroke-dasharray=\"3.7,1.6\"/><path d=\"m1292.6 157.19v45.451\" clip-path=\"url(#p3a4ac63bcf)\" fill=\"none\" stroke=\"#000000\" stroke-dasharray=\"3.7,1.6\"/><g clip-path=\"url(#p3a4ac63bcf)\"><defs><path id=\"DejaVuSans-82\" d=\"m44.391 34.188q3.1719-1.0781 6.1719-4.5938t6.0312-9.6719l10.016-19.922h-10.609l-9.3125 18.703q-3.625 7.3281-7.0156 9.7188t-9.25 2.3906h-10.75v-30.812h-9.8594v72.906h22.266q12.5 0 18.656-5.2344 6.1562-5.2188 6.1562-15.766 0-6.8906-3.2031-11.438-3.2031-4.5312-9.2969-6.2812zm-24.719 30.609v-25.875h12.406q7.125 0 10.766 3.2969t3.6406 9.6875-3.6406 9.6406-10.766 3.25z\"/><path id=\"DejaVuSans-89\" d=\"m-0.20312 72.906h10.609l20.203-29.984 20.078 29.984h10.594l-25.781-38.188v-34.719h-9.9062v34.719z\"/></defs><g transform=\"translate(103.36 42.717) scale(.13 -.13)\"><use transform=\"translate(0 .09375)\" xlink:href=\"#DejaVuSans-82\"/><use transform=\"translate(70.439 -16.312) scale(.7)\" xlink:href=\"#DejaVuSans-89\"/></g></g><g clip-path=\"url(#p3a4ac63bcf)\"><defs><path id=\"DejaVuSans-48\" d=\"m31.781 66.406q-7.6094 0-11.453-7.5-3.8281-7.4844-3.8281-22.531 0-14.984 3.8281-22.484 3.8438-7.5 11.453-7.5 7.6719 0 11.5 7.5 3.8438 7.5 3.8438 22.484 0 15.047-3.8438 22.531-3.8281 7.5-11.5 7.5zm0 7.8125q12.266 0 18.734-9.7031 6.4688-9.6875 6.4688-28.141 0-18.406-6.4688-28.109-6.4688-9.6875-18.734-9.6875-12.25 0-18.719 9.6875-6.4688 9.7031-6.4688 28.109 0 18.453 6.4688 28.141 6.4688 9.7031 18.719 9.7031z\"/></defs><g transform=\"translate(108.35 54.631) scale(.08 -.08)\"><use xlink:href=\"#DejaVuSans-48\"/></g></g><g clip-path=\"url(#p3a4ac63bcf)\"><defs><path id=\"DejaVuSans-72\" d=\"m9.8125 72.906h9.8594v-29.891h35.844v29.891h9.8594v-72.906h-9.8594v34.719h-35.844v-34.719h-9.8594z\"/></defs><g transform=\"translate(106.01 92.599) scale(.13 -.13)\"><use xlink:href=\"#DejaVuSans-72\"/></g></g><g clip-path=\"url(#p3a4ac63bcf)\"><g transform=\"translate(106.01 138.05) scale(.13 -.13)\"><use xlink:href=\"#DejaVuSans-72\"/></g></g><g clip-path=\"url(#p3a4ac63bcf)\"><defs><path id=\"DejaVuSans-80\" d=\"m19.672 64.797v-27.391h12.406q6.8906 0 10.641 3.5625 3.7656 3.5625 3.7656 10.156 0 6.5469-3.7656 10.109-3.75 3.5625-10.641 3.5625zm-9.8594 8.1094h22.266q12.266 0 18.531-5.5469 6.2812-5.5469 6.2812-16.234 0-10.797-6.2812-16.312-6.2656-5.5156-18.531-5.5156h-12.406v-29.297h-9.8594z\"/></defs><g transform=\"translate(175.15 88.168) scale(.13 -.13)\"><use xlink:href=\"#DejaVuSans-80\"/></g></g><g clip-path=\"url(#p3a4ac63bcf)\"><defs><path id=\"DejaVuSans-50\" d=\"m19.188 8.2969h34.422v-8.2969h-46.281v8.2969q5.6094 5.8125 15.297 15.594 9.7031 9.7969 12.188 12.641 4.7344 5.3125 6.6094 9 1.8906 3.6875 1.8906 7.25 0 5.8125-4.0781 9.4688-4.0781 3.6719-10.625 3.6719-4.6406 0-9.7969-1.6094-5.1406-1.6094-11-4.8906v9.9688q5.9531 2.3906 11.125 3.6094 5.1875 1.2188 9.4844 1.2188 11.328 0 18.062-5.6719 6.7344-5.6562 6.7344-15.125 0-4.5-1.6875-8.5312-1.6719-4.0156-6.125-9.4844-1.2188-1.4219-7.7656-8.1875-6.5312-6.7656-18.453-18.922z\"/></defs><g transform=\"translate(176.53 100.08) scale(.08 -.08)\"><use xlink:href=\"#DejaVuSans-50\"/></g></g><g clip-path=\"url(#p3a4ac63bcf)\"><g transform=\"translate(175.15 133.62) scale(.13 -.13)\"><use xlink:href=\"#DejaVuSans-80\"/></g></g><g clip-path=\"url(#p3a4ac63bcf)\"><defs><path id=\"DejaVuSans-52\" d=\"m37.797 64.312-24.906-38.922h24.906zm-2.5938 8.5938h12.406v-47.516h10.406v-8.2031h-10.406v-17.188h-9.8125v17.188h-32.906v9.5156z\"/></defs><g transform=\"translate(176.53 145.53) scale(.08 -.08)\"><use xlink:href=\"#DejaVuSans-52\"/></g></g><g clip-path=\"url(#p3a4ac63bcf)\"><defs><path id=\"DejaVuSans-85\" d=\"m8.6875 72.906h9.9219v-44.297q0-11.719 4.2344-16.875 4.25-5.1406 13.781-5.1406 9.4688 0 13.719 5.1406 4.25 5.1562 4.25 16.875v44.297h9.9062v-45.516q0-14.25-7.0625-21.531-7.0469-7.2812-20.812-7.2812-13.828 0-20.891 7.2812-7.0469 7.2812-7.0469 21.531z\"/></defs><g transform=\"translate(174.32 42.717) scale(.13 -.13)\"><use xlink:href=\"#DejaVuSans-85\"/></g></g><g clip-path=\"url(#p3a4ac63bcf)\"><defs><path id=\"DejaVuSans-8722\" d=\"m10.594 35.5h62.594v-8.2969h-62.594z\"/><path id=\"DejaVuSans-46\" d=\"m10.688 12.406h10.312v-12.406h-10.312z\"/><path id=\"DejaVuSans-54\" d=\"m33.016 40.375q-6.6406 0-10.531-4.5469-3.875-4.5312-3.875-12.438 0-7.8594 3.875-12.438 3.8906-4.5625 10.531-4.5625t10.516 4.5625q3.875 4.5781 3.875 12.438 0 7.9062-3.875 12.438-3.875 4.5469-10.516 4.5469zm19.578 30.922v-8.9844q-3.7188 1.75-7.5 2.6719-3.7812 0.9375-7.5 0.9375-9.7656 0-14.922-6.5938-5.1406-6.5938-5.875-19.922 2.875 4.25 7.2188 6.5156 4.3594 2.2656 9.5781 2.2656 10.984 0 17.359-6.6719 6.375-6.6562 6.375-18.125 0-11.234-6.6406-18.031-6.6406-6.7812-17.672-6.7812-12.656 0-19.344 9.6875-6.6875 9.7031-6.6875 28.109 0 17.281 8.2031 27.562t22.016 10.281q3.7188 0 7.5-0.73438t7.8906-2.1875z\"/><path id=\"DejaVuSans-55\" d=\"m8.2031 72.906h46.875v-4.2031l-26.469-68.703h-10.297l24.906 64.594h-35.016z\"/><path id=\"DejaVuSans-44\" d=\"m11.719 12.406h10.297v-8.4062l-8-15.625h-6.2969l4 15.625z\"/><path id=\"DejaVuSans-Oblique-960\" d=\"m9.125 54.688h52.406l-1.7656-8.9844h-6.8906l-6.5312-33.594q-0.6875-3.5156 0.23438-5.0781 0.89062-1.5156 3.5625-1.5156 0.73438 0 1.8125 0.15625 1.125 0.09375 1.4688 0.14062l-1.2656-6.5q-1.8125-0.625-3.6719-0.92188-1.9062-0.29688-3.7031-0.29688-5.8594 0-7.4688 3.1719-1.625 3.2344 0.046875 11.828l6.3438 32.609h-20.172l-8.875-45.703h-9.1875l8.8906 45.703h-6.9844z\"/><path id=\"DejaVuSans-47\" d=\"m25.391 72.906h8.2969l-25.391-82.188h-8.2969z\"/></defs><g transform=\"translate(143.51 54.631) scale(.08 -.08)\"><use transform=\"translate(0 .78125)\" xlink:href=\"#DejaVuSans-8722\"/><use transform=\"translate(83.789 .78125)\" xlink:href=\"#DejaVuSans-48\"/><use transform=\"translate(147.41 .78125)\" xlink:href=\"#DejaVuSans-46\"/><use transform=\"translate(179.2 .78125)\" xlink:href=\"#DejaVuSans-54\"/><use transform=\"translate(242.82 .78125)\" xlink:href=\"#DejaVuSans-54\"/><use transform=\"translate(306.45 .78125)\" xlink:href=\"#DejaVuSans-55\"/><use transform=\"translate(370.07 .78125)\" xlink:href=\"#DejaVuSans-44\"/><use transform=\"translate(401.86 .78125)\" xlink:href=\"#DejaVuSans-32\"/><use transform=\"translate(433.64 .78125)\" xlink:href=\"#DejaVuSans-8722\"/><use transform=\"translate(517.43 .78125)\" xlink:href=\"#DejaVuSans-Oblique-960\"/><use transform=\"translate(577.64 .78125)\" xlink:href=\"#DejaVuSans-47\"/><use transform=\"translate(607.7 .78125)\" xlink:href=\"#DejaVuSans-50\"/><use transform=\"translate(671.33 .78125)\" xlink:href=\"#DejaVuSans-44\"/><use transform=\"translate(703.11 .78125)\" xlink:href=\"#DejaVuSans-32\"/><use transform=\"translate(734.9 .78125)\" xlink:href=\"#DejaVuSans-Oblique-960\"/><use transform=\"translate(795.11 .78125)\" xlink:href=\"#DejaVuSans-47\"/><use transform=\"translate(825.17 .78125)\" xlink:href=\"#DejaVuSans-50\"/></g></g><g clip-path=\"url(#p3a4ac63bcf)\"><g transform=\"translate(243.33 42.717) scale(.13 -.13)\"><use xlink:href=\"#DejaVuSans-80\"/></g></g><g clip-path=\"url(#p3a4ac63bcf)\"><g transform=\"translate(241.09 54.631) scale(.08 -.08)\"><use transform=\"translate(0 .78125)\" xlink:href=\"#DejaVuSans-Oblique-960\"/><use transform=\"translate(60.205 .78125)\" xlink:href=\"#DejaVuSans-47\"/><use transform=\"translate(90.271 .78125)\" xlink:href=\"#DejaVuSans-50\"/></g></g><g clip-path=\"url(#p3a4ac63bcf)\"><g transform=\"translate(330.61 42.717) scale(.13 -.13)\"><use transform=\"translate(0 .09375)\" xlink:href=\"#DejaVuSans-82\"/><use transform=\"translate(70.439 -16.312) scale(.7)\" xlink:href=\"#DejaVuSans-89\"/></g></g><g clip-path=\"url(#p3a4ac63bcf)\"><g transform=\"translate(323.31 54.631) scale(.08 -.08)\"><use transform=\"translate(0 .78125)\" xlink:href=\"#DejaVuSans-8722\"/><use transform=\"translate(83.789 .78125)\" xlink:href=\"#DejaVuSans-48\"/><use transform=\"translate(147.41 .78125)\" xlink:href=\"#DejaVuSans-46\"/><use transform=\"translate(179.2 .78125)\" xlink:href=\"#DejaVuSans-54\"/><use transform=\"translate(242.82 .78125)\" xlink:href=\"#DejaVuSans-54\"/><use transform=\"translate(306.45 .78125)\" xlink:href=\"#DejaVuSans-55\"/></g></g><g clip-path=\"url(#p3a4ac63bcf)\"><g transform=\"translate(421.51 42.717) scale(.13 -.13)\"><use transform=\"translate(0 .09375)\" xlink:href=\"#DejaVuSans-82\"/><use transform=\"translate(70.439 -16.312) scale(.7)\" xlink:href=\"#DejaVuSans-89\"/></g></g><g clip-path=\"url(#p3a4ac63bcf)\"><g transform=\"translate(417.6 54.631) scale(.08 -.08)\"><use xlink:href=\"#DejaVuSans-48\"/><use x=\"63.623047\" xlink:href=\"#DejaVuSans-46\"/><use x=\"95.410156\" xlink:href=\"#DejaVuSans-54\"/><use x=\"159.033203\" xlink:href=\"#DejaVuSans-54\"/><use x=\"222.65625\" xlink:href=\"#DejaVuSans-55\"/></g></g><g clip-path=\"url(#p3a4ac63bcf)\"><g transform=\"translate(470.59 42.717) scale(.13 -.13)\"><use xlink:href=\"#DejaVuSans-80\"/></g></g><g clip-path=\"url(#p3a4ac63bcf)\"><defs><path id=\"DejaVuSans-51\" d=\"m40.578 39.312q7.0781-1.5156 11.047-6.3125 3.9844-4.7812 3.9844-11.812 0-10.781-7.4219-16.703-7.4219-5.9062-21.094-5.9062-4.5781 0-9.4375 0.90625t-10.031 2.7188v9.5156q4.0938-2.3906 8.9688-3.6094 4.8906-1.2188 10.219-1.2188 9.2656 0 14.125 3.6562t4.8594 10.641q0 6.4531-4.5156 10.078-4.5156 3.6406-12.562 3.6406h-8.5v8.1094h8.8906q7.2656 0 11.125 2.9062t3.8594 8.375q0 5.6094-3.9844 8.6094-3.9688 3.0156-11.391 3.0156-4.0625 0-8.7031-0.89062-4.6406-0.875-10.203-2.7188v8.7812q5.625 1.5625 10.531 2.3438t9.25 0.78125q11.234 0 17.766-5.1094 6.5469-5.0938 6.5469-13.781 0-6.0625-3.4688-10.234t-9.8594-5.7812z\"/></defs><g transform=\"translate(465.78 54.631) scale(.08 -.08)\"><use transform=\"translate(0 .78125)\" xlink:href=\"#DejaVuSans-51\"/><use transform=\"translate(63.623 .78125)\" xlink:href=\"#DejaVuSans-Oblique-960\"/><use transform=\"translate(123.83 .78125)\" xlink:href=\"#DejaVuSans-47\"/><use transform=\"translate(153.89 .78125)\" xlink:href=\"#DejaVuSans-50\"/></g></g><g clip-path=\"url(#p3a4ac63bcf)\"><g transform=\"translate(516.04 42.717) scale(.13 -.13)\"><use xlink:href=\"#DejaVuSans-80\"/></g></g><g clip-path=\"url(#p3a4ac63bcf)\"><g transform=\"translate(513.8 54.631) scale(.08 -.08)\"><use transform=\"translate(0 .78125)\" xlink:href=\"#DejaVuSans-Oblique-960\"/><use transform=\"translate(60.205 .78125)\" xlink:href=\"#DejaVuSans-47\"/><use transform=\"translate(90.271 .78125)\" xlink:href=\"#DejaVuSans-50\"/></g></g><g clip-path=\"url(#p3a4ac63bcf)\"><g transform=\"translate(603.32 42.717) scale(.13 -.13)\"><use transform=\"translate(0 .09375)\" xlink:href=\"#DejaVuSans-82\"/><use transform=\"translate(70.439 -16.312) scale(.7)\" xlink:href=\"#DejaVuSans-89\"/></g></g><g clip-path=\"url(#p3a4ac63bcf)\"><defs><path id=\"DejaVuSans-49\" d=\"m12.406 8.2969h16.109v55.625l-17.531-3.5156v8.9844l17.438 3.5156h9.8594v-64.609h16.109v-8.2969h-41.984z\"/></defs><g transform=\"translate(598.58 54.631) scale(.08 -.08)\"><use transform=\"translate(0 .78125)\" xlink:href=\"#DejaVuSans-8722\"/><use transform=\"translate(83.789 .78125)\" xlink:href=\"#DejaVuSans-49\"/><use transform=\"translate(147.41 .78125)\" xlink:href=\"#DejaVuSans-46\"/><use transform=\"translate(179.2 .78125)\" xlink:href=\"#DejaVuSans-51\"/><use transform=\"translate(242.82 .78125)\" xlink:href=\"#DejaVuSans-51\"/></g></g><g clip-path=\"url(#p3a4ac63bcf)\"><g transform=\"translate(694.22 42.717) scale(.13 -.13)\"><use transform=\"translate(0 .09375)\" xlink:href=\"#DejaVuSans-82\"/><use transform=\"translate(70.439 -16.312) scale(.7)\" xlink:href=\"#DejaVuSans-89\"/></g></g><g clip-path=\"url(#p3a4ac63bcf)\"><g transform=\"translate(692.85 54.631) scale(.08 -.08)\"><use xlink:href=\"#DejaVuSans-49\"/><use x=\"63.623047\" xlink:href=\"#DejaVuSans-46\"/><use x=\"95.410156\" xlink:href=\"#DejaVuSans-51\"/><use x=\"159.033203\" xlink:href=\"#DejaVuSans-51\"/></g></g><g clip-path=\"url(#p3a4ac63bcf)\"><g transform=\"translate(696.87 138.05) scale(.13 -.13)\"><use xlink:href=\"#DejaVuSans-72\"/></g></g><g clip-path=\"url(#p3a4ac63bcf)\"><g transform=\"translate(743.29 42.717) scale(.13 -.13)\"><use xlink:href=\"#DejaVuSans-80\"/></g></g><g clip-path=\"url(#p3a4ac63bcf)\"><g transform=\"translate(738.49 54.631) scale(.08 -.08)\"><use transform=\"translate(0 .78125)\" xlink:href=\"#DejaVuSans-51\"/><use transform=\"translate(63.623 .78125)\" xlink:href=\"#DejaVuSans-Oblique-960\"/><use transform=\"translate(123.83 .78125)\" xlink:href=\"#DejaVuSans-47\"/><use transform=\"translate(153.89 .78125)\" xlink:href=\"#DejaVuSans-50\"/></g></g><g clip-path=\"url(#p3a4ac63bcf)\"><defs><path id=\"DejaVuSans-90\" d=\"m5.6094 72.906h57.281v-7.5312l-46.094-57.078h47.219v-8.2969h-59.516v7.5156l46.094 57.078h-44.984z\"/></defs><g transform=\"translate(739.28 133.62) scale(.13 -.13)\"><use transform=\"translate(0 .09375)\" xlink:href=\"#DejaVuSans-82\"/><use transform=\"translate(70.439 -16.312) scale(.7)\" xlink:href=\"#DejaVuSans-90\"/></g></g><g clip-path=\"url(#p3a4ac63bcf)\"><g transform=\"translate(737.53 145.53) scale(.08 -.08)\"><use transform=\"translate(0 .09375)\" xlink:href=\"#DejaVuSans-8722\"/><use transform=\"translate(83.789 .09375)\" xlink:href=\"#DejaVuSans-Oblique-960\"/><use transform=\"translate(143.99 .09375)\" xlink:href=\"#DejaVuSans-47\"/><use transform=\"translate(177.69 .09375)\" xlink:href=\"#DejaVuSans-52\"/></g></g><g clip-path=\"url(#p3a4ac63bcf)\"><g transform=\"translate(830.18 133.62) scale(.13 -.13)\"><use transform=\"translate(0 .09375)\" xlink:href=\"#DejaVuSans-82\"/><use transform=\"translate(70.439 -16.312) scale(.7)\" xlink:href=\"#DejaVuSans-90\"/></g></g><g clip-path=\"url(#p3a4ac63bcf)\"><g transform=\"translate(831.79 145.53) scale(.08 -.08)\"><use transform=\"translate(0 .09375)\" xlink:href=\"#DejaVuSans-Oblique-960\"/><use transform=\"translate(60.205 .09375)\" xlink:href=\"#DejaVuSans-47\"/><use transform=\"translate(93.896 .09375)\" xlink:href=\"#DejaVuSans-52\"/></g></g><g clip-path=\"url(#p3a4ac63bcf)\"><g transform=\"translate(921.08 88.168) scale(.13 -.13)\"><use transform=\"translate(0 .09375)\" xlink:href=\"#DejaVuSans-82\"/><use transform=\"translate(70.439 -16.312) scale(.7)\" xlink:href=\"#DejaVuSans-90\"/></g></g><g clip-path=\"url(#p3a4ac63bcf)\"><g transform=\"translate(919.33 100.08) scale(.08 -.08)\"><use transform=\"translate(0 .09375)\" xlink:href=\"#DejaVuSans-8722\"/><use transform=\"translate(83.789 .09375)\" xlink:href=\"#DejaVuSans-Oblique-960\"/><use transform=\"translate(143.99 .09375)\" xlink:href=\"#DejaVuSans-47\"/><use transform=\"translate(177.69 .09375)\" xlink:href=\"#DejaVuSans-52\"/></g></g><g clip-path=\"url(#p3a4ac63bcf)\"><g transform=\"translate(969.58 92.599) scale(.13 -.13)\"><use xlink:href=\"#DejaVuSans-72\"/></g></g><g clip-path=\"url(#p3a4ac63bcf)\"><g transform=\"translate(966.93 179.07) scale(.13 -.13)\"><use transform=\"translate(0 .09375)\" xlink:href=\"#DejaVuSans-82\"/><use transform=\"translate(70.439 -16.312) scale(.7)\" xlink:href=\"#DejaVuSans-89\"/></g></g><g clip-path=\"url(#p3a4ac63bcf)\"><defs><path id=\"DejaVuSans-57\" d=\"m10.984 1.5156v8.9844q3.7188-1.7656 7.5156-2.6875 3.8125-0.92188 7.4844-0.92188 9.7656 0 14.906 6.5625 5.1562 6.5625 5.8906 19.953-2.8281-4.2031-7.1875-6.4531-4.3438-2.25-9.6094-2.25-10.938 0-17.312 6.6094-6.375 6.625-6.375 18.109 0 11.219 6.6406 18 6.6406 6.7969 17.672 6.7969 12.656 0 19.312-9.7031 6.6719-9.6875 6.6719-28.141 0-17.234-8.1875-27.516-8.1719-10.281-21.984-10.281-3.7188 0-7.5312 0.73438-3.7969 0.73438-7.9062 2.2031zm19.625 30.906q6.6406 0 10.516 4.5312 3.8906 4.5469 3.8906 12.469 0 7.8594-3.8906 12.422-3.875 4.5625-10.516 4.5625t-10.516-4.5625-3.875-12.422q0-7.9219 3.875-12.469 3.875-4.5312 10.516-4.5312z\"/></defs><g transform=\"translate(959.63 190.98) scale(.08 -.08)\"><use transform=\"translate(0 .78125)\" xlink:href=\"#DejaVuSans-8722\"/><use transform=\"translate(83.789 .78125)\" xlink:href=\"#DejaVuSans-48\"/><use transform=\"translate(147.41 .78125)\" xlink:href=\"#DejaVuSans-46\"/><use transform=\"translate(179.2 .78125)\" xlink:href=\"#DejaVuSans-54\"/><use transform=\"translate(242.82 .78125)\" xlink:href=\"#DejaVuSans-57\"/><use transform=\"translate(306.45 .78125)\" xlink:href=\"#DejaVuSans-52\"/></g></g><g clip-path=\"url(#p3a4ac63bcf)\"><g transform=\"translate(1057.8 179.07) scale(.13 -.13)\"><use transform=\"translate(0 .09375)\" xlink:href=\"#DejaVuSans-82\"/><use transform=\"translate(70.439 -16.312) scale(.7)\" xlink:href=\"#DejaVuSans-89\"/></g></g><g clip-path=\"url(#p3a4ac63bcf)\"><defs><path id=\"DejaVuSans-56\" d=\"m31.781 34.625q-7.0312 0-11.062-3.7656-4.0156-3.7656-4.0156-10.344 0-6.5938 4.0156-10.359 4.0312-3.7656 11.062-3.7656t11.078 3.7812q4.0625 3.7969 4.0625 10.344 0 6.5781-4.0312 10.344-4.0156 3.7656-11.109 3.7656zm-9.8594 4.1875q-6.3438 1.5625-9.8906 5.9062-3.5312 4.3594-3.5312 10.609 0 8.7344 6.2188 13.812 6.2344 5.0781 17.062 5.0781 10.891 0 17.094-5.0781t6.2031-13.812q0-6.25-3.5469-10.609-3.5312-4.3438-9.8281-5.9062 7.125-1.6562 11.094-6.5 3.9844-4.8281 3.9844-11.797 0-10.609-6.4688-16.281-6.4688-5.6562-18.531-5.6562-12.047 0-18.531 5.6562-6.4688 5.6719-6.4688 16.281 0 6.9688 4 11.797 4.0156 4.8438 11.141 6.5zm-3.6094 15.578q0-5.6562 3.5312-8.8281 3.5469-3.1719 9.9375-3.1719 6.3594 0 9.9375 3.1719 3.5938 3.1719 3.5938 8.8281 0 5.6719-3.5938 8.8438-3.5781 3.1719-9.9375 3.1719-6.3906 0-9.9375-3.1719-3.5312-3.1719-3.5312-8.8438z\"/></defs><g transform=\"translate(1050.7 190.98) scale(.08 -.08)\"><use transform=\"translate(0 .78125)\" xlink:href=\"#DejaVuSans-8722\"/><use transform=\"translate(83.789 .78125)\" xlink:href=\"#DejaVuSans-48\"/><use transform=\"translate(147.41 .78125)\" xlink:href=\"#DejaVuSans-46\"/><use transform=\"translate(176.57 .78125)\" xlink:href=\"#DejaVuSans-56\"/><use transform=\"translate(240.2 .78125)\" xlink:href=\"#DejaVuSans-55\"/><use transform=\"translate(302.07 .78125)\" xlink:href=\"#DejaVuSans-55\"/></g></g><g clip-path=\"url(#p3a4ac63bcf)\"><g transform=\"translate(1148.7 179.07) scale(.13 -.13)\"><use transform=\"translate(0 .09375)\" xlink:href=\"#DejaVuSans-82\"/><use transform=\"translate(70.439 -16.312) scale(.7)\" xlink:href=\"#DejaVuSans-89\"/></g></g><g clip-path=\"url(#p3a4ac63bcf)\"><defs><path id=\"DejaVuSans-53\" d=\"m10.797 72.906h38.719v-8.3125h-29.688v-17.859q2.1406 0.73438 4.2812 1.0938 2.1562 0.35938 4.3125 0.35938 12.203 0 19.328-6.6875 7.1406-6.6875 7.1406-18.109 0-11.766-7.3281-18.297-7.3281-6.5156-20.656-6.5156-4.5938 0-9.3594 0.78125-4.75 0.78125-9.8281 2.3438v9.9219q4.3906-2.3906 9.0781-3.5625t9.9062-1.1719q8.4531 0 13.375 4.4375 4.9375 4.4375 4.9375 12.062 0 7.6094-4.9375 12.047-4.9219 4.4531-13.375 4.4531-3.9531 0-7.8906-0.875-3.9219-0.875-8.0156-2.7344z\"/></defs><g transform=\"translate(1144.8 190.98) scale(.08 -.08)\"><use xlink:href=\"#DejaVuSans-48\"/><use x=\"63.623047\" xlink:href=\"#DejaVuSans-46\"/><use x=\"95.410156\" xlink:href=\"#DejaVuSans-51\"/><use x=\"159.033203\" xlink:href=\"#DejaVuSans-53\"/><use x=\"222.65625\" xlink:href=\"#DejaVuSans-52\"/></g></g><g clip-path=\"url(#p3a4ac63bcf)\"><g transform=\"translate(1239.6 179.07) scale(.13 -.13)\"><use transform=\"translate(0 .09375)\" xlink:href=\"#DejaVuSans-82\"/><use transform=\"translate(70.439 -16.312) scale(.7)\" xlink:href=\"#DejaVuSans-89\"/></g></g><g clip-path=\"url(#p3a4ac63bcf)\"><g transform=\"translate(1238.3 190.98) scale(.08 -.08)\"><use xlink:href=\"#DejaVuSans-49\"/><use x=\"63.623047\" xlink:href=\"#DejaVuSans-46\"/><use x=\"95.410156\" xlink:href=\"#DejaVuSans-50\"/><use x=\"159.033203\" xlink:href=\"#DejaVuSans-50\"/></g></g><g clip-path=\"url(#p3a4ac63bcf)\"><g transform=\"translate(1349.4 218.66) scale(.104 -.104)\"><use xlink:href=\"#DejaVuSans-48\"/></g></g><g clip-path=\"url(#p3a4ac63bcf)\"><g transform=\"translate(1394.9 218.66) scale(.104 -.104)\"><use xlink:href=\"#DejaVuSans-49\"/></g></g><g clip-path=\"url(#p3a4ac63bcf)\"><g transform=\"translate(1440.3 218.66) scale(.104 -.104)\"><use xlink:href=\"#DejaVuSans-50\"/></g></g><g clip-path=\"url(#p3a4ac63bcf)\"><g transform=\"translate(1485.8 218.66) scale(.104 -.104)\"><use xlink:href=\"#DejaVuSans-51\"/></g></g><g clip-path=\"url(#p3a4ac63bcf)\"><defs><path id=\"DejaVuSans-Oblique-113\" d=\"m41.703 8.2031q-3.6094-4.7344-8.5312-7.1875-4.9062-2.4375-10.859-2.4375-8.2969 0-13.016 5.5938-4.7031 5.5938-4.7031 15.406 0 7.9062 2.9062 15.281t8.3281 13.234q3.5156 3.8125 8.0781 5.8594t9.5938 2.0469q6.0469 0 9.9531-2.3906t5.6719-7.2188l1.5625 8.2031h9.0312l-14.594-75.203h-9.0469zm-27.781 12.703q0-7.2344 3.0156-11.016 3.0312-3.7812 8.75-3.7812 8.5 0 14.5 8.125t6 19.75q0 7.0312-3.1094 10.766-3.0938 3.7344-8.8906 3.7344-4.25 0-7.875-1.9844-3.6094-1.9688-6.2969-5.7812-2.8281-4-4.4688-9.375-1.625-5.3594-1.625-10.438z\"/></defs><g transform=\"translate(38.425 48.012) scale(.1625 -.1625)\"><use transform=\"translate(0 .78125)\" xlink:href=\"#DejaVuSans-Oblique-113\"/><use transform=\"translate(63.477 .78125)\" xlink:href=\"#DejaVuSans-49\"/><use transform=\"translate(127.1 .78125)\" xlink:href=\"#DejaVuSans-54\"/><use transform=\"translate(191.68 -15.625) scale(.7)\" xlink:href=\"#DejaVuSans-48\"/></g></g><g clip-path=\"url(#p3a4ac63bcf)\"><g transform=\"translate(38.425 93.463) scale(.1625 -.1625)\"><use transform=\"translate(0 .78125)\" xlink:href=\"#DejaVuSans-Oblique-113\"/><use transform=\"translate(63.477 .78125)\" xlink:href=\"#DejaVuSans-49\"/><use transform=\"translate(127.1 .78125)\" xlink:href=\"#DejaVuSans-54\"/><use transform=\"translate(191.68 -15.625) scale(.7)\" xlink:href=\"#DejaVuSans-49\"/></g></g><g clip-path=\"url(#p3a4ac63bcf)\"><g transform=\"translate(38.425 138.91) scale(.1625 -.1625)\"><use transform=\"translate(0 .78125)\" xlink:href=\"#DejaVuSans-Oblique-113\"/><use transform=\"translate(63.477 .78125)\" xlink:href=\"#DejaVuSans-49\"/><use transform=\"translate(127.1 .78125)\" xlink:href=\"#DejaVuSans-54\"/><use transform=\"translate(191.68 -15.625) scale(.7)\" xlink:href=\"#DejaVuSans-50\"/></g></g><g clip-path=\"url(#p3a4ac63bcf)\"><g transform=\"translate(38.425 184.36) scale(.1625 -.1625)\"><use transform=\"translate(0 .78125)\" xlink:href=\"#DejaVuSans-Oblique-113\"/><use transform=\"translate(63.477 .78125)\" xlink:href=\"#DejaVuSans-49\"/><use transform=\"translate(127.1 .78125)\" xlink:href=\"#DejaVuSans-54\"/><use transform=\"translate(191.68 -15.625) scale(.7)\" xlink:href=\"#DejaVuSans-51\"/></g></g><g clip-path=\"url(#p3a4ac63bcf)\"><g transform=\"translate(90.898 218.66) scale(.104 -.104)\"><use xlink:href=\"#DejaVuSans-52\"/></g></g><g clip-path=\"url(#p3a4ac63bcf)\"><defs><path id=\"DejaVuSans-109\" d=\"m52 44.188q3.375 6.0625 8.0625 8.9375t11.031 2.875q8.5469 0 13.188-5.9844 4.6406-5.9688 4.6406-17v-33.016h-9.0312v32.719q0 7.8594-2.7969 11.656-2.7812 3.8125-8.4844 3.8125-6.9844 0-11.047-4.6406-4.0469-4.625-4.0469-12.641v-30.906h-9.0312v32.719q0 7.9062-2.7812 11.688t-8.5938 3.7812q-6.8906 0-10.953-4.6562-4.0469-4.6562-4.0469-12.625v-30.906h-9.0312v54.688h9.0312v-8.5q3.0781 5.0312 7.375 7.4219t10.203 2.3906q5.9688 0 10.141-3.0312 4.1719-3.0156 6.1719-8.7812z\"/><path id=\"DejaVuSans-101\" d=\"m56.203 29.594v-4.3906h-41.312q0.59375-9.2812 5.5938-14.141t13.938-4.8594q5.1719 0 10.031 1.2656t9.6562 3.8125v-8.5q-4.8438-2.0469-9.9219-3.125t-10.297-1.0781q-13.094 0-20.734 7.6094-7.6406 7.625-7.6406 20.625 0 13.422 7.25 21.297 7.25 7.8906 19.562 7.8906 11.031 0 17.453-7.1094 6.4219-7.0938 6.4219-19.297zm-8.9844 2.6406q-0.09375 7.3594-4.125 11.75-4.0312 4.4062-10.672 4.4062-7.5156 0-12.031-4.25t-5.2031-11.969z\"/><path id=\"DejaVuSans-97\" d=\"m34.281 27.484q-10.891 0-15.094-2.4844t-4.2031-8.5q0-4.7812 3.1562-7.5938 3.1562-2.7969 8.5625-2.7969 7.4844 0 12 5.2969t4.5156 14.078v2zm17.922 3.7188v-31.203h-8.9844v8.2969q-3.0781-4.9688-7.6719-7.3438t-11.234-2.375q-8.3906 0-13.359 4.7188-4.9531 4.7188-4.9531 12.625 0 9.2188 6.1719 13.906 6.1875 4.6875 18.438 4.6875h12.609v0.89062q0 6.2031-4.0781 9.5938t-11.453 3.3906q-4.6875 0-9.1406-1.125-4.4375-1.125-8.5312-3.375v8.3125q4.9219 1.9062 9.5625 2.8438 4.6406 0.95312 9.0312 0.95312 11.875 0 17.734-6.1562 5.8594-6.1406 5.8594-18.641z\"/><path id=\"DejaVuSans-115\" d=\"m44.281 53.078v-8.5q-3.7969 1.9531-7.9062 2.9219-4.0938 0.98438-8.5 0.98438-6.6875 0-10.031-2.0469t-3.3438-6.1562q0-3.125 2.3906-4.9062t9.625-3.3906l3.0781-0.6875q9.5625-2.0469 13.594-5.7812t4.0312-10.422q0-7.625-6.0312-12.078-6.0312-4.4375-16.578-4.4375-4.3906 0-9.1562 0.85938t-10.031 2.5625v9.2812q4.9844-2.5938 9.8125-3.8906 4.8281-1.2812 9.5781-1.2812 6.3438 0 9.75 2.1719 3.4219 2.1719 3.4219 6.125 0 3.6562-2.4688 5.6094-2.4531 1.9531-10.812 3.7656l-3.125 0.73438q-8.3438 1.75-12.062 5.3906-3.7031 3.6406-3.7031 9.9844 0 7.7188 5.4688 11.906 5.4688 4.2031 15.531 4.2031 4.9688 0 9.3594-0.73438 4.4062-0.71875 8.1094-2.1875z\"/></defs><g transform=\"translate(33.012 229.85) scale(.1625 -.1625)\"><use xlink:href=\"#DejaVuSans-109\"/><use x=\"97.412109\" xlink:href=\"#DejaVuSans-101\"/><use x=\"158.935547\" xlink:href=\"#DejaVuSans-97\"/><use x=\"220.214844\" xlink:href=\"#DejaVuSans-115\"/></g></g><defs><clipPath id=\"p3a4ac63bcf\"><rect x=\"7.2\" y=\"7.2\" width=\"1497.2\" height=\"245.44\"/></clipPath></defs></svg>"
      ],
      "text/plain": [
       "<Figure size 1983.08x325.08 with 1 Axes>"
      ]
     },
     "execution_count": 8,
     "metadata": {},
     "output_type": "execute_result"
    }
   ],
   "source": [
    "from qiskit import QuantumRegister, QuantumCircuit\n",
    "import numpy as np\n",
    "\n",
    "t = 2  # This is not optimal; As an exercise, set this to the\n",
    "       # value that will get the best results. See section 8 for solution.\n",
    "\n",
    "nqubits = 4  # Total number of qubits\n",
    "nb = 1  # Number of qubits representing the solution\n",
    "nl = 2  # Number of qubits representing the eigenvalues\n",
    "\n",
    "theta = 0  # Angle defining |b>\n",
    "\n",
    "a = 1  # Matrix diagonal\n",
    "b = -1/3  # Matrix off-diagonal\n",
    "\n",
    "# Initialise the quantum and classical registers\n",
    "qr = QuantumRegister(nqubits)\n",
    "\n",
    "# Create a Quantum Circuit\n",
    "qc = QuantumCircuit(qr)\n",
    "\n",
    "qrb = qr[0:nb]\n",
    "qrl = qr[nb:nb+nl]\n",
    "qra = qr[nb+nl:nb+nl+1]\n",
    "\n",
    "# State preparation. \n",
    "qc.ry(2*theta, qrb[0])\n",
    "    \n",
    "# QPE with e^{iAt}\n",
    "for qu in qrl:\n",
    "    qc.h(qu)\n",
    "\n",
    "qc.p(a*t, qrl[0])\n",
    "qc.p(a*t*2, qrl[1])\n",
    "\n",
    "qc.u(b*t, -np.pi/2, np.pi/2, qrb[0])\n",
    "\n",
    "\n",
    "# Controlled e^{iAt} on \\lambda_{1}:\n",
    "params=b*t\n",
    "\n",
    "qc.p(np.pi/2,qrb[0])\n",
    "qc.cx(qrl[0],qrb[0])\n",
    "qc.ry(params,qrb[0])\n",
    "qc.cx(qrl[0],qrb[0])\n",
    "qc.ry(-params,qrb[0])\n",
    "qc.p(3*np.pi/2,qrb[0])\n",
    "\n",
    "# Controlled e^{2iAt} on \\lambda_{2}:\n",
    "params = b*t*2\n",
    "\n",
    "qc.p(np.pi/2,qrb[0])\n",
    "qc.cx(qrl[1],qrb[0])\n",
    "qc.ry(params,qrb[0])\n",
    "qc.cx(qrl[1],qrb[0])\n",
    "qc.ry(-params,qrb[0])\n",
    "qc.p(3*np.pi/2,qrb[0])\n",
    "\n",
    "# Inverse QFT\n",
    "qc.h(qrl[1])\n",
    "qc.rz(-np.pi/4,qrl[1])\n",
    "qc.cx(qrl[0],qrl[1])\n",
    "qc.rz(np.pi/4,qrl[1])\n",
    "qc.cx(qrl[0],qrl[1])\n",
    "qc.rz(-np.pi/4,qrl[0])\n",
    "qc.h(qrl[0])\n",
    "\n",
    "# Eigenvalue rotation\n",
    "t1=(-np.pi +np.pi/3 - 2*np.arcsin(1/3))/4\n",
    "t2=(-np.pi -np.pi/3 + 2*np.arcsin(1/3))/4\n",
    "t3=(np.pi -np.pi/3 - 2*np.arcsin(1/3))/4\n",
    "t4=(np.pi +np.pi/3 + 2*np.arcsin(1/3))/4\n",
    "\n",
    "qc.cx(qrl[1],qra[0])\n",
    "qc.ry(t1,qra[0])\n",
    "qc.cx(qrl[0],qra[0])\n",
    "qc.ry(t2,qra[0])\n",
    "qc.cx(qrl[1],qra[0])\n",
    "qc.ry(t3,qra[0])\n",
    "qc.cx(qrl[0],qra[0])\n",
    "qc.ry(t4,qra[0])\n",
    "qc.measure_all()\n",
    "\n",
    "print(\"Depth: %i\" % qc.depth())\n",
    "print(\"CNOTS: %i\" % qc.count_ops()['cx'])\n",
    "qc.draw(fold=-1)"
   ]
  },
  {
   "cell_type": "markdown",
   "metadata": {},
   "source": [
    "The code below takes as inputs our circuit, the real hardware backend and the set of qubits we want to use, and returns and instance that can be run on the specified device. Creating the circuits with $3$ and $5$ CNOTs is the same but calling the transpile method with the right quantum circuit.\n",
    "\n",
    "Real hardware devices need to be recalibrated regularly, and the fidelity of a specific qubit or gate can change over time. Furthermore, different chips have different connectivities. If we try to run a circuit that performs a two-qubit gate between two qubits that are not connected on the specified device, the transpiler will add SWAP gates. Therefore it is good practice to check with the IBM Quantum Experience webpage<sup>[[7]](#qexperience)</sup> before running the following code and choose a set of qubits with the right connectivity and lowest error rates at the given time."
   ]
  },
  {
   "cell_type": "code",
   "execution_count": 9,
   "metadata": {
    "tags": [
     "uses-hardware"
    ]
   },
   "outputs": [],
   "source": [
    "from qiskit import execute, BasicAer, ClassicalRegister, IBMQ\n",
    "from qiskit.compiler import transpile\n",
    "from qiskit.ignis.mitigation.measurement import (complete_meas_cal, # Measurement error mitigation functions\n",
    "                                                 CompleteMeasFitter, \n",
    "                                                 MeasurementFilter)\n",
    "\n",
    "provider = IBMQ.load_account()\n",
    "\n",
    "backend = provider.get_backend('ibmqx2') # calibrate using real hardware\n",
    "layout = [2,3,0,4]\n",
    "chip_qubits = 5\n",
    "\n",
    "# Transpiled circuit for the real hardware\n",
    "qc_qa_cx = transpile(qc, backend=backend, initial_layout=layout)"
   ]
  },
  {
   "cell_type": "markdown",
   "metadata": {},
   "source": [
    "The next step is to create the extra circuits used to mitigate the readout errors<sup>[[3]](#readouterr)</sup>."
   ]
  },
  {
   "cell_type": "code",
   "execution_count": null,
   "metadata": {
    "tags": [
     "uses-hardware"
    ]
   },
   "outputs": [],
   "source": [
    "meas_cals, state_labels = complete_meas_cal(qubit_list=layout, qr=QuantumRegister(chip_qubits))\n",
    "qcs = meas_cals + [qc_qa_cx]\n",
    "\n",
    "qobj = assemble(qcs, shots=10)\n",
    "job = backend.run(qobj)"
   ]
  },
  {
   "cell_type": "markdown",
   "metadata": {},
   "source": [
    "The following plot<sup>[[5]](#tridi)</sup>, shows the results from running the circuit above on real hardware for $10$ different initial states. The $x$-axis represents the angle $\\theta$ defining the initial state in each case. The results where obtained after mitigating the readout error and then extrapolating the errors arising during the run of the circuit from the results with the circuits with $1$, $3$ and $5$ CNOTs. \n",
    "\n",
    "<img src=\"images/norm_public.png\">\n",
    "\n",
    "Compare to the results without error mitigation nor extrapolation from the CNOTs<sup>[5](#tridi)</sup>.\n",
    "\n",
    "<img src=\"images/noerrmit_public.png\">"
   ]
  },
  {
   "cell_type": "markdown",
   "metadata": {},
   "source": [
    "## 8. Problems<a id='problems'></a>"
   ]
  },
  {
   "cell_type": "markdown",
   "metadata": {},
   "source": [
    "1. Run the algorithm 'evo_time': $2\\pi(3/8)$. The fidelity should now be $1$.\n",
    "\n",
    "##### Real hardware:\n",
    "\n",
    "1. Set the time parameter for the optimised example.\n",
    "\n",
    "<details>\n",
    "    <summary> Solution (Click to expand)</summary>\n",
    "    t = 2.344915690192344\n",
    "\n",
    "The best result is to set it so that the smallest eigenvalue can be represented exactly, since it's inverse will have the largest contribution in the solution\n",
    "</details>\n",
    "\n",
    "2. Create transpiled circuits for $3$ and $5$ CNOTs from a given circuit 'qc'. When creating the circuits you will have to add barriers so that these consecutive CNOT gates do not get cancelled when using the transpile() method.\n",
    "3. Run your circuits on the real hardware and apply a quadratic fit to the results to obtain the extrapolated value."
   ]
  },
  {
   "cell_type": "markdown",
   "metadata": {},
   "source": [
    "## 9. References<a id='references'></a>"
   ]
  },
  {
   "cell_type": "markdown",
   "metadata": {},
   "source": [
    "1. J. R. Shewchuk. An Introduction to the Conjugate Gradient Method Without the Agonizing Pain. Technical Report CMU-CS-94-125, School of Computer Science, Carnegie Mellon University, Pittsburgh, Pennsylvania, March 1994.<a id='conjgrad'></a> \n",
    "2. A. W. Harrow, A. Hassidim, and S. Lloyd, “Quantum algorithm for linear systems of equations,” Phys. Rev. Lett. 103.15 (2009), p. 150502.<a id='hhl'></a>\n",
    "3. A. Dewes, F. R. Ong, V. Schmitt, R. Lauro, N. Boulant, P. Bertet, D. Vion, and D. Esteve, “Characterization of a two-transmon processor with individual single-shot qubit readout,” Phys. Rev. Lett. 108, 057002 (2012). <a id='readouterr'></a>\n",
    "4. N. Stamatopoulos, D. J. Egger, Y. Sun, C. Zoufal, R. Iten, N. Shen, and S. Woerner, “Option Pricing using Quantum Computers,” arXiv:1905.02666 . <a id='richardson'></a>\n",
    "5. A. Carrera Vazquez, A. Frisch, D. Steenken, H. S. Barowski, R. Hiptmair, and S. Woerner, “Enhancing Quantum Linear System Algorithm by Richardson Extrapolation,” (to be included).<a id='tridi'></a>\n",
    "6. R. Iten, O. Reardon-Smith, L. Mondada, E. Redmond, R. Singh Kohli, R. Colbeck, “Introduction to UniversalQCompiler,” arXiv:1904.01072 .<a id='qcompiler'></a>\n",
    "7. https://quantum-computing.ibm.com/ .<a id='qexperience'></a>\n",
    "8. D. Bucher, J. Mueggenburg, G. Kus, I. Haide, S. Deutschle, H. Barowski, D. Steenken, A. Frisch, \"Qiskit Aqua: Solving linear systems of equations with the HHL algorithm\" https://github.com/Qiskit/qiskit-tutorials/blob/master/legacy_tutorials/aqua/linear_systems_of_equations.ipynb"
   ]
  }
 ],
 "metadata": {
  "kernelspec": {
   "display_name": "Python 3",
   "language": "python",
   "name": "python3"
  },
  "language_info": {
   "codemirror_mode": {
    "name": "ipython",
    "version": 3
   },
   "file_extension": ".py",
   "mimetype": "text/x-python",
   "name": "python",
   "nbconvert_exporter": "python",
   "pygments_lexer": "ipython3",
   "version": "3.9"
  }
 },
 "nbformat": 4,
 "nbformat_minor": 2
}
