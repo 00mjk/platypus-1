{
 "cells": [
  {
   "cell_type": "markdown",
   "metadata": {},
   "source": [
    "# Annotations"
   ]
  },
  {
   "cell_type": "markdown",
   "metadata": {
    "formulas": {
     "cosine": {
      "meaning": "The sine of the angle is equal to the length of the adjacent side, divided by the length of the hypotenuse.",
      "say": "cosine",
      "type": "Trigonomatric function"
     },
     "im": {
      "meaning": "imaginary unit"
     },
     "lnbase": {
      "meaning": "base of the natural logarithm"
     },
     "plusminus": {
      "meaning": "Indicates a choice of exactly two possible values, one of which is obtained through addition and the other through subtraction.",
      "say": "plus minus",
      "type": "Mathematical symbol"
     },
     "sine": {
      "meaning": "The sine of the angle is equal to the length of the opposite side, divided by the length of the hypotenuse.",
      "say": "sine",
      "type": "Trigonomatric function"
     },
     "sq_root": {
      "meaning": "A square root of a number <strong>n</strong> is a number <strong>m</strong> such that <strong>m<sup>2</sup> = n</strong>",
      "say": "square root of b-squared minus 4 a c"
     },
     "sqcoef": {
      "meaning": "The coefficient of the squared term"
     },
     "x": {
      "meaning": "The unknown variable to be solved",
      "type": "Locally defined variable"
     },
     "x_coef": {
      "meaning": "The coefficient of the x term"
     }
    }
   },
   "source": [
    "## Math\n",
    "\n",
    "Try hovering over some the mathematical symbols and variables in the following equation:\n",
    "\n",
    "$$\n",
    "\\cssId{x}{x} = {-\\class{x_coef}{b} \\cssId{plusminus}{\\pm} \\class{sq_root}{\\sqrt{b^2-4ac}} \\over 2\\class{sqcoef}{a}}\n",
    "$$\n",
    "\n",
    "In line equations ( e.g., $\\cssId{lnbase}{e}^{\\class{im}{i}x}=\\class{cosine}{\\cos} x+\\class{im}{i}\\class{sine}{\\sin} x$ ) can also be annotated.\n"
   ]
  },
  {
   "cell_type": "markdown",
   "metadata": {
    "gloss": {
     "amet": {
      "text": "Duis sit amet porttitor mauris. Sed ornare auctor enim, placerat venenatis neque ultricies in.",
      "title": "amet"
     },
     "idsag": {
      "text": "Suspendisse dapibus magna at nibh eleifend commodo. Integer tristique ex ac nisi tincidunt, venenatis feugiat diam faucibus. Sed sem ipsum, dignissim sed rutrum eget, aliquet molestie justo.",
      "title": "id sagittis"
     },
     "vst": {
      "text": "Pellentesque volutpat volutpat fringilla. Duis sit amet porttitor mauris.",
      "title": "Vivamus semper turpis"
     }
    }
   },
   "source": [
    "\n",
    "&nbsp;\n",
    "\n",
    "## Glossary\n",
    "\n",
    "Lorem ipsum dolor sit [amet](gloss:amet), consectetur adipiscing elit. Ut eu tortor sit amet massa vestibulum euismod. [Vivamus semper turpis](gloss:vst) magna, ac malesuada turpis auctor non.\n",
    "\n",
    "Class aptent taciti sociosqu ad litora torquent per conubia nostra, per inceptos himenaeos. Vivamus imperdiet tempus ullamcorper. Nullam a rhoncus tortor, vitae laoreet neque. Etiam libero dolor, imperdiet [id sagittis](gloss:idsag) a, elementum non risus.\n"
   ]
  },
  {
   "cell_type": "code",
   "execution_count": null,
   "metadata": {},
   "outputs": [],
   "source": []
  }
 ],
 "metadata": {
  "celltoolbar": "Edit Metadata",
  "kernelspec": {
   "display_name": "Python 3",
   "language": "python",
   "name": "python3"
  },
  "language_info": {
   "codemirror_mode": {
    "name": "ipython",
    "version": 3
   },
   "file_extension": ".py",
   "mimetype": "text/x-python",
   "name": "python",
   "nbconvert_exporter": "python",
   "pygments_lexer": "ipython3",
   "version": "3.7.0"
  }
 },
 "nbformat": 4,
 "nbformat_minor": 4
}
