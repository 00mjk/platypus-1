{
 "cells": [
  {
   "cell_type": "markdown",
   "id": "a2db1293-4443-4838-a7e1-f0d849e53e93",
   "metadata": {},
   "source": [
    "# Circuit Library"
   ]
  },
  {
   "cell_type": "code",
   "execution_count": null,
   "id": "3ea45396-4860-476a-b41b-631c0da35746",
   "metadata": {},
   "outputs": [],
   "source": [
    "# Qiskit quantum circuits libraries\n",
    "import qiskit\n",
    "\n",
    "quantum_circuit = qiskit.circuit.library.QuantumVolume(5)  #1  #3\n",
    "quantum_circuit.draw()\n"
   ]
  },
  {
   "cell_type": "markdown",
   "id": "d7a229cc-ee1a-4e9b-88ce-e349c7477e5d",
   "metadata": {},
   "source": [
    "# Compiler"
   ]
  },
  {
   "cell_type": "code",
   "execution_count": null,
   "id": "103de18b-8885-4680-b13b-b88652d91d3d",
   "metadata": {},
   "outputs": [],
   "source": [
    "# prepare your circuit to run\n",
    "from qiskit import IBMQ #2\n",
    "\n",
    "provider = IBMQ.load_account()  #3\n",
    "backend = provider.get_backend('ibmq_santiago')  #4\n",
    "\n",
    "optimized_circuit = qiskit.transpile(quantum_circuit, backend)  #5\n",
    "optimized_circuit.draw()\n"
   ]
  },
  {
   "cell_type": "markdown",
   "id": "7792b28e-c903-4bd7-b580-59547f0a1015",
   "metadata": {},
   "source": [
    "# Run on real hardware"
   ]
  },
  {
   "cell_type": "code",
   "execution_count": null,
   "id": "c96b9e75-5c3f-45c3-bfa8-848025460621",
   "metadata": {},
   "outputs": [],
   "source": [
    "# run in real hardware\n",
    "job = backend.run(optimized_circuit)\n",
    "retrieved_job = backend.retrieve_job(job.job_id())\n",
    "result = retrieved_job.result()  #6\n"
   ]
  }
 ],
 "metadata": {
  "kernelspec": {
   "display_name": "Python 3 (ipykernel)",
   "language": "python",
   "name": "python3"
  },
  "language_info": {
   "codemirror_mode": {
    "name": "ipython",
    "version": 3
   },
   "file_extension": ".py",
   "mimetype": "text/x-python",
   "name": "python",
   "nbconvert_exporter": "python",
   "pygments_lexer": "ipython3",
   "version": "3.8.11"
  }
 },
 "nbformat": 4,
 "nbformat_minor": 5
}
