{
 "cells": [
  {
   "cell_type": "markdown",
   "metadata": {
    "tags": [
     "remove_cell"
    ]
   },
   "source": [
    "# Measuring Quantum Volume\n",
    "\n",
    "![hero:quantum volume](images/quantum_volume.png)\n"
   ]
  },
  {
   "cell_type": "markdown",
   "metadata": {
    "gloss": {
     "quantumadvantage": {
      "text": "Quantum advantage is a term used to refer to the ability for a quantum computer to perform computations beyond that which a classical computer can perform.",
      "title": "quantum advantage"
     },
     "transpiler": {
      "text": "A transpiler converts a quantum circuit to run on a particular quantum device. This conversion process may require converting the gates in the circuit to gates supported by the device, and adding swap gates if certain qubits in the device cannot interact with eachother.",
      "title": "transpiler"
     }
    }
   },
   "source": [
    "## Why quantum volume?\n",
    "\n",
    "Comparing different quantum computers is not an easy task. There are many different factors that affect the performance of a quantum computer and it’s not always clear which factors will have the biggest effect when doing useful quantum computations.\n",
    "\n",
    "Say you were designing your quantum computer: Would you trade higher fidelity gates (with less errors) for reduced qubit connectivity (requiring longer circuits)? Maybe you have a great [transpiler](gloss:transpiler) that can organise the swaps so reduced connectivity isn’t as much of an issue, or maybe the readout errors are so high that any improvement in gate fidelity is negligible anyway? We can add each of these statistics to our quantum computer scorecard, but the exact importance of each element is up for debate. Even if we manage to score highly at each individual metric, there could still be other unforeseen problems that arise when running quantum circuits.\n",
    "\n",
    "One thing is certain, we need many qubits and the ability to manipulate them precisely in order to achieve a [quantum advantage](gloss:quantumadvantage). If we don't have enough qubits, we can't do any useful computations, and if these qubits are not precise or reliable enough, then our measurements will be meaningless."
   ]
  },
  {
   "cell_type": "markdown",
   "metadata": {
    "goals": [
     {
      "click": "true",
      "id": "tabclicked2",
      "selector": ".tabs .titles > h3:nth-child(2)"
     },
     {
      "click": "true",
      "id": "tabclicked3",
      "selector": ".tabs .titles > h3:nth-child(3)"
     },
     {
      "click": "true",
      "id": "tabclicked4",
      "selector": ".tabs .titles > h3:nth-child(4)"
     },
     {
      "click": "true",
      "id": "tabclicked5",
      "selector": ".tabs .titles > h3:nth-child(5)"
     }
    ]
   },
   "source": [
    "<!-- ::: q-block.tabs -->\n",
    "\n",
    "## What affects computing power?\n",
    "\n",
    "\n",
    "<!-- ::: tab -->\n",
    "\n",
    "### Qubit count\n",
    "\n",
    "<!-- ::: column(width=350) -->\n",
    "\n",
    "**Number of qubits (more is better)**\n",
    "\n",
    "The number of qubits in our quantum computer sets an upper limit on the power of the computations it can do. To gain advantage over classical computers, we want to be able to entangle as many qubits as possible.\n",
    "\n",
    "<!-- ::: column(width=250) -->\n",
    "\n",
    "<img src=\"images/qubit_count.png\" width=\"195\"/>\n",
    "    \n",
    "<!-- ::: -->\n",
    "\n",
    "<!-- ::: tab -->\n",
    "\n",
    "### Readout errors\n",
    "\n",
    "<!-- ::: column(width=350) -->\n",
    "\n",
    "**Gate and readout errors (less is better)**\n",
    "\n",
    "As mentioned above, the errors in our quantum computer also set an upper limit on the power of our quantum computer. If we can’t reliably manipulate our quantum states, then we’re not going to get meaningful results from our quantum computer.\n",
    "\n",
    "<!-- ::: column(width=250) -->\n",
    "    \n",
    "<img src=\"images/readout_errors.png\" width=\"195\"/>\n",
    "    \n",
    "<!-- ::: -->\n",
    "\n",
    "<!-- ::: tab -->\n",
    "\n",
    "### Connectivity\n",
    "\n",
    "<!-- ::: column(width=350) -->\n",
    "\n",
    "**Qubit-Qubit connectivity (more is better)**\n",
    "\n",
    "If two qubits cannot communicate directly, we need to add extra ‘swap’ gates to move them to the right place, increasing the length of our computation. Quantum volume circuits assume full connectivity, so if you need to insert extra swap gates, that’s on you!\n",
    "\n",
    "<!-- ::: column(width=250) -->\n",
    "\n",
    "<img src=\"images/connectivity.png\" width=\"195\"/>\n",
    "    \n",
    "<!-- ::: -->\n",
    "\n",
    "<!-- ::: tab -->\n",
    "\n",
    "### Gate set\n",
    "\n",
    "<!-- ::: column(width=350) -->\n",
    "\n",
    "**Gate set (larger / more powerful is better)**\n",
    "\n",
    "Quantum volume asks for random two-qubit gates, but working out how to implement them is also on you. If your hardware supports more gates, you’re more likely to get decent results.\n",
    "\n",
    "<!-- ::: column(width=250) -->\n",
    "\n",
    "<img src=\"images/gate_set.png\" width=\"195\"/>\n",
    "    \n",
    "<!-- ::: -->\n",
    "\n",
    "<!-- ::: tab -->\n",
    "\n",
    "### Software stack\n",
    "\n",
    "<!-- ::: column(width=350) -->\n",
    "\n",
    "**Compilers and software stack (more intelligent is better)**\n",
    "    \n",
    "Some of the other problems (inserting extra swap gates, creating the specified gates from your available gate set, and dealing with noise) can be mitigated using intelligent classical software such as the transpiler.\n",
    "\n",
    "<!-- ::: column(width=250) -->\n",
    "\n",
    "<img src=\"images/software_stack.png\" width=\"195\"/>\n",
    "    \n",
    "<!-- ::: -->\n",
    "\n",
    "<!-- ::: -->\n",
    "\n",
    "<!-- ::: -->\n"
   ]
  },
  {
   "cell_type": "markdown",
   "metadata": {},
   "source": [
    "This is where quantum volume comes in. Quantum volume is a _holistic_ benchmark. Instead of looking at the details, we simply measure how good the quantum computer is at doing the thing we want it to do: executing quantum circuits. The quantum volume test creates randomized circuits to a specification, and the ‘score’ of the quantum computer increases with the size of the circuit it can reliably execute.\n",
    "\n",
    "In this chapter, we will learn:\n",
    "\n",
    "1.\tWhat quantum volume is.\n",
    "2.\tHow to create a random square circuit.\n",
    "3.\tHow to see if a device can achieve a certain quantum volume.\n",
    "4.\tHow to use Qiskit’s tools to make this easier for us.\n"
   ]
  },
  {
   "cell_type": "markdown",
   "metadata": {
    "gloss": {
     "depth": {
      "text": "If each gate takes one time step to execute, the depth is the shortest number of timesteps the circuit can be carried out in.",
      "title": "depth"
     },
     "width": {
      "text": "The number of qubits in the circuit.",
      "title": "width"
     }
    }
   },
   "source": [
    "## What is Quantum Volume?\n",
    "\n",
    "Quantum volume (QV) is a single-number metric used to measure the power of a quantum computer. It’s used for near-term devices with a modest number of qubits, and measures the largest random circuit of equal [width](gloss:width) and [depth](gloss:depth) that can be reliably executed.\n"
   ]
  },
  {
   "cell_type": "markdown",
   "metadata": {
    "goals": [
     {
      "id": "wiqv-explored"
     }
    ]
   },
   "source": [
    "<!-- ::: q-block -->\n",
    "\n",
    "## Visual demo\n",
    "\n",
    "\n",
    "    q-what-is-quantum-volume(goal=\"wiqv-explored\")\n",
    "\n",
    "<!-- ::: -->\n"
   ]
  },
  {
   "cell_type": "markdown",
   "metadata": {},
   "source": [
    "## The Quantum Volume Protocol\n",
    "\n",
    "### Overview\n",
    "\n",
    "To perform the quantum volume benchmark, we first create a bunch of circuits of size $d$. We then simulate the circuits and record the most likely outputs for each. We run these same circuits on the device we’re testing and see how regularly the outputs match those we simulated. If the device produces good enough results, we increase d and start over. The quantum volume of the device is 2 to the power of the largest circuit size our device can produce acceptable results for.\n",
    "\n",
    "\n",
    "<div class=\"qv-overview\">\n",
    "\n",
    "<!-- ::: column(width=25) -->\n",
    "\n",
    "## 1.\n",
    "\n",
    "<!-- ::: column(width=100) -->\n",
    "\n",
    "![test](images/overview-1.png)\n",
    "\n",
    "<!-- ::: column.grow -->\n",
    "\n",
    "Create a set of random circuits of width and depth $d$.\n",
    "\n",
    "<!-- ::: -->\n",
    "\n",
    "\n",
    "<!-- ::: column(width=25) -->\n",
    "\n",
    "## 2.\n",
    "\n",
    "<!-- ::: column(width=100) -->\n",
    "\n",
    "![test](images/overview-2.png)\n",
    "\n",
    "<!-- ::: column.grow -->\n",
    "\n",
    "Simulate the circuits and record which outputs are most likely.\n",
    "\n",
    "<!-- ::: -->\n",
    "\n",
    "\n",
    "<!-- ::: column(width=25) -->\n",
    "\n",
    "## 3.\n",
    "\n",
    "<!-- ::: column(width=100) -->\n",
    "\n",
    "![test](images/overview-3.png)\n",
    "\n",
    "<!-- ::: column.grow -->\n",
    "\n",
    "Execute the circuits on the device we’re testing and record the results.\n",
    "\n",
    "<!-- ::: -->\n",
    "\n",
    "\n",
    "<!-- ::: column(width=25) -->\n",
    "\n",
    "## 4.\n",
    "\n",
    "<!-- ::: column(width=100) -->\n",
    "\n",
    "![test](images/overview-4.png)\n",
    "\n",
    "<!-- ::: column.grow -->\n",
    "\n",
    "If the device results are statically close enough to the simulation results, increase $d$ and go to step one. Repeat until failure.\n",
    "\n",
    "<!-- ::: -->\n",
    "\n",
    "\n",
    "<!-- ::: column(width=25) -->\n",
    "\n",
    "## 5.\n",
    "\n",
    "<!-- ::: column(width=100) -->\n",
    "\n",
    "![test](images/overview-5.png)\n",
    "\n",
    "<!-- ::: column.grow -->\n",
    "\n",
    "The quantum volume is $ 2^{d_{\\text{max}}} $, where $d_{\\text{max}}$ is the width and depth of the largest circuit our device can successfully execute.\n",
    "\n",
    "<!-- ::: -->\n",
    "\n",
    "</div>\n",
    "\n"
   ]
  },
  {
   "cell_type": "markdown",
   "metadata": {
    "gloss": {
     "depth": {
      "text": "If each gate takes one time step to execute, the depth is the shortest number of timesteps the circuit can be carried out in.",
      "title": "depth"
     },
     "permutation": {
      "text": "A permutation of a set is an ordering of its elements.",
      "title": "permutation"
     },
     "unitarygates": {
      "text": "A unitary gate is a reversible, quantum operation.",
      "title": "unitary gates"
     },
     "width": {
      "text": "The number of qubits in the circuit.",
      "title": "width"
     }
    }
   },
   "source": [
    "## Square circuits\n",
    "\n",
    "A square circuit is a circuit of equal [width](gloss:width) and [depth](gloss:depth). This roughly approximates the kind of circuits we will want to run on a general-purpose quantum computer, and since the depth and width are equal, they can be defined by a single number.\n",
    "\n",
    "We know we can build our quantum algorithms with quantum circuits using a polynomial number of two-qubit [unitary gates](gloss:unitarygates). The model we choose has layers of random [permutations](gloss:permutation) of the qubit labels, followed by randomly specified two-qubits gates. When we have an odd number of qubits, one of the qubits is idle in each layer.\n",
    "\n",
    "These random circuits more closely approximate the circuits found in near term quantum algorithms than the circuits found in some of the more traditional algorithms.\n"
   ]
  },
  {
   "cell_type": "markdown",
   "metadata": {},
   "source": [
    "<!-- ::: q-block -->\n",
    "\n",
    "## Square circuit demo\n",
    "\n",
    "### Layers and Unitaries\n",
    "\n",
    "Click on any of the layers to see examples of gates inside of each layer. Each layer affects each qubit exactly once, and all the unitary gates in a layer can be executed in parallel (assuming the device has full qubit connectivity).\n",
    "\n",
    "    q-layers-circuit\n",
    "    \n",
    "<!--\n",
    "    div(data-vue-mount)\n",
    "        layers-circuit(layers=3 lines=3 :gates-inspection=\"[ [{ q1: 0, q2: 1 }, { q1: 1, q2: 2 }],[{ q1: 0, q2: 1 }, { q1: 0, q2: 1 }],[{ q1: 1, q2: 2 }, { q1: 0, q2: 1 }] ]\")\n",
    "-->\n",
    "\n",
    "<!-- ![vue:layers-circuit](images/layers_unitary.png) -->\n",
    "\n",
    "<!-- ::: -->\n"
   ]
  },
  {
   "cell_type": "markdown",
   "metadata": {},
   "source": [
    "### Creating a square circuit\n",
    "\n",
    "To start, let’s have a go at creating our own random, square circuit. The first thing we need to do is decide which qubits our circuit is going to act on. When measuring quantum volume, we can choose whichever qubits on our device we think will give us the best results. Here I’m choosing the first five qubits of an imaginary device. This means our circuit’s depth and width will both be five.\n"
   ]
  },
  {
   "cell_type": "code",
   "execution_count": 1,
   "metadata": {},
   "outputs": [],
   "source": [
    "qubit_list = [0,1,2,3,4]\n",
    "size = len(qubit_list)  # size == width == depth"
   ]
  },
  {
   "cell_type": "markdown",
   "metadata": {},
   "source": [
    "Next, we need a way to create our random 2-qubit gates. Qiskit provides a tool, <code>random_unitary</code> that creates a random $n\\times n$ unitary operator for us. This function could generate any unitary, two-qubit operation possible."
   ]
  },
  {
   "cell_type": "code",
   "execution_count": 2,
   "metadata": {},
   "outputs": [
    {
     "data": {
      "text/plain": [
       "Operator([[-0.73426653+0.10498446j, -0.12671176-0.06267677j,\n",
       "           -0.13710815+0.52363587j, -0.19031515+0.31722809j],\n",
       "          [ 0.02436125+0.48759612j,  0.22682648-0.31477994j,\n",
       "           -0.05027627-0.28586189j, -0.72334464-0.06039616j],\n",
       "          [-0.1600812 -0.22543267j, -0.11862436-0.80984307j,\n",
       "            0.45684032-0.12095707j,  0.17406821-0.00177469j],\n",
       "          [-0.08410943+0.35772504j,  0.20366853-0.3436287j ,\n",
       "           -0.62898301-0.06171539j,  0.53235804-0.15021101j]],\n",
       "         input_dims=(2, 2), output_dims=(2, 2))"
      ]
     },
     "execution_count": 2,
     "metadata": {},
     "output_type": "execute_result"
    }
   ],
   "source": [
    "from qiskit.quantum_info import random_unitary\n",
    "random_unitary(4)"
   ]
  },
  {
   "cell_type": "markdown",
   "metadata": {},
   "source": [
    "We can use this to create a single layer of our random, square circuit:"
   ]
  },
  {
   "cell_type": "code",
   "execution_count": 3,
   "metadata": {},
   "outputs": [
    {
     "data": {
      "image/png": "[encoded data removed]",
      "text/plain": [
       "<Figure size 206.997x325.08 with 1 Axes>"
      ]
     },
     "execution_count": 3,
     "metadata": {},
     "output_type": "execute_result"
    }
   ],
   "source": [
    "from qiskit import QuantumCircuit\n",
    "\n",
    "qv_layer = QuantumCircuit(size)\n",
    "for pair in range(size//2):  # number of pairs is size/2\n",
    "    qubit_indices = qubit_list[pair*2:pair*2+2]\n",
    "    gate = random_unitary(4)\n",
    "    qv_layer.append(gate, qubit_indices)\n",
    "\n",
    "qv_layer.draw()"
   ]
  },
  {
   "cell_type": "markdown",
   "metadata": {},
   "source": [
    "Now we can create a layer from a list of qubits, all we need to do is randomly change the order of the qubits and repeat. Python has a built-in function to shuffle lists (note that this works ‘in place’, so the data `qubit_lists` refers to will change)."
   ]
  },
  {
   "cell_type": "code",
   "execution_count": 4,
   "metadata": {},
   "outputs": [
    {
     "data": {
      "text/plain": [
       "[4, 1, 2, 3, 0]"
      ]
     },
     "execution_count": 4,
     "metadata": {},
     "output_type": "execute_result"
    }
   ],
   "source": [
    "from random import shuffle\n",
    "shuffle(qubit_list)\n",
    "qubit_list"
   ]
  },
  {
   "cell_type": "markdown",
   "metadata": {},
   "source": [
    "<!-- ::: q-block.exercise -->\n",
    "\n",
    "## Exercise\n",
    "    \n",
    "Create a function, <code>random_square_circuit(n)</code> that takes an integer <code>n</code>, and returns a random <code>QuantumCircuit</code> with width and depth <code>n</code>, that could be used in a quantum volume experiment. You may use the code shown above in your solution.\n",
    "\n",
    "[Try in IBM Quantum Lab](https://quantum-computing.ibm.com/lab)\n",
    "\n",
    "<!-- ::: -->\n"
   ]
  },
  {
   "cell_type": "markdown",
   "metadata": {},
   "source": [
    "Qiskit also provides a function, <code>qv_circuits</code>, to create these circuits for us. We pass some lists of qubit indices, and an integer which tells <code>qv_circuits</code> how many random, square circuits we’d like to generate for each list of qubits. Here we’re going to give five different combinations of qubits, which will allow us to test up to a quantum volume of 64.\n",
    "\n",
    "The function, <code>qv_circuits</code>, returns two lists of quantum circuits, both identical except the first set of circuits all have measurements at the end, whereas the second set do not. The set including measurements is to be executed on hardware, while the other is for use with simulators."
   ]
  },
  {
   "cell_type": "code",
   "execution_count": 5,
   "metadata": {},
   "outputs": [],
   "source": [
    "from qiskit.ignis.verification.quantum_volume import qv_circuits\n",
    "qubit_lists = [[0,1],          # Qubits used to test QV 4\n",
    "               [0,1,2],        # QV 8\n",
    "               [0,1,2,3],      # QV 16\n",
    "               [0,1,2,3,4],    # QV 32\n",
    "               [0,1,2,3,4,5]]  # QV 64\n",
    "ntrials = 100  # number of circuits to generate for each qubit list\n",
    "qv_qc_list, qv_qc_list_nomeas = qv_circuits(qubit_lists, ntrials)"
   ]
  },
  {
   "cell_type": "markdown",
   "metadata": {},
   "source": [
    "Here is an example of a circuit created by <code>qv_circuits</code>. Note the circuits are organised by trial, then by qubit lists, so here we are seeing the 0th circuit generated for the 2nd entry in <code>qubit_lists</code>."
   ]
  },
  {
   "cell_type": "code",
   "execution_count": 6,
   "metadata": {},
   "outputs": [
    {
     "data": {
      "image/png": "[encoded data removed]",
      "text/plain": [
       "<Figure size 1049.8x264.88 with 1 Axes>"
      ]
     },
     "execution_count": 6,
     "metadata": {},
     "output_type": "execute_result"
    }
   ],
   "source": [
    "qv_qc_list_nomeas[0][2].decompose().draw()  # .decompose() unrolls the circuit one level"
   ]
  },
  {
   "cell_type": "markdown",
   "metadata": {},
   "source": [
    "## Running the circuit\n",
    "\n",
    "So how do we know if the quantum circuit is being executed correctly? The quantum volume protocol is run on a perfect simulator as well as the quantum device we’re testing. We can then compare the simulated results (what the quantum computer _should_ do) to the experimental results (what the quantum computer _actually does_).\n",
    "\n",
    "![qv circuit](images/qv_device_v_sim.png)"
   ]
  },
  {
   "cell_type": "markdown",
   "metadata": {},
   "source": [
    "## What would an ideal quantum computer do?\n",
    "\n",
    "Each circuit has an ideal output distribution. The ideal output distribution is the results we’d see if we ran the circuit on a perfect quantum computer as the number of shots approaches infinity. We calculated this for each circuit using the statevector simulator above. Let’s look at the ideal output distribution for the first five-qubit circuit:\n"
   ]
  },
  {
   "cell_type": "code",
   "execution_count": 7,
   "metadata": {},
   "outputs": [
    {
     "data": {
      "image/png": "[encoded data removed]",
      "text/plain": [
       "<Figure size 504x360 with 1 Axes>"
      ]
     },
     "execution_count": 7,
     "metadata": {},
     "output_type": "execute_result"
    }
   ],
   "source": [
    "from qiskit import Aer, execute\n",
    "from qiskit.visualization import plot_histogram\n",
    "sv_simulator = Aer.get_backend('statevector_simulator')\n",
    "\n",
    "trial = 0\n",
    "qubit_list_idx = 3\n",
    "qc = qv_qc_list_nomeas[trial][qubit_list_idx]\n",
    "counts = execute(qc, sv_simulator).result().get_counts()\n",
    "plot_histogram(counts)"
   ]
  },
  {
   "cell_type": "markdown",
   "metadata": {},
   "source": [
    "The _heavy outputs_ of a circuit are defined as outputs with probability of occurring greater than the median probability. For any circuit, half the possible outputs are heavy outputs.\n",
    "\n",
    "![computational basis state](images/qv_heavy_outputs.svg)\n"
   ]
  },
  {
   "cell_type": "markdown",
   "metadata": {},
   "source": [
    "Below is a function, <code>get_heavy_outputs</code>, that extracts the heavy outputs from an experiment’s counts:\n"
   ]
  },
  {
   "cell_type": "code",
   "execution_count": 8,
   "metadata": {},
   "outputs": [
    {
     "name": "stdout",
     "output_type": "stream",
     "text": [
      "['01101', '00111', '01000', '10011', '11011', '01011', '10010', '01100', '00110', '10101', '00001', '01111', '00101', '10000', '11000', '10001']\n"
     ]
    }
   ],
   "source": [
    "def get_heavy_outputs(counts):\n",
    "    \"\"\"Extract heavy outputs from counts dict.\n",
    "    Args:\n",
    "        counts (dict): Output of `.get_counts()`\n",
    "    Returns:\n",
    "        list: All states with measurement probability greater than the mean.\n",
    "    \"\"\"\n",
    "    # sort the keys of `counts` by value of counts.get(key)\n",
    "    sorted_counts = sorted(counts.keys(), key=counts.get)\n",
    "    # discard results with probability < median\n",
    "    heavy_outputs = sorted_counts[len(sorted_counts)//2:]\n",
    "    return heavy_outputs\n",
    "\n",
    "print(get_heavy_outputs(counts))"
   ]
  },
  {
   "cell_type": "markdown",
   "metadata": {
    "formulas": {
     "qv_nc": {
      "meaning": "The number of different circuits",
      "say": "N S",
      "type": "Locally defined variable"
     },
     "qv_ncns": {
      "meaning": "Number of unique circuits multiplied by the number of shots for each circuit.",
      "say": "N C N S",
      "type": "Locally defined variable"
     },
     "qv_nh": {
      "meaning": "The total number of heavy output measured.",
      "say": "N H",
      "type": "Locally defined variable"
     },
     "qv_nhnc": {
      "meaning": "The number of heavy outputs measured divided by the number of unique circuits.",
      "say": "NH over NC",
      "type": "Locally defined variable"
     },
     "qv_ns": {
      "meaning": "The number of times we run each circuit.",
      "say": "N S",
      "type": "Locally defined variable"
     },
     "qv_z": {
      "meaning": "Sets the threshold",
      "say": "Z test",
      "type": "Universally used notation"
     }
    }
   },
   "source": [
    "We run each circuit on our device and record the number of outputs that are heavy outputs. \n",
    "To pass the heavy output test, we want the probability of measuring a heavy output to be greater than two-thirds. I.e. over a large enough number of circuits we have:\n",
    "\n",
    "$$\\frac{\\class{qv_nh}{n_h}}{\\class{qv_nc}{n_c}\\class{qv_ns}{n_s}}\\gt{\\frac{2}{3}}$$\n",
    "\n",
    "Where $n_h$ is the number of heavy outputs measured, $n_c$ is the number of circuits we created, and $n_s$ is the number of times we run each circuit (shots). But how do we decide what a “large enough” number of experiments is? Firstly, quantum volume requires at least 100 circuits are run, otherwise the test is invalid. Secondly, an adjusted threshold is used to ensure approximately 97% confidence:\n",
    "\n",
    "$$\\frac{\\class{qv_nh}{n_h} -\\cssId{qv_z}{z}\\sqrt{\\class{qv_nh}{n_h}(\\class{qv_ns}{n_s}-\\cssId{qv_nhnc}{\\frac{n_h}{n_c}})}}{\\class{qv_nc}{n_c}\\class{qv_ns}{n_s}}\\gt\\frac{2}{3}$$\n",
    "\n",
    "Adding the new term (enclosed in the square root) requires a greater heavy output probability to satisfy the inequality, or a greater number of runs. Since the new term grows more slowly than the other terms, for a large number of runs this inequality resembles the simpler one shown above. If a quantum volume test satisfies the above inequality, there is at least a 97% chance the heavy output probability is greater than 2/3.\n",
    "\n",
    "Below is a function (<code>check_threshold</code>) that evaluates this inequality:\n"
   ]
  },
  {
   "cell_type": "code",
   "execution_count": 9,
   "metadata": {},
   "outputs": [],
   "source": [
    "def check_threshold(nheavies, ncircuits, nshots):\n",
    "    \"\"\"Evaluate adjusted threshold inequality for quantum volume.\n",
    "    Args:\n",
    "        nheavies (int): Total number of heavy outputs measured from device\n",
    "        ncircuits (int): Number of different square circuits run on device\n",
    "        nshots (int): Number of shots per circuit\n",
    "    Returns:\n",
    "        Bool:\n",
    "            True if heavy output probability is > 2/3 with 97% certainty, otherwise False\n",
    "    \"\"\"\n",
    "    from numpy import sqrt\n",
    "    numerator = nheavies - 2*sqrt(nheavies*(nshots-(nheavies/ncircuits)))\n",
    "    if numerator/(ncircuits*nshots) > 2/3:\n",
    "        return True\n",
    "    else:\n",
    "        return False"
   ]
  },
  {
   "cell_type": "markdown",
   "metadata": {},
   "source": [
    "<!-- ::: q-block.exercise -->\n",
    "\n",
    "## Exercise\n",
    "    \n",
    "We now have everything we need to check if a quantum device can achieve a specific quantum volume. Below are the steps of an algorithm that checks if a device can achieve a specific quantum volume, try to order them correctly.\n",
    "\n",
    "Algorithm to test if algorithm passes a quantum volume test.\n",
    "    Inputs: <code>d, nc > 100, ns</code>\n",
    "\n",
    "\n",
    "    q-drag-and-drop-code\n",
    "        .line Let nh = 0\n",
    "        .line For nc repetitions do:\n",
    "            .line Let U be a randomly generated d×d quantum circuit\n",
    "            .line Let Hu be a list of U’s heavy outputs\n",
    "            .line For ns repetitions do:\n",
    "                .line Let x be the result of executing U on the device\n",
    "                .line If x is in Hu:\n",
    "                    .line Increase nh by 1\n",
    "        .result-info.md Return evaluation of $\\phantom{a}\\frac{n_h {-} z\\sqrt{n_h({n_s}-{\\frac{n_h}{n_c}})}}{n_cn_s}\\gt\\frac{2}{3}$\n",
    "\n",
    "<!-- ::: -->\n"
   ]
  },
  {
   "cell_type": "markdown",
   "metadata": {},
   "source": [
    "Here is the algorithm as Qiskit code:"
   ]
  },
  {
   "cell_type": "code",
   "execution_count": 10,
   "metadata": {},
   "outputs": [],
   "source": [
    "from qiskit.ignis.verification.quantum_volume import qv_circuits\n",
    "def test_qv(device, qubits, ncircuits, nshots):\n",
    "    \"\"\"Try to achieve 2**len(qubits) quantum volume on device.\n",
    "    Args:\n",
    "        device (qiskit.providers.Backend): Device to test.\n",
    "        qubits (list(int)): List of qubits to use for test.\n",
    "        ncircuits (int): Number of unique circuits to generate (should be >100).\n",
    "        nshots (int): Number of shots per circuit.\n",
    "    Returns:\n",
    "        Bool\n",
    "            True if device passes test, otherwise False.\n",
    "    \"\"\"\n",
    "    # generate set of random circuits\n",
    "    qv_qc, qv_qc_nomeas = qv_circuits([qubits], ncircuits)\n",
    "    nheavies = 0  # number of measured heavy outputs\n",
    "    for circuit in range(ncircuits):\n",
    "        # simulate circuit\n",
    "        sim_result = execute(qv_qc_nomeas[circuit], backend=sv_simulator).result()\n",
    "        # get heavy outputs from simulated results\n",
    "        simulated_heavy_outputs = get_heavy_outputs(sim_result.get_counts())\n",
    "        # run circuit on device\n",
    "        device_result = execute(qv_qc[circuit],\n",
    "                                backend=device,\n",
    "                                shots=nshots,\n",
    "                                memory=True,\n",
    "                                optimization_level=3).result()\n",
    "        # record whether device result is in the heavy outputs\n",
    "        for output in device_result.get_memory():\n",
    "            if output in simulated_heavy_outputs:\n",
    "                nheavies += 1\n",
    "    \n",
    "    hop = nheavies/(ncircuits * nshots)  # heavy output probability\n",
    "    # do statistical check to see if device passes test\n",
    "    is_pass = check_threshold(nheavies, ncircuits, nshots)\n",
    "    \n",
    "    print(f\"Quantum Volume: {2**len(qubits)}\\n\"\n",
    "          f\"Heavy Output Probability: {hop}\\n\"\n",
    "          f\"Passed?: {is_pass}\\n\")\n",
    "    return is_pass"
   ]
  },
  {
   "cell_type": "markdown",
   "metadata": {
    "gloss": {
     "santiago": {
      "text": "IBM names its quantum systems after cities. Here we are using a simulator that mimics IBM Quantum's Santiago device.",
      "title": "santiago"
     }
    }
   },
   "source": [
    "And an example of using this to see if a simulated [Santiago](gloss:santiago) device can achieve quantum volume 16:"
   ]
  },
  {
   "cell_type": "code",
   "execution_count": 11,
   "metadata": {},
   "outputs": [
    {
     "name": "stdout",
     "output_type": "stream",
     "text": [
      "Quantum Volume: 16\n",
      "Heavy Output Probability: 0.7661333333333333\n",
      "Passed?: True\n",
      "\n"
     ]
    },
    {
     "data": {
      "text/plain": [
       "True"
      ]
     },
     "execution_count": 11,
     "metadata": {},
     "output_type": "execute_result"
    }
   ],
   "source": [
    "from qiskit.test.mock import FakeSantiago\n",
    "santiago = FakeSantiago()\n",
    "test_qv(santiago, [0,1,2,3], ncircuits=150, nshots=50)"
   ]
  },
  {
   "cell_type": "markdown",
   "metadata": {},
   "source": [
    "<!-- ::: q-block.exercise -->\n",
    "\n",
    "## Exercise\n",
    "    \n",
    "What is the maximum quantum volume you can achieve using a simulated Athens device? What affect does changing the list of qubits have? What affect does changing the optimization level have? Can you do anything to improve the score?\n",
    "\n",
    "[Try in IBM Quantum Lab](https://quantum-computing.ibm.com/jupyter)\n",
    "\n",
    "<!-- ::: -->\n"
   ]
  },
  {
   "cell_type": "markdown",
   "metadata": {},
   "source": [
    "## Using Qiskit’s quantum volume tools\n",
    "\n",
    "Qiskit includes tools to check quantum volume. You’ve already seen the <code>qv_circuits</code> function, Qiskit also provides a fitter to test the quantum volume for us. To use it, we first need to create a list of circuits to use as we did before:"
   ]
  },
  {
   "cell_type": "code",
   "execution_count": null,
   "metadata": {},
   "outputs": [],
   "source": [
    "from qiskit.ignis.verification.quantum_volume import qv_circuits\n",
    "qubit_lists = [[0,1],          # QV 4\n",
    "               [0,1,2],        # QV 8\n",
    "               [0,1,2,6],      # QV 16\n",
    "               [0,1,2,6,3]]    # QV 32\n",
    "ncircuits = 150  # number of circuits to generate for each qubit list\n",
    "qv_qc_list, qv_qc_list_nomeas = qv_circuits(qubit_lists, ncircuits)"
   ]
  },
  {
   "cell_type": "markdown",
   "metadata": {},
   "source": [
    "Next, we simulate all our circuits using Qiskit’s statevector simulator and save the results to a list:"
   ]
  },
  {
   "cell_type": "code",
   "execution_count": 13,
   "metadata": {},
   "outputs": [
    {
     "name": "stdout",
     "output_type": "stream",
     "text": [
      "Simulating trials:\n",
      "[######################################################################################################################################################]\n",
      "Done!\n"
     ]
    }
   ],
   "source": [
    "from qiskit import Aer, assemble, transpile\n",
    "sv_simulator = Aer.get_backend('statevector_simulator')\n",
    "ideal_results_list = []\n",
    "print('Simulating trials:\\n[', end=\"\")\n",
    "for trial in range(ncircuits):\n",
    "    print('#', end=\"\")\n",
    "    t_qc = transpile(qv_qc_list_nomeas[trial], sv_simulator)\n",
    "    qobj = assemble(t_qc)\n",
    "    result = sv_simulator.run(qobj).result()\n",
    "    ideal_results_list.append(result)\n",
    "print(']')\n",
    "print('Done!')"
   ]
  },
  {
   "cell_type": "markdown",
   "metadata": {},
   "source": [
    "We can now initialise the fitter and add the ideal results:"
   ]
  },
  {
   "cell_type": "code",
   "execution_count": 14,
   "metadata": {},
   "outputs": [],
   "source": [
    "from qiskit.ignis.verification.quantum_volume import QVFitter\n",
    "qv_fitter = QVFitter(qubit_lists=qubit_lists)\n",
    "qv_fitter.add_statevectors(ideal_results_list)"
   ]
  },
  {
   "cell_type": "markdown",
   "metadata": {},
   "source": [
    "Next we need to specify which device we’ll perform the experiment on. Here we’re going to use a mock Boeblingen device:"
   ]
  },
  {
   "cell_type": "code",
   "execution_count": 15,
   "metadata": {},
   "outputs": [],
   "source": [
    "from qiskit.test.mock import FakeBoeblingen\n",
    "boeblingen = FakeBoeblingen()"
   ]
  },
  {
   "cell_type": "markdown",
   "metadata": {},
   "source": [
    "And we now execute the circuits on the device we’re testing, saving the results in the same way (this may take a while)."
   ]
  },
  {
   "cell_type": "code",
   "execution_count": 16,
   "metadata": {},
   "outputs": [
    {
     "name": "stdout",
     "output_type": "stream",
     "text": [
      "Running trials:\n",
      "[######################################################################################################################################################]\n",
      "Done!\n"
     ]
    }
   ],
   "source": [
    "device_results_list = []\n",
    "print('Running trials:\\n[', end=\"\")\n",
    "for trial in range(ncircuits):\n",
    "    print('#', end=\"\")\n",
    "    t_qc = transpile(qv_qc_list[trial], boeblingen, optimization_level=3)\n",
    "    qobj = assemble(t_qc)\n",
    "    result = boeblingen.run(qobj).result()\n",
    "    device_results_list.append(result)\n",
    "print(']')\n",
    "print('Done!')"
   ]
  },
  {
   "cell_type": "markdown",
   "metadata": {},
   "source": [
    "And we add these results to the fitter:"
   ]
  },
  {
   "cell_type": "code",
   "execution_count": 17,
   "metadata": {},
   "outputs": [],
   "source": [
    "qv_fitter.add_data(device_results_list)"
   ]
  },
  {
   "cell_type": "markdown",
   "metadata": {},
   "source": [
    "Finally, the fitter will plot this nicely for us, and we can see the results of our experiment. Here, we can see the mock Boeblingen device achieves QV4, but just misses out on QV8 as the error bars overlap the threshold."
   ]
  },
  {
   "cell_type": "code",
   "execution_count": 18,
   "metadata": {},
   "outputs": [
    {
     "data": {
      "image/png": "[encoded data removed]",
      "text/plain": [
       "<Figure size 720x432 with 1 Axes>"
      ]
     },
     "metadata": {
      "needs_background": "light"
     },
     "output_type": "display_data"
    }
   ],
   "source": [
    "import matplotlib.pyplot as plt\n",
    "plt.figure(figsize=(10, 6))\n",
    "ax = plt.gca()\n",
    "\n",
    "qv_fitter.plot_qv_data(ax=ax, show_plt=False)\n",
    "\n",
    "# Add title and label\n",
    "ax.set_title(f\"Quantum Volume for up to {len(qubit_lists[-1])} Qubits\\n\"\n",
    "             f\"and {ncircuits} Trials\", fontsize=18)\n",
    "\n",
    "plt.show()"
   ]
  },
  {
   "cell_type": "markdown",
   "metadata": {},
   "source": [
    "From these results, it appears Boeblingen has the potential to acheive up to QV16 with these qubit subsets. In this case, we might be able to achieve a higher QV by repeating the experiment with a greater number of circuits. This would reduce the size of the error bars, we just need to hope the true heavy output probability for QV16 lies above 2/3.\n",
    "\n",
    "Below are the results from a different experiement with mock Boeblingen and a higher number of circuits.\n",
    "\n",
    "![Quantum volume 64 on a mock Boeblingen device](images/qv_one_i_did_earlier.svg)\n",
    "\n",
    "Different qubit subsets have different connectivity and error rates, and so will give different results. Here we can see Boeblingen achieving QV8, and also performing better at the QV16 and QV32 tests, but the error bars are still too big to pass."
   ]
  },
  {
   "cell_type": "markdown",
   "metadata": {},
   "source": [
    "It’s easy to imagine that, with a smart selection of qubits and a large number of circuits, we could also achieve QV16 on the mock Boeblingen device as IBM has achieved on the real Boeblingen device. To provide another example, below is an image taken from IBM’s demonstration of QV64 on the Montreal device [2].\n",
    "\n",
    "![Quantum volume of 64 measured on IBM Quantum's Montreal device](images/qv_montreal.png)"
   ]
  },
  {
   "cell_type": "markdown",
   "metadata": {},
   "source": [
    "You can read more about how this was achieved in the paper [here](https://arxiv.org/pdf/2008.08571.pdf).\n",
    "\n",
    "## References\n",
    "\n",
    "[1] Andrew W. Cross, Lev S. Bishop, Sarah Sheldon, Paul D. Nation, and Jay M. Gambetta, Validating quantum computers using randomized model circuits, Phys. Rev. A 100, 032328 (2019). https://arxiv.org/pdf/1811.12926\n",
    "\n",
    "[2] Petar Jurcevic et. al. Demonstration of quantum volume 64 on asuperconducting quantum computing system\n",
    "https://arxiv.org/pdf/2008.08571.pdf"
   ]
  }
 ],
 "metadata": {
  "celltoolbar": "Edit Metadata",
  "kernelspec": {
   "display_name": "Python 3",
   "language": "python",
   "name": "python3"
  },
  "language_info": {
   "codemirror_mode": {
    "name": "ipython",
    "version": 3
   },
   "file_extension": ".py",
   "mimetype": "text/x-python",
   "name": "python",
   "nbconvert_exporter": "python",
   "pygments_lexer": "ipython3",
   "version": "3.7.0"
  },
  "textbook": {
   "include_output": true
  }
 },
 "nbformat": 4,
 "nbformat_minor": 2
}